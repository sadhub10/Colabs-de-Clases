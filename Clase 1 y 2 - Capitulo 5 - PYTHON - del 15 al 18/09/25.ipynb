{
  "nbformat": 4,
  "nbformat_minor": 0,
  "metadata": {
    "colab": {
      "provenance": [],
      "authorship_tag": "ABX9TyM7TwCTcO2qT7pxADsKn+91",
      "include_colab_link": true
    },
    "kernelspec": {
      "name": "python3",
      "display_name": "Python 3"
    },
    "language_info": {
      "name": "python"
    }
  },
  "cells": [
    {
      "cell_type": "markdown",
      "metadata": {
        "id": "view-in-github",
        "colab_type": "text"
      },
      "source": [
        "<a href=\"https://colab.research.google.com/github/sadhub10/Colabs-de-Clases/blob/main/Clase%201%20y%202%20-%20Capitulo%205%20-%20PYTHON%20-%20del%2015%20al%2018/09/25.ipynb\" target=\"_parent\"><img src=\"https://colab.research.google.com/assets/colab-badge.svg\" alt=\"Open In Colab\"/></a>"
      ]
    },
    {
      "cell_type": "markdown",
      "source": [
        "# **Algoritmos de Ordenamiento Simples**"
      ],
      "metadata": {
        "id": "fqy459T8vTeo"
      }
    },
    {
      "cell_type": "markdown",
      "source": [
        "### ¿Qué es el Ordenamiento?\n",
        " Se define el ordenamiento como el proceso de organizar los elementos de una colección (como un arreglo o una lista) en un orden específico, ya sea ascendente o descendente."
      ],
      "metadata": {
        "id": "CDjIHnIAwdd3"
      }
    },
    {
      "cell_type": "markdown",
      "source": [
        "### Importancia\n",
        " Se explica por qué es crucial analizar la eficiencia de los algoritmos para saber cómo se comportarán con grandes cantidades de datos."
      ],
      "metadata": {
        "id": "MTf0vxQQwv9d"
      }
    },
    {
      "cell_type": "markdown",
      "source": [
        "### Notación de la Complejidad Temporal (Big O)\n",
        " Se introduce la notación Big O como una forma de clasificar los algoritmos por su rendimiento en el peor de los casos. Se discute la diferencia entre una complejidad cuadrática, como O(n²), y una complejidad más eficiente, como O(n log n)."
      ],
      "metadata": {
        "id": "bRdfvXJFw2l1"
      }
    },
    {
      "cell_type": "markdown",
      "source": [
        "### El Problema del Ordenamiento\n",
        "Se describe la tarea de organizar los elementos de una colección, como una lista o un arreglo, en una secuencia específica (por ejemplo, ascendente). Se plantea como un problema fundamental en informática con aplicaciones en la vida cotidiana."
      ],
      "metadata": {
        "id": "V73LLuhmxvvt"
      }
    },
    {
      "cell_type": "markdown",
      "source": [
        "## **Práctica: Implementación en Python**"
      ],
      "metadata": {
        "id": "OHJJFYHe0GAH"
      }
    },
    {
      "cell_type": "markdown",
      "source": [
        "# ORDENAMIENTO POR BURBUJA (Bubble Sort)"
      ],
      "metadata": {
        "id": "glmtVlbE_5El"
      }
    },
    {
      "cell_type": "markdown",
      "source": [
        "### Analogía\n",
        "Una excelente forma de entenderlo es la de las burbujas de aire en una bebida gaseosa.  Las burbujas (los elementos más grandes) suben lentamente y de una en una hasta la superficie (su posición final en el arreglo). El algoritmo realiza este mismo proceso, moviendo los elementos más grandes hacia la última posición de la lista en cada iteración.\n",
        "\n"
      ],
      "metadata": {
        "id": "AWa_448rC0a7"
      }
    },
    {
      "cell_type": "markdown",
      "source": [
        "### 📉 Complejidad y eficiencia\n",
        "El ordenamiento por burbuja es conocido por su baja eficiencia. Su complejidad temporal es O(n²), lo que significa que el tiempo que tarda en ejecutarse crece de forma cuadrática a medida que el número de elementos (n) aumenta. Esto lo hace muy lento para listas grandes. Por esta razón, no se utiliza en aplicaciones prácticas donde la eficiencia es un factor crítico, pero es una excelente herramienta educativa para introducir los conceptos básicos del ordenamiento."
      ],
      "metadata": {
        "id": "cIuOOmIkC5Cb"
      }
    },
    {
      "cell_type": "markdown",
      "source": [
        "### Ejemplo 1:El Intercambio Manual\n",
        "Se utiliza una variable temporal (temp) para realizar el intercambio de elementos. Es una forma clara de mostrar la lógica subyacente del swap"
      ],
      "metadata": {
        "id": "_WuX9-gyBwVc"
      }
    },
    {
      "cell_type": "code",
      "source": [
        "# Intercambio manual\n",
        "arr = [5,3,6,8,10,2]\n",
        "\n",
        "for i in range(len(arr)):\n",
        "   for j in range(len(arr)-i-1):\n",
        "      if arr[j]> arr[j+1]:\n",
        "#Intercambio de posiciones agregando temp\n",
        "          temp = arr[j]\n",
        "          arr[j] = arr[j+1]\n",
        "          arr[j+1] = temp\n",
        "print(arr)"
      ],
      "metadata": {
        "colab": {
          "base_uri": "https://localhost:8080/"
        },
        "id": "PqulPbwqkeBi",
        "outputId": "06eecd66-3302-4acd-e9cb-c9ea7f2a1089"
      },
      "execution_count": null,
      "outputs": [
        {
          "output_type": "stream",
          "name": "stdout",
          "text": [
            "[2, 3, 5, 6, 8, 10]\n"
          ]
        }
      ]
    },
    {
      "cell_type": "markdown",
      "source": [
        "### Ejemplo 2: El \"Swap\" de Python\n",
        "En este ejemplo se introduce una sintaxis de Python más elegante para realizar el intercambio, lo que hace el código más limpio y legible. Aunque la lógica es la misma, es importante mostrar esta característica del lenguaje."
      ],
      "metadata": {
        "id": "RHvdf2GyB-SW"
      }
    },
    {
      "cell_type": "code",
      "source": [
        "# Intercambio con la sintaxis de Python\n",
        "arr = [5, 3, 6, 8, 10, 2]\n",
        "\n",
        "for i in range(len(arr)):\n",
        "    for j in range(len(arr) - i - 1):\n",
        "        # Comparamos elementos adyacentes\n",
        "        if arr[j] > arr[j + 1]:\n",
        "            # Intercambio directo de posiciones\n",
        "            arr[j], arr[j + 1] = arr[j + 1], arr[j]\n",
        "print(arr)"
      ],
      "metadata": {
        "colab": {
          "base_uri": "https://localhost:8080/"
        },
        "id": "Z4wZB-QIBqyN",
        "outputId": "426794b7-a6f1-4879-ff19-adfd2a9097de"
      },
      "execution_count": null,
      "outputs": [
        {
          "output_type": "stream",
          "name": "stdout",
          "text": [
            "[2, 3, 5, 6, 8, 10]\n"
          ]
        }
      ]
    },
    {
      "cell_type": "markdown",
      "source": [
        "#### Con Python:\n",
        "La sintaxis de Python es mucho más simple y directa.  Cuando escribimos arr[j], arr[j + 1] = arr[j + 1], arr[j], el intérprete de Python hace esto en un solo paso:\n",
        "\n",
        "Evalúa las expresiones del lado derecho (arr[j + 1] y arr[j]).\n",
        "\n",
        "Crea una tupla temporal en memoria con esos dos valores.\n",
        "\n",
        "Asigna los valores de esa tupla a las variables del lado izquierdo, arr[j] y arr[j + 1].\n",
        "\n",
        "Esto es mucho más limpio y eficiente porque todo se maneja internamente. No necesitas escribir el código de tres líneas con la variable temp. Para el programador, el resultado es un intercambio \"mágico\" y directo que funciona de manera instantánea."
      ],
      "metadata": {
        "id": "1mF78znFV8UT"
      }
    },
    {
      "cell_type": "markdown",
      "source": [
        "### Ejemplo 3:La Optimización con una Bandera\n",
        "Este ejemplo es crucial para explicar cómo mejorar la eficiencia del algoritmo de burbuja. Introduce una bandera (swapped) que detecta si la lista ya está ordenada, lo que evita pasadas innecesarias y detiene el algoritmo antes de tiempo. Esto es especialmente útil para listas que ya están casi ordenadas."
      ],
      "metadata": {
        "id": "_2HqvcB1DaEq"
      }
    },
    {
      "cell_type": "code",
      "source": [
        "# Algoritmo optimizado\n",
        "arr = [3, 7, 6, 8, 10, 2]\n",
        "n = len(arr)\n",
        "# Inicializamos la bandera 'swapped' en True.\n",
        "swapped = True\n",
        "# El bucle externo se ejecuta solo mientras se realicen intercambios\n",
        "while swapped:\n",
        "    swapped = False\n",
        "    for i in range(n - 1):\n",
        "        # Comparamos elementos adyacentes\n",
        "        if arr[i] > arr[i + 1]:\n",
        "            # Realizamos el intercambio\n",
        "            arr[i], arr[i + 1] = arr[i + 1], arr[i]\n",
        "            # Si se realiza un intercambio, la bandera es True\n",
        "            swapped = True\n",
        "print(arr)"
      ],
      "metadata": {
        "colab": {
          "base_uri": "https://localhost:8080/"
        },
        "id": "a5BSaw2VDzgT",
        "outputId": "f984e32b-7fbb-4c27-f857-560e45d8eda0"
      },
      "execution_count": null,
      "outputs": [
        {
          "output_type": "stream",
          "name": "stdout",
          "text": [
            "[2, 3, 6, 7, 8, 10]\n"
          ]
        }
      ]
    },
    {
      "cell_type": "markdown",
      "source": [
        "¿Qué es una bandera en programación? 🚩\n",
        "Una bandera, o flag, es una variable, generalmente de tipo booleano (True o False), que se usa para recordar el estado de algo o si ha ocurrido un evento específico."
      ],
      "metadata": {
        "id": "cIRWkH0cYXo3"
      }
    },
    {
      "cell_type": "markdown",
      "source": [
        "En el código del ordenamiento por burbuja:\n",
        "\n",
        "* La bandera se llama swapped.\n",
        "\n",
        "* Su valor inicial es True (swapped = True).\n",
        "\n",
        "* Esto le dice al bucle while que, al menos la primera vez, debe comenzar a ejecutarse.\n",
        "\n"
      ],
      "metadata": {
        "id": "BESqce1HYeDn"
      }
    },
    {
      "cell_type": "code",
      "source": [
        "#Ejemplo de FALSE\n",
        "# Lista de ejemplo casi ordenada\n",
        "arr = [1, 2, 4, 3, 5, 6]\n",
        "n = len(arr)\n",
        "\n",
        "swapped = True\n",
        "print(f\"Lista inicial: {arr}\")\n",
        "\n",
        "# El bucle principal comienza\n",
        "while swapped:\n",
        "    # Reiniciamos la bandera a False al inicio de la pasada\n",
        "    swapped = False\n",
        "    print(\"\\n--- Nueva pasada ---\")\n",
        "    # Recorremos la lista\n",
        "    for i in range(n - 1):\n",
        "        # Comparamos\n",
        "        if arr[i] > arr[i + 1]:\n",
        "            # Intercambiamos solo el par\n",
        "            arr[i], arr[i + 1] = arr[i + 1], arr[i]\n",
        "            # La bandera se vuelve True\n",
        "            swapped = True\n",
        "            print(f\"Intercambio: {arr}\")\n",
        "\n",
        "    # Si 'swapped' es False al final del bucle interno, el 'while' terminará.\n",
        "    print(f\"Fin de la pasada. ¿Hubo intercambios? {swapped}\")\n",
        "\n",
        "print(f\"\\nLista final y ordenada: {arr}\")"
      ],
      "metadata": {
        "colab": {
          "base_uri": "https://localhost:8080/"
        },
        "id": "tAXkoHNfZqRf",
        "outputId": "2147bb26-3463-4d56-d0ee-d8e88305b90f"
      },
      "execution_count": null,
      "outputs": [
        {
          "output_type": "stream",
          "name": "stdout",
          "text": [
            "Lista inicial: [1, 2, 4, 3, 5, 6]\n",
            "\n",
            "--- Nueva pasada ---\n",
            "Intercambio: [1, 2, 3, 4, 5, 6]\n",
            "Fin de la pasada. ¿Hubo intercambios? True\n",
            "\n",
            "--- Nueva pasada ---\n",
            "Fin de la pasada. ¿Hubo intercambios? False\n",
            "\n",
            "Lista final y ordenada: [1, 2, 3, 4, 5, 6]\n"
          ]
        }
      ]
    },
    {
      "cell_type": "code",
      "source": [
        "# Ejemplo de TRUE\n",
        "# Lista de ejemplo desordenada\n",
        "arr = [5, 3, 8, 1, 10, 2, 9, 90, 6, 78, 23]\n",
        "n = len(arr)\n",
        "\n",
        "swapped = True\n",
        "print(f\"Lista inicial: {arr}\")\n",
        "\n",
        "# El bucle principal comienza\n",
        "while swapped:\n",
        "    # Reiniciamos la bandera a False\n",
        "    swapped = False\n",
        "    print(\"\\n--- Nueva pasada ---\")\n",
        "\n",
        "    # Recorremos la lista\n",
        "    for i in range(n - 1):\n",
        "        # Comparamos\n",
        "        if arr[i] > arr[i + 1]:\n",
        "            # Intercambiamos\n",
        "            arr[i], arr[i + 1] = arr[i + 1], arr[i]\n",
        "            # La bandera se vuelve True\n",
        "            swapped = True\n",
        "            print(f\"Intercambio: {arr}\")\n",
        "\n",
        "    # La bandera será True si hubo algún intercambio en esta pasada\n",
        "    print(f\"Fin de la pasada. ¿Hubo intercambios? {swapped}\")\n",
        "\n",
        "print(f\"\\nLista final y ordenada: {arr}\")"
      ],
      "metadata": {
        "colab": {
          "base_uri": "https://localhost:8080/"
        },
        "id": "k7zXlkghZwGt",
        "outputId": "eb940cc3-0f65-4082-efc3-09a02bb505af"
      },
      "execution_count": null,
      "outputs": [
        {
          "output_type": "stream",
          "name": "stdout",
          "text": [
            "Lista inicial: [5, 3, 8, 1, 10, 2, 9, 90, 6, 78, 23]\n",
            "\n",
            "--- Nueva pasada ---\n",
            "Intercambio: [3, 5, 8, 1, 10, 2, 9, 90, 6, 78, 23]\n",
            "Intercambio: [3, 5, 1, 8, 10, 2, 9, 90, 6, 78, 23]\n",
            "Intercambio: [3, 5, 1, 8, 2, 10, 9, 90, 6, 78, 23]\n",
            "Intercambio: [3, 5, 1, 8, 2, 9, 10, 90, 6, 78, 23]\n",
            "Intercambio: [3, 5, 1, 8, 2, 9, 10, 6, 90, 78, 23]\n",
            "Intercambio: [3, 5, 1, 8, 2, 9, 10, 6, 78, 90, 23]\n",
            "Intercambio: [3, 5, 1, 8, 2, 9, 10, 6, 78, 23, 90]\n",
            "Fin de la pasada. ¿Hubo intercambios? True\n",
            "\n",
            "--- Nueva pasada ---\n",
            "Intercambio: [3, 1, 5, 8, 2, 9, 10, 6, 78, 23, 90]\n",
            "Intercambio: [3, 1, 5, 2, 8, 9, 10, 6, 78, 23, 90]\n",
            "Intercambio: [3, 1, 5, 2, 8, 9, 6, 10, 78, 23, 90]\n",
            "Intercambio: [3, 1, 5, 2, 8, 9, 6, 10, 23, 78, 90]\n",
            "Fin de la pasada. ¿Hubo intercambios? True\n",
            "\n",
            "--- Nueva pasada ---\n",
            "Intercambio: [1, 3, 5, 2, 8, 9, 6, 10, 23, 78, 90]\n",
            "Intercambio: [1, 3, 2, 5, 8, 9, 6, 10, 23, 78, 90]\n",
            "Intercambio: [1, 3, 2, 5, 8, 6, 9, 10, 23, 78, 90]\n",
            "Fin de la pasada. ¿Hubo intercambios? True\n",
            "\n",
            "--- Nueva pasada ---\n",
            "Intercambio: [1, 2, 3, 5, 8, 6, 9, 10, 23, 78, 90]\n",
            "Intercambio: [1, 2, 3, 5, 6, 8, 9, 10, 23, 78, 90]\n",
            "Fin de la pasada. ¿Hubo intercambios? True\n",
            "\n",
            "--- Nueva pasada ---\n",
            "Fin de la pasada. ¿Hubo intercambios? False\n",
            "\n",
            "Lista final y ordenada: [1, 2, 3, 5, 6, 8, 9, 10, 23, 78, 90]\n"
          ]
        }
      ]
    },
    {
      "cell_type": "markdown",
      "source": [
        "### Ejemplos (Definiendo Buble_sort)"
      ],
      "metadata": {
        "id": "yVryQJHoFkGp"
      }
    },
    {
      "cell_type": "markdown",
      "source": [
        "### El Intercambio Manual"
      ],
      "metadata": {
        "id": "N5BzxAxgdoDk"
      }
    },
    {
      "cell_type": "code",
      "source": [
        "def bubble_sort_manual_swap(arr):\n",
        "    n = len(arr)\n",
        "    for i in range(n):\n",
        "        for j in range(0, n - i - 1):\n",
        "            # Comparamos si el elemento actual es mayor que el siguiente\n",
        "            if arr[j] > arr[j + 1]:\n",
        "                # Realizamos el intercambio manual de los elementos\n",
        "                temp = arr[j]\n",
        "                arr[j] = arr[j + 1]\n",
        "                arr[j + 1] = temp\n",
        "\n",
        "# Ejemplo de uso\n",
        "lista = [6, 4, 1, 8, 2, 9]\n",
        "print(f\"Lista original: {lista}\")\n",
        "bubble_sort_manual_swap(lista)\n",
        "print(f\"Lista ordenada: {lista}\")"
      ],
      "metadata": {
        "id": "jPAfHJOadCg3",
        "colab": {
          "base_uri": "https://localhost:8080/"
        },
        "outputId": "1231f114-5bc0-4c81-97f7-39e15548e392"
      },
      "execution_count": null,
      "outputs": [
        {
          "output_type": "stream",
          "name": "stdout",
          "text": [
            "Lista original: [6, 4, 1, 8, 2, 9]\n",
            "Lista ordenada: [1, 2, 4, 6, 8, 9]\n"
          ]
        }
      ]
    },
    {
      "cell_type": "markdown",
      "source": [
        "### El \"Swap\" de Python"
      ],
      "metadata": {
        "id": "I5NO7gQnd0UM"
      }
    },
    {
      "cell_type": "code",
      "source": [
        "def bubble_sort_basico(arr):\n",
        "    n = len(arr)\n",
        "    # Recorrer todos los elementos del array\n",
        "    for i in range(n):\n",
        "        # El bucle interno va de 0 hasta n-i-1\n",
        "        # para que la porción ya ordenada al final del array no se recorra de nuevo.\n",
        "        for j in range(0, n - i - 1):\n",
        "            # Comparar el elemento actual con el siguiente\n",
        "            if arr[j] > arr[j+1]:\n",
        "                # Si están en el orden incorrecto, intercambiarlos\n",
        "                arr[j], arr[j+1] = arr[j+1], arr[j]\n",
        "    return arr\n",
        "\n",
        "# Lista de ejemplo\n",
        "lista = [64, 34, 25, 12, 22, 11, 90]\n",
        "print(f\"Lista original: {lista}\")\n",
        "bubble_sort_basico(lista)\n",
        "print(f\"Lista ordenada: {lista}\")"
      ],
      "metadata": {
        "colab": {
          "base_uri": "https://localhost:8080/"
        },
        "id": "9O-wtaNfAkSs",
        "outputId": "af0fc71f-5425-4f85-c48e-1978766c7108"
      },
      "execution_count": null,
      "outputs": [
        {
          "output_type": "stream",
          "name": "stdout",
          "text": [
            "Lista original: [64, 34, 25, 12, 22, 11, 90]\n",
            "Lista ordenada: [11, 12, 22, 25, 34, 64, 90]\n"
          ]
        }
      ]
    },
    {
      "cell_type": "markdown",
      "source": [
        "### Optimización con una Bandera"
      ],
      "metadata": {
        "id": "2j3NWAKpd1ck"
      }
    },
    {
      "cell_type": "code",
      "source": [
        "def bubble_sort_con_bandera(arr):\n",
        "    n = len(arr)\n",
        "    swapped = True\n",
        "    # Bucle externo que se ejecuta mientras se realicen intercambios\n",
        "    while swapped:\n",
        "        swapped = False\n",
        "        # Recorremos la lista, ignorando los elementos que ya están ordenados al final\n",
        "        for i in range(n - 1):\n",
        "            # Comparamos elementos adyacentes\n",
        "            if arr[i] > arr[i + 1]:\n",
        "                # Realizamos el intercambio\n",
        "                arr[i], arr[i + 1] = arr[i + 1], arr[i]\n",
        "                # Si se realizó un intercambio, cambiamos la bandera a True\n",
        "                swapped = True\n",
        "    return arr\n",
        "\n",
        "# Ejemplo de uso\n",
        "lista = [1, 2, 4, 3, 5, 6] # Lista casi ordenada\n",
        "print(f\"Lista original: {lista}\")\n",
        "bubble_sort_con_bandera(lista)\n",
        "print(f\"Lista ordenada: {lista}\")"
      ],
      "metadata": {
        "colab": {
          "base_uri": "https://localhost:8080/"
        },
        "id": "OlqRuVvRd_3X",
        "outputId": "a670b06b-7c9b-4b61-b715-9a58bea97708"
      },
      "execution_count": null,
      "outputs": [
        {
          "output_type": "stream",
          "name": "stdout",
          "text": [
            "Lista original: [1, 2, 4, 3, 5, 6]\n",
            "Lista ordenada: [1, 2, 3, 4, 5, 6]\n"
          ]
        }
      ]
    },
    {
      "cell_type": "markdown",
      "source": [
        "# ORDENAMIENTO POR SELECCIÓN (Selection Sort)"
      ],
      "metadata": {
        "id": "IW-jWlX7e7uD"
      }
    },
    {
      "cell_type": "markdown",
      "source": [
        "El ordenamiento por selección (Selection Sort) es otro algoritmo de ordenamiento simple y fácil de entender. Se diferencia del ordenamiento por burbuja en su estrategia para colocar los elementos en su lugar."
      ],
      "metadata": {
        "id": "E4qG9ep-knX4"
      }
    },
    {
      "cell_type": "markdown",
      "source": [
        "### 📌 Concepto y funcionamiento\n",
        "El algoritmo de selección funciona de la siguiente manera:\n",
        "\n",
        "Busca el elemento más pequeño de la lista completa.\n",
        "\n",
        "Una vez que lo encuentra, lo intercambia con el elemento en la primera posición de la lista.\n",
        "\n",
        "Luego, repite el mismo proceso, pero esta vez buscando el elemento más pequeño del resto de la lista (la porción no ordenada).\n",
        "\n",
        "Lo intercambia con el segundo elemento de la lista.\n",
        "\n",
        "Este proceso se repite hasta que toda la lista esté ordenada.\n",
        "\n",
        "En cada pasada, el algoritmo garantiza que un elemento esté en su posición final, a diferencia del de burbuja, que puede requerir varias pasadas para mover un solo elemento al final."
      ],
      "metadata": {
        "id": "mULXynrpkoCw"
      }
    },
    {
      "cell_type": "markdown",
      "source": [
        "### ⚽ Analogía\n",
        "Una buena analogía para el ordenamiento por selección es la de un reclutador de un equipo de fútbol . El reclutador busca al mejor jugador de todo el grupo, lo selecciona y lo coloca en la primera posición. Luego busca al segundo mejor jugador de los que quedan, lo selecciona y lo coloca en la segunda posición, y así sucesivamente."
      ],
      "metadata": {
        "id": "wfXLeGQ7kq5I"
      }
    },
    {
      "cell_type": "markdown",
      "source": [
        "### 📉 Complejidad y eficiencia\n",
        "Al igual que el ordenamiento por burbuja, el ordenamiento por selección tiene una complejidad temporal de O(n²), lo que lo hace ineficiente para listas muy grandes. A pesar de esto, se considera más estable en términos de rendimiento que el de burbuja, ya que el número de intercambios es significativamente menor. Esto puede ser una ventaja en situaciones donde el costo de mover elementos es muy alto."
      ],
      "metadata": {
        "id": "rCyYSML5kzYy"
      }
    },
    {
      "cell_type": "code",
      "source": [
        "# Lista de ejemplo\n",
        "arr = [4, 2, 7, 12, 9, 1]\n",
        "\n",
        "# Bucle externo que recorre la lista completa\n",
        "for i in range(len(arr)):\n",
        "    # Inicializa 'minimo' con el índice de la posición actual\n",
        "    minimo = i\n",
        "\n",
        "    # Bucle interno que busca el elemento más pequeño en el resto de la lista\n",
        "    for j in range(i + 1, len(arr)):\n",
        "        # Condición para ordenar de forma ascendente:\n",
        "        # Si el elemento en la posición j es menor que el que se ha considerado\n",
        "        # el más pequeño hasta ahora, actualizamos el índice del mínimo.\n",
        "        if arr[j] < arr[minimo]:\n",
        "            minimo = j\n",
        "\n",
        "    # Intercambio: después de encontrar el mínimo, lo intercambiamos con el\n",
        "    # elemento en la posición actual 'i'.\n",
        "    # Usamos una variable temporal para el intercambio.\n",
        "    temp = arr[i]\n",
        "    arr[i] = arr[minimo]\n",
        "    arr[minimo] = temp\n",
        "\n",
        "# Imprime la lista ordenada\n",
        "print(arr)"
      ],
      "metadata": {
        "colab": {
          "base_uri": "https://localhost:8080/"
        },
        "id": "eHNAc5SNou-2",
        "outputId": "bd3b9a3d-3e4a-4326-a23c-c4663fb0b961"
      },
      "execution_count": null,
      "outputs": [
        {
          "output_type": "stream",
          "name": "stdout",
          "text": [
            "[1, 2, 4, 7, 9, 12]\n"
          ]
        }
      ]
    },
    {
      "cell_type": "markdown",
      "source": [
        "### Ejemplo 1: El Código Fundamental\n",
        "La lógica es clara: en cada pasada, busca el elemento más pequeño del subarreglo no ordenado y lo coloca en su lugar correcto al principio."
      ],
      "metadata": {
        "id": "QSpGuAmxlF8f"
      }
    },
    {
      "cell_type": "code",
      "source": [
        "def selection_sort_(arr):\n",
        "    n = len(arr)\n",
        "    # Recorre el array\n",
        "    for i in range(n):\n",
        "        # Encontrar el índice del elemento mínimo en el resto del array\n",
        "        minimo = i\n",
        "        for j in range(i + 1, n):\n",
        "            if arr[j] < arr[minimo]:\n",
        "                minimo = j\n",
        "        # Intercambiar el elemento mínimo con el primer elemento no ordenado\n",
        "        arr[i], arr[minimo] = arr[minimo], arr[i]\n",
        "    return arr\n",
        "\n",
        "# Ejemplo de uso\n",
        "lista = [64, 25, 12, 22, 11]\n",
        "print(f\"Lista original: {lista}\")\n",
        "selection_sort_(lista)\n",
        "print(f\"Lista ordenada: {lista}\")"
      ],
      "metadata": {
        "colab": {
          "base_uri": "https://localhost:8080/"
        },
        "id": "XWqxMtvLlFuq",
        "outputId": "f5316692-3998-4e62-c434-85b4ea45bdb6"
      },
      "execution_count": null,
      "outputs": [
        {
          "output_type": "stream",
          "name": "stdout",
          "text": [
            "Lista original: [64, 25, 12, 22, 11]\n",
            "Lista ordenada: [11, 12, 22, 25, 64]\n"
          ]
        }
      ]
    },
    {
      "cell_type": "markdown",
      "source": [
        "### Ejemplo 2: Con Impresiones de Seguimiento\n",
        "Este código muestra el estado del array en cada paso, lo que nos permite visualizar cómo el algoritmo encuentra el elemento más pequeño y lo intercambia para ir construyendo la porción ordenada."
      ],
      "metadata": {
        "id": "tFaUAG-0lTjn"
      }
    },
    {
      "cell_type": "code",
      "source": [
        "def selection_sort_seguimiento(arr):\n",
        "    n = len(arr)\n",
        "    print(f\"Lista inicial: {arr}\")\n",
        "    for i in range(n):\n",
        "        minimo = i\n",
        "        print(f\"\\nPasada {i+1}: Buscando el elemento más pequeño a partir del índice {i}\")\n",
        "        for j in range(i + 1, n):\n",
        "            if arr[j] < arr[minimo]:\n",
        "                minimo = j\n",
        "\n",
        "        # Realizar el intercambio solo si se encontró un nuevo mínimo\n",
        "        if minimo != i:\n",
        "            print(f\"  > Se encontró el mínimo: {arr[minimo]} en el índice {minimo}. Se intercambia con {arr[i]}.\")\n",
        "            arr[i], arr[minimo] = arr[minimo], arr[i]\n",
        "\n",
        "        print(f\"Estado de la lista: {arr}\")\n",
        "    return arr\n",
        "\n",
        "# Ejemplo de uso\n",
        "lista = [64, 25, 12, 22, 11]\n",
        "selection_sort_seguimiento(lista)\n",
        "print(f\"\\nLista final: {lista}\")"
      ],
      "metadata": {
        "colab": {
          "base_uri": "https://localhost:8080/"
        },
        "id": "d1ROD86qlSxI",
        "outputId": "dbc3ae05-be8b-4561-86ed-69f780c56f98"
      },
      "execution_count": null,
      "outputs": [
        {
          "output_type": "stream",
          "name": "stdout",
          "text": [
            "Lista inicial: [64, 25, 12, 22, 11]\n",
            "\n",
            "Pasada 1: Buscando el elemento más pequeño a partir del índice 0\n",
            "  > Se encontró el mínimo: 11 en el índice 4. Se intercambia con 64.\n",
            "Estado de la lista: [11, 25, 12, 22, 64]\n",
            "\n",
            "Pasada 2: Buscando el elemento más pequeño a partir del índice 1\n",
            "  > Se encontró el mínimo: 12 en el índice 2. Se intercambia con 25.\n",
            "Estado de la lista: [11, 12, 25, 22, 64]\n",
            "\n",
            "Pasada 3: Buscando el elemento más pequeño a partir del índice 2\n",
            "  > Se encontró el mínimo: 22 en el índice 3. Se intercambia con 25.\n",
            "Estado de la lista: [11, 12, 22, 25, 64]\n",
            "\n",
            "Pasada 4: Buscando el elemento más pequeño a partir del índice 3\n",
            "Estado de la lista: [11, 12, 22, 25, 64]\n",
            "\n",
            "Pasada 5: Buscando el elemento más pequeño a partir del índice 4\n",
            "Estado de la lista: [11, 12, 22, 25, 64]\n",
            "\n",
            "Lista final: [11, 12, 22, 25, 64]\n"
          ]
        }
      ]
    },
    {
      "cell_type": "markdown",
      "source": [
        "### Ejemplo 2: Con Conteo de Intercambios\n",
        "Este ejemplo va un paso más allá al contar el número de comparaciones e intercambios. Es útil para ilustrar que el ordenamiento por selección realiza menos intercambios que el ordenamiento por burbuja, lo que puede ser una ventaja en ciertos casos."
      ],
      "metadata": {
        "id": "kt0ntevull-w"
      }
    },
    {
      "cell_type": "code",
      "source": [
        "def selection_sort_avanzado(arr):\n",
        "    n = len(arr)\n",
        "    intercambios = 0\n",
        "    comparaciones = 0\n",
        "    for i in range(n):\n",
        "        min_idx = i\n",
        "        for j in range(i + 1, n):\n",
        "            comparaciones += 1\n",
        "            if arr[j] < arr[min_idx]:\n",
        "                min_idx = j\n",
        "\n",
        "        # Un solo intercambio por pasada\n",
        "        if min_idx != i:\n",
        "            arr[i], arr[min_idx] = arr[min_idx], arr[i]\n",
        "            intercambios += 1\n",
        "\n",
        "    print(f\"\\nTotal de comparaciones: {comparaciones}\")\n",
        "    print(f\"Total de intercambios: {intercambios}\")\n",
        "    return arr\n",
        "\n",
        "# Ejemplo de uso\n",
        "lista = [64, 25, 12, 22, 11, 54, 33]\n",
        "print(f\"Lista original: {lista}\")\n",
        "selection_sort_avanzado(lista)\n",
        "print(f\"Lista ordenada: {lista}\")"
      ],
      "metadata": {
        "colab": {
          "base_uri": "https://localhost:8080/"
        },
        "id": "hsswmbwClyyu",
        "outputId": "c07359a9-682c-4830-d4ed-f6d9fdee6bda"
      },
      "execution_count": null,
      "outputs": [
        {
          "output_type": "stream",
          "name": "stdout",
          "text": [
            "Lista original: [64, 25, 12, 22, 11, 54, 33]\n",
            "\n",
            "Total de comparaciones: 21\n",
            "Total de intercambios: 4\n",
            "Lista ordenada: [11, 12, 22, 25, 33, 54, 64]\n"
          ]
        }
      ]
    },
    {
      "cell_type": "markdown",
      "source": [
        "# ORDENAMIENTO POR INSERCIÓN (Insertion sort)"
      ],
      "metadata": {
        "id": "f0I2g7vptKlb"
      }
    },
    {
      "cell_type": "markdown",
      "source": [
        "El ordenamiento por inserción (Insertion Sort) es un algoritmo de ordenamiento simple que se basa en la forma en que los humanos solemos organizar cosas, como una mano de cartas o una lista de nombres."
      ],
      "metadata": {
        "id": "TIZoHZYrFt3j"
      }
    },
    {
      "cell_type": "markdown",
      "source": [
        "### 📌 Concepto y funcionamiento\n",
        "La estrategia del ordenamiento por inserción es construir gradualmente una sublista ordenada a partir de los elementos del arreglo. Funciona de la siguiente manera:\n",
        "\n",
        "El algoritmo considera que el primer elemento de la lista ya está ordenado.\n",
        "\n",
        "Toma el segundo elemento y lo compara con el primero. Si es menor, lo inserta en la posición correcta, desplazando el primer elemento hacia la derecha.\n",
        "\n",
        "Toma el tercer elemento y lo inserta en la posición correcta dentro de la sublista de los dos primeros, que ya está ordenada.\n",
        "\n",
        "Este proceso se repite, tomando un elemento del lado no ordenado y \"insertándolo\" en la posición adecuada de la porción ya ordenada."
      ],
      "metadata": {
        "id": "soYjGv2MFxRk"
      }
    },
    {
      "cell_type": "markdown",
      "source": [
        "### 🃏 Analogía\n",
        "Una analogía perfecta para entenderlo es organizar una mano de cartas . Tomas una carta nueva de la pila y la insertas en el lugar correcto entre las cartas que ya tienes ordenadas en tu mano. Vas construyendo tu mano ordenada una carta a la vez."
      ],
      "metadata": {
        "id": "5Txb4mMcFzdK"
      }
    },
    {
      "cell_type": "markdown",
      "source": [
        "### 📉 Complejidad y eficiencia\n",
        "Al igual que el ordenamiento por burbuja y el de selección, el ordenamiento por inserción tiene una complejidad temporal de O(n²), lo que lo hace ineficiente para grandes conjuntos de datos.\n",
        "\n",
        "Sin embargo, tiene una ventaja importante: es muy eficiente para listas que ya están casi ordenadas. En el mejor de los casos (cuando la lista ya está ordenada), su complejidad es O(n), ya que solo necesita recorrer la lista una vez para confirmar que cada elemento está en su lugar."
      ],
      "metadata": {
        "id": "AGNkw84RF637"
      }
    },
    {
      "cell_type": "markdown",
      "source": [
        "### Ejemplo 1:"
      ],
      "metadata": {
        "id": "L4MdI8XZIoWR"
      }
    },
    {
      "cell_type": "code",
      "source": [
        "arr = [5, 3, 6, 8, 10, 2, 4, 6]\n",
        "print(arr)\n",
        "\n",
        "for j in range(1, len(arr)):\n",
        "    actual = arr[j]\n",
        "\n",
        "    i = j-1\n",
        "    while i >= 0 and arr[i]> actual:\n",
        "        arr[i+1] = arr[i]\n",
        "        i -= 1\n",
        "    arr[i+1] = actual\n",
        "print(arr)"
      ],
      "metadata": {
        "colab": {
          "base_uri": "https://localhost:8080/"
        },
        "id": "kTTWx9FiFvG-",
        "outputId": "55cf79dd-528b-4648-e5c8-17fdb7db4aa1"
      },
      "execution_count": null,
      "outputs": [
        {
          "output_type": "stream",
          "name": "stdout",
          "text": [
            "[5, 3, 6, 8, 10, 2, 4, 6]\n",
            "[2, 3, 4, 5, 6, 6, 8, 10]\n"
          ]
        }
      ]
    },
    {
      "cell_type": "code",
      "source": [
        "# Definimos la lista que queremos ordenar\n",
        "arr = [5, 3, 6, 8, 10, 2]\n",
        "print(f\"Lista inicial: {arr}\")\n",
        "\n",
        "# Inicializamos el contador de pasos (movimientos de elementos)\n",
        "pasos = 0\n",
        "\n",
        "# Bucle externo: va desde el segundo elemento (índice 1) hasta el final.\n",
        "for j in range(1, len(arr)):\n",
        "    # 'actual' es el valor que vamos a insertar en la parte ordenada.\n",
        "    actual = arr[j]\n",
        "\n",
        "    # 'i' es el índice del último elemento de la parte ordenada.\n",
        "    i = j - 1\n",
        "\n",
        "    # Bucle interno: mueve los elementos de la parte ordenada\n",
        "    # que son mayores que 'actual' una posición a la derecha.\n",
        "    while i >= 0 and arr[i] > actual:\n",
        "        # Desplazamos el elemento\n",
        "        arr[i + 1] = arr[i]\n",
        "        # Aumentamos el contador de pasos por cada movimiento\n",
        "        pasos += 1\n",
        "        # Disminuimos el índice para seguir comparando con el elemento anterior\n",
        "        i -= 1\n",
        "\n",
        "    # Insertamos el valor 'actual' en la posición correcta.\n",
        "    arr[i + 1] = actual\n",
        "\n",
        "print(f\"Lista ordenada: {arr}\")\n",
        "print(f\"Número total de pasos (movimientos de elementos): {pasos}\")"
      ],
      "metadata": {
        "colab": {
          "base_uri": "https://localhost:8080/"
        },
        "id": "UdK7TCbsJrWJ",
        "outputId": "e684fb87-f19d-4c41-82e5-8b59a6a14957"
      },
      "execution_count": null,
      "outputs": [
        {
          "output_type": "stream",
          "name": "stdout",
          "text": [
            "Lista inicial: [5, 3, 6, 8, 10, 2]\n",
            "Lista ordenada: [2, 3, 5, 6, 8, 10]\n",
            "Número total de pasos (movimientos de elementos): 6\n"
          ]
        }
      ]
    },
    {
      "cell_type": "markdown",
      "source": [
        "### Ejemplo: Visualización Paso a Paso"
      ],
      "metadata": {
        "id": "QTPgumdbIjGB"
      }
    },
    {
      "cell_type": "code",
      "source": [
        "def insertion_sort_visual(arr):\n",
        "    n = len(arr)\n",
        "    print(f\"Lista original: {arr}\\n\")\n",
        "\n",
        "    # Recorremos la lista desde el segundo elemento (índice 1)\n",
        "    for j in range(1, n):\n",
        "        # 'actual' es el elemento que vamos a insertar en la sublista ordenada\n",
        "        actual = arr[j]\n",
        "        i = j - 1\n",
        "\n",
        "        print(f\"--- Pasada {j} ---\")\n",
        "        print(f\"Elemento a insertar: {actual}\")\n",
        "\n",
        "        # Movemos los elementos de la sublista ordenada que son mayores que 'actual'\n",
        "        # una posición a la derecha.\n",
        "        while i >= 0 and arr[i] > actual:\n",
        "            arr[i + 1] = arr[i]\n",
        "            i -= 1\n",
        "\n",
        "        # Insertamos el elemento 'actual' en la posición correcta.\n",
        "        arr[i + 1] = actual\n",
        "\n",
        "        print(f\"Estado de la lista: {arr}\")\n",
        "\n",
        "    return arr\n",
        "\n",
        "# Ejemplo de uso\n",
        "lista_ejemplo = [5, 3, 6, 8, 10, 2]\n",
        "insertion_sort_visual(lista_ejemplo)\n",
        "print(f\"\\nLista final ordenada: {lista_ejemplo}\")"
      ],
      "metadata": {
        "colab": {
          "base_uri": "https://localhost:8080/"
        },
        "id": "zj9ZVqd6IdUK",
        "outputId": "5a5321d7-23b4-46c3-ebcc-746c01360b7a"
      },
      "execution_count": null,
      "outputs": [
        {
          "output_type": "stream",
          "name": "stdout",
          "text": [
            "Lista original: [5, 3, 6, 8, 10, 2]\n",
            "\n",
            "--- Pasada 1 ---\n",
            "Elemento a insertar: 3\n",
            "Estado de la lista: [3, 5, 6, 8, 10, 2]\n",
            "--- Pasada 2 ---\n",
            "Elemento a insertar: 6\n",
            "Estado de la lista: [3, 5, 6, 8, 10, 2]\n",
            "--- Pasada 3 ---\n",
            "Elemento a insertar: 8\n",
            "Estado de la lista: [3, 5, 6, 8, 10, 2]\n",
            "--- Pasada 4 ---\n",
            "Elemento a insertar: 10\n",
            "Estado de la lista: [3, 5, 6, 8, 10, 2]\n",
            "--- Pasada 5 ---\n",
            "Elemento a insertar: 2\n",
            "Estado de la lista: [2, 3, 5, 6, 8, 10]\n",
            "\n",
            "Lista final ordenada: [2, 3, 5, 6, 8, 10]\n"
          ]
        }
      ]
    },
    {
      "cell_type": "markdown",
      "source": [
        "### Ejemplo: Conteo de Intercambios y Comparaciones"
      ],
      "metadata": {
        "id": "xEG-eYCmKCwQ"
      }
    },
    {
      "cell_type": "code",
      "source": [
        "def insertion_sort_avanzado(arr):\n",
        "    n = len(arr)\n",
        "    comparaciones = 0\n",
        "    movimientos = 0\n",
        "\n",
        "    for j in range(1, n):\n",
        "        actual = arr[j]\n",
        "        i = j - 1\n",
        "\n",
        "        while i >= 0:\n",
        "            comparaciones += 1\n",
        "            if arr[i] > actual:\n",
        "                arr[i + 1] = arr[i]\n",
        "                i -= 1\n",
        "                movimientos += 1\n",
        "            else:\n",
        "                # Salimos del bucle si ya encontramos la posición correcta\n",
        "                break\n",
        "\n",
        "        arr[i + 1] = actual\n",
        "\n",
        "    print(f\"Total de comparaciones: {comparaciones}\")\n",
        "    print(f\"Total de movimientos de elementos: {movimientos}\")\n",
        "\n",
        "    return arr\n",
        "\n",
        "# Ejemplo de uso\n",
        "# Lista casi ordenada (ej. solo el último elemento está fuera de lugar)\n",
        "lista_casi_ordenada = [1, 2, 3, 4, 5, 2, 7, 8]\n",
        "print(f\"Lista original: {lista_casi_ordenada}\")\n",
        "insertion_sort_avanzado(lista_casi_ordenada)\n",
        "print(f\"Lista ordenada: {lista_casi_ordenada}\")\n",
        "\n",
        "# Lista aleatoria para un peor caso\n",
        "lista_aleatoria = [5, 3, 8, 1, 9, 10, 12]\n",
        "print(f\"\\nLista original: {lista_aleatoria}\")\n",
        "insertion_sort_avanzado(lista_aleatoria)\n",
        "print(f\"Lista ordenada: {lista_aleatoria}\")"
      ],
      "metadata": {
        "colab": {
          "base_uri": "https://localhost:8080/"
        },
        "id": "Y_tZ2OD8J90B",
        "outputId": "ab0d3ea3-3342-4d18-d091-83b9cff3ef95"
      },
      "execution_count": null,
      "outputs": [
        {
          "output_type": "stream",
          "name": "stdout",
          "text": [
            "Lista original: [1, 2, 3, 4, 5, 2, 7, 8]\n",
            "Total de comparaciones: 10\n",
            "Total de movimientos de elementos: 3\n",
            "Lista ordenada: [1, 2, 2, 3, 4, 5, 7, 8]\n",
            "\n",
            "Lista original: [5, 3, 8, 1, 9, 10, 12]\n",
            "Total de comparaciones: 8\n",
            "Total de movimientos de elementos: 4\n",
            "Lista ordenada: [1, 3, 5, 8, 9, 10, 12]\n"
          ]
        }
      ]
    },
    {
      "cell_type": "markdown",
      "source": [
        "# 🤖 Clase 2: Algoritmos de Ordenamiento Avanzados"
      ],
      "metadata": {
        "id": "NlRpC46uSjND"
      }
    },
    {
      "cell_type": "markdown",
      "source": [
        "Los algoritmos de ordenamiento avanzados son métodos diseñados para ordenar grandes cantidades de datos de forma mucho más eficiente que los algoritmos simples"
      ],
      "metadata": {
        "id": "FGCPKZn0c84t"
      }
    },
    {
      "cell_type": "markdown",
      "source": [
        "### ¿Por qué necesitamos algoritmos avanzados?:\n",
        " Se repasa la ineficiencia de los algoritmos de O(n²) para listas grandes y se justifica la necesidad de métodos más rápidos.\n",
        "\n"
      ],
      "metadata": {
        "id": "nI3xSIGmaTLf"
      }
    },
    {
      "cell_type": "markdown",
      "source": [
        "### La Estrategia \"Divide y Vencerás\":\n",
        "Se presenta este paradigma de diseño de algoritmos como la base de los métodos eficientes.\n",
        "\n",
        "Dividir: Romper el problema en subproblemas más pequeños.\n",
        "\n",
        "Vencer: Resolver cada subproblema de forma recursiva.\n",
        "\n",
        "Combinar: Unir las soluciones de los subproblemas para resolver el problema original."
      ],
      "metadata": {
        "id": "KeQr8fkoafke"
      }
    },
    {
      "cell_type": "markdown",
      "source": [
        "## ORDENAMIENTO POR FUSIÓN (Merge Sort)"
      ],
      "metadata": {
        "id": "sMRGkmbNkcop"
      }
    },
    {
      "cell_type": "markdown",
      "source": [
        "### 📌 Concepto y funcionamiento\n",
        "El algoritmo se puede dividir en tres pasos principales, que se aplican de forma recursiva:\n",
        "\n",
        "Dividir: El algoritmo divide la lista en dos mitades, casi iguales, de manera repetida, hasta que solo queden sublistas con un solo elemento. Por definición, una lista con un solo elemento ya está ordenada.\n",
        "\n",
        "Vencer: Se resuelven los subproblemas. Esto no requiere trabajo, ya que cada sublista de un solo elemento se considera ordenada de inmediato.\n",
        "\n",
        "Combinar (Fusión): Aquí es donde ocurre el trabajo principal. El algoritmo fusiona las sublistas ordenadas de dos en dos, creando una nueva sublista más grande y ordenada. Este proceso continúa hasta que todas las sublistas se han fusionado en una sola lista final ordenada."
      ],
      "metadata": {
        "id": "rE8t6K-xkrMg"
      }
    },
    {
      "cell_type": "markdown",
      "source": [
        "### Analogía\n",
        "Una excelente analogía para entender el Merge Sort es la de un bibliotecario que ordena una pila de libros. El bibliotecario no intenta ordenar toda la pila a la vez. En cambio, la divide en dos pilas más pequeñas, las ordena por separado, y luego fusiona las dos pilas ordenadas en una sola pila final. Este proceso se repite hasta que toda la estantería de libros esté en perfecto orden."
      ],
      "metadata": {
        "id": "YZJ4zaNXklLp"
      }
    },
    {
      "cell_type": "markdown",
      "source": [
        "### 📉 Complejidad temporal\n",
        "La complejidad temporal de Merge Sort es de O(n log n). Esto se debe a que el algoritmo divide la lista (log n) y luego la fusiona (n), lo que lo hace mucho más rápido y escalable que los algoritmos de ordenamiento simples para grandes volúmenes de datos."
      ],
      "metadata": {
        "id": "Kb2FTRtLks-4"
      }
    },
    {
      "cell_type": "code",
      "source": [
        "def merge_sort_simple(arr):\n",
        "    # La recursión termina si la lista ya tiene un solo elemento.\n",
        "    if len(arr) <= 1:\n",
        "        return arr\n",
        "\n",
        "    # Dividir la lista en dos mitades\n",
        "    mid = len(arr) // 2\n",
        "    left = merge_sort_simple(arr[:mid])\n",
        "    right = merge_sort_simple(arr[mid:])\n",
        "\n",
        "    # Fusionar las mitades ordenadas\n",
        "    i = j = 0\n",
        "    merged_list = []\n",
        "\n",
        "    # Compara y agrega los elementos en orden\n",
        "    while i < len(left) and j < len(right):\n",
        "        if left[i] < right[j]:\n",
        "            merged_list.append(left[i])\n",
        "            i += 1\n",
        "        else:\n",
        "            merged_list.append(right[j])\n",
        "            j += 1\n",
        "\n",
        "    # Agrega los elementos restantes de la lista que no se recorrió por completo\n",
        "    merged_list.extend(left[i:])\n",
        "    merged_list.extend(right[j:])\n",
        "\n",
        "    return merged_list\n",
        "\n",
        "# Lista de ejemplo\n",
        "lista = [8, 3, 1, 5]\n",
        "\n",
        "print(f\"Lista original: {lista}\")\n",
        "lista_ordenada = merge_sort_simple(lista)\n",
        "print(f\"Lista ordenada: {lista_ordenada}\")"
      ],
      "metadata": {
        "colab": {
          "base_uri": "https://localhost:8080/"
        },
        "id": "i0WcyYCXlFKI",
        "outputId": "92437c5b-0622-4d7e-e696-4d105814d86f"
      },
      "execution_count": null,
      "outputs": [
        {
          "output_type": "stream",
          "name": "stdout",
          "text": [
            "Lista original: [8, 3, 1, 5]\n",
            "Lista ordenada: [1, 3, 5, 8]\n"
          ]
        }
      ]
    },
    {
      "cell_type": "code",
      "source": [
        "def merge_sort(arr):\n",
        "    # Condición de parada de la recursión: si la lista tiene un elemento o menos, ya está ordenada.\n",
        "    if len(arr) <= 1:\n",
        "        return arr\n",
        "\n",
        "    # 1. Dividir: se divide la lista en dos mitades\n",
        "    mid = len(arr) // 2\n",
        "    left_half = arr[:mid]\n",
        "    right_half = arr[mid:]\n",
        "\n",
        "    # 2. Vencer: se llama a merge_sort de forma recursiva en ambas mitades\n",
        "    left_sorted = merge_sort(left_half)\n",
        "    right_sorted = merge_sort(right_half)\n",
        "\n",
        "    # 3. Combinar: se fusionan las mitades ordenadas\n",
        "    return merge(left_sorted, right_sorted)\n",
        "\n",
        "def merge(left, right):\n",
        "    merged = []\n",
        "    i = j = 0\n",
        "    # Recorre ambas listas hasta que una se quede sin elementos\n",
        "    while i < len(left) and j < len(right):\n",
        "        if left[i] <= right[j]:\n",
        "            merged.append(left[i])\n",
        "            i += 1\n",
        "        else:\n",
        "            merged.append(right[j])\n",
        "            j += 1\n",
        "    # Agrega los elementos restantes de la lista izquierda\n",
        "    merged.extend(left[i:])\n",
        "    # Agrega los elementos restantes de la lista derecha\n",
        "    merged.extend(right[j:])\n",
        "    return merged\n",
        "\n",
        "# Ejemplo de uso\n",
        "lista_merge = [12, 11, 13, 5, 6, 7]\n",
        "print(f\"Lista original: {lista_merge}\")\n",
        "lista_ordenada_merge = merge_sort(lista_merge)\n",
        "print(f\"Lista ordenada con Merge Sort: {lista_ordenada_merge}\")"
      ],
      "metadata": {
        "colab": {
          "base_uri": "https://localhost:8080/"
        },
        "id": "HpAhrwBSk8To",
        "outputId": "d2adc493-2957-4351-d997-0836312ac7c4"
      },
      "execution_count": null,
      "outputs": [
        {
          "output_type": "stream",
          "name": "stdout",
          "text": [
            "Lista original: [12, 11, 13, 5, 6, 7]\n",
            "Lista ordenada con Merge Sort: [5, 6, 7, 11, 12, 13]\n"
          ]
        }
      ]
    },
    {
      "cell_type": "markdown",
      "source": [
        "### Ejemplo: Conteo de Pasadas por Fusión"
      ],
      "metadata": {
        "id": "qSg28vAymGtQ"
      }
    },
    {
      "cell_type": "code",
      "source": [
        "def merge_sort_con_pasadas(arr):\n",
        "    # Condición de parada de la recursión\n",
        "    if len(arr) <= 1:\n",
        "        # Una lista de 1 elemento no requiere pasadas de fusión\n",
        "        return arr, 0\n",
        "\n",
        "    # 1. División\n",
        "    mid = len(arr) // 2\n",
        "\n",
        "    # Llamada recursiva para ordenar las mitades y obtener sus conteos\n",
        "    left_sorted, left_passes = merge_sort_con_pasadas(arr[:mid])\n",
        "    right_sorted, right_passes = merge_sort_con_pasadas(arr[mid:])\n",
        "\n",
        "    # 2. Fusión (el trabajo principal)\n",
        "    # Se inicializan los índices para las dos sublistas\n",
        "    merged = []\n",
        "    i = j = 0\n",
        "    while i < len(left_sorted) and j < len(right_sorted):\n",
        "        if left_sorted[i] <= right_sorted[j]:\n",
        "            merged.append(left_sorted[i])\n",
        "            i += 1\n",
        "        else:\n",
        "            merged.append(right_sorted[j])\n",
        "            j += 1\n",
        "\n",
        "    merged.extend(left_sorted[i:])\n",
        "    merged.extend(right_sorted[j:])\n",
        "\n",
        "    # Se suma el conteo de pasadas de las mitades + 1 por la fusión actual\n",
        "    total_pasadas = left_passes + right_passes + 1\n",
        "\n",
        "    # Imprimimos el estado actual del proceso\n",
        "    print(f\"Fusionando {left_sorted} y {right_sorted} -> Resultado: {merged}. Pasada total: {total_pasadas}\")\n",
        "\n",
        "    # La función devuelve la lista fusionada y el conteo de pasadas\n",
        "    return merged, total_pasadas\n",
        "\n",
        "# Ejemplo de uso\n",
        "lista_ejemplo = [12, 11, 13, 5, 6, 7]\n",
        "print(f\"Lista inicial: {lista_ejemplo}\\n\")\n",
        "\n",
        "# Se llama a la función principal\n",
        "lista_ordenada, total_pasadas = merge_sort_con_pasadas(lista_ejemplo)\n",
        "\n",
        "print(f\"\\nLista final ordenada: {lista_ordenada}\")\n",
        "print(f\"Número total de pasadas (fusiones): {total_pasadas}\")"
      ],
      "metadata": {
        "colab": {
          "base_uri": "https://localhost:8080/"
        },
        "id": "RVp3a_LimF2B",
        "outputId": "2548d5c3-b9d1-4fa9-d0b7-4b7ce0909428"
      },
      "execution_count": null,
      "outputs": [
        {
          "output_type": "stream",
          "name": "stdout",
          "text": [
            "Lista inicial: [12, 11, 13, 5, 6, 7]\n",
            "\n",
            "Fusionando [11] y [13] -> Resultado: [11, 13]. Pasada total: 1\n",
            "Fusionando [12] y [11, 13] -> Resultado: [11, 12, 13]. Pasada total: 2\n",
            "Fusionando [6] y [7] -> Resultado: [6, 7]. Pasada total: 1\n",
            "Fusionando [5] y [6, 7] -> Resultado: [5, 6, 7]. Pasada total: 2\n",
            "Fusionando [11, 12, 13] y [5, 6, 7] -> Resultado: [5, 6, 7, 11, 12, 13]. Pasada total: 5\n",
            "\n",
            "Lista final ordenada: [5, 6, 7, 11, 12, 13]\n",
            "Número total de pasadas (fusiones): 5\n"
          ]
        }
      ]
    },
    {
      "cell_type": "markdown",
      "source": [
        "### Ejemplo: Contador de Comparaciones"
      ],
      "metadata": {
        "id": "lHFxnAT2mLHX"
      }
    },
    {
      "cell_type": "code",
      "source": [
        "def merge_sort_con_comparaciones(arr):\n",
        "    # Caso base de la recursión\n",
        "    if len(arr) <= 1:\n",
        "        # Devuelve la lista y 0 comparaciones\n",
        "        return arr, 0\n",
        "\n",
        "    # Dividir\n",
        "    mid = len(arr) // 2\n",
        "\n",
        "    # Llamada recursiva: Recibe la lista ordenada y el conteo de comparaciones de cada mitad\n",
        "    left_sorted, left_comps = merge_sort_con_comparaciones(arr[:mid])\n",
        "    right_sorted, right_comps = merge_sort_con_comparaciones(arr[mid:])\n",
        "\n",
        "    # Fusionar y contar comparaciones\n",
        "    comparaciones_actuales = 0\n",
        "    merged = []\n",
        "    i = j = 0\n",
        "    while i < len(left_sorted) and j < len(right_sorted):\n",
        "        comparaciones_actuales += 1  # Incrementa el contador por cada comparación\n",
        "        if left_sorted[i] <= right_sorted[j]:\n",
        "            merged.append(left_sorted[i])\n",
        "            i += 1\n",
        "        else:\n",
        "            merged.append(right_sorted[j])\n",
        "            j += 1\n",
        "\n",
        "    merged.extend(left_sorted[i:])\n",
        "    merged.extend(right_sorted[j:])\n",
        "\n",
        "    # El total de comparaciones es la suma de las de las mitades y las de la fusión actual\n",
        "    total_comparaciones = left_comps + right_comps + comparaciones_actuales\n",
        "\n",
        "    # Devuelve la lista ordenada y el conteo de comparaciones\n",
        "    return merged, total_comparaciones\n",
        "\n",
        "# Ejemplo de uso\n",
        "lista_ejemplo_2 = [12, 11, 13, 5, 6, 7]\n",
        "lista_ordenada_2, comparaciones_2 = merge_sort_con_comparaciones(lista_ejemplo_2)\n",
        "\n",
        "print(\"\\n--- Contador de Comparaciones ---\")\n",
        "print(f\"Lista original: {lista_ejemplo_2}\")\n",
        "print(f\"Lista ordenada: {lista_ordenada_2}\")\n",
        "print(f\"Total de comparaciones: {comparaciones_2}\")"
      ],
      "metadata": {
        "colab": {
          "base_uri": "https://localhost:8080/"
        },
        "id": "jiWjH9I2l79n",
        "outputId": "9c5252b4-372b-4061-f7ae-a5781d0bfe0b"
      },
      "execution_count": null,
      "outputs": [
        {
          "output_type": "stream",
          "name": "stdout",
          "text": [
            "\n",
            "--- Contador de Comparaciones ---\n",
            "Lista original: [12, 11, 13, 5, 6, 7]\n",
            "Lista ordenada: [5, 6, 7, 11, 12, 13]\n",
            "Total de comparaciones: 8\n"
          ]
        }
      ]
    },
    {
      "cell_type": "markdown",
      "source": [
        "## ORDENAMIENTO RÁPIDO (Quick Sort)"
      ],
      "metadata": {
        "id": "hE-FnnnjpDNZ"
      }
    },
    {
      "cell_type": "markdown",
      "source": [
        "El ordenamiento rápido (Quick Sort) es otro algoritmo de ordenamiento que utiliza la estrategia de \"Divide y Vencerás\" ⚔️. Es ampliamente considerado como uno de los algoritmos de ordenamiento más eficientes y se usa comúnmente en la práctica."
      ],
      "metadata": {
        "id": "DLCeifVipX_-"
      }
    },
    {
      "cell_type": "markdown",
      "source": [
        "### 📌 Concepto y funcionamiento\n",
        "Quick Sort funciona de la siguiente manera:\n",
        "\n",
        "Selección del Pivote: Elige un elemento de la lista al que se llama pivote. El pivote puede ser el primer, último, un elemento aleatorio o el del medio de la lista. La elección del pivote es crucial para el rendimiento del algoritmo.\n",
        "\n",
        "Particionamiento: Reorganiza la lista de tal manera que todos los elementos menores que el pivote queden a su izquierda, y todos los elementos mayores o iguales queden a su derecha. El pivote, por lo tanto, queda en su posición final ordenada.\n",
        "\n",
        "Recursión: El algoritmo se aplica de forma recursiva a las dos sublistas (la de los menores y la de los mayores), dividiendo el problema en partes más pequeñas hasta que toda la lista esté ordenada."
      ],
      "metadata": {
        "id": "KXR-mSjYp8aW"
      }
    },
    {
      "cell_type": "markdown",
      "source": [
        "### ⚽ Analogía\n",
        "Una analogía para el Quick Sort es la de un cartero que organiza la correspondencia. Elige una carta como pivote (por ejemplo, la primera carta que ve) y luego divide todas las demás cartas en dos grupos: las que van a una calle anterior a la del pivote y las que van a una calle posterior. Después, repite el proceso en cada pila más pequeña, hasta que todas las cartas estén en perfecto orden."
      ],
      "metadata": {
        "id": "tsRc2WO1p_-e"
      }
    },
    {
      "cell_type": "markdown",
      "source": [
        "### 📉 Complejidad temporal\n",
        "Caso Promedio: La complejidad promedio de Quick Sort es O(n log n), lo que lo hace muy rápido para la mayoría de los casos.\n",
        "\n",
        "Peor Caso: En el peor de los casos (cuando el pivote siempre es el elemento más grande o más pequeño de la sublista), su complejidad puede degradarse a O(n²). Esto lo hace vulnerable a ciertos tipos de listas, aunque existen técnicas para mitigar este problema (como elegir un pivote aleatorio)."
      ],
      "metadata": {
        "id": "1V9pFwppqDYW"
      }
    },
    {
      "cell_type": "code",
      "source": [
        "def quick_sort(arr):\n",
        "    # La condición de parada de la recursión: una lista con 1 o 0 elementos ya está ordenada.\n",
        "    if len(arr) <= 1:\n",
        "        return arr\n",
        "    else:\n",
        "        # 1. Seleccionar el pivote (elegimos el primer elemento)\n",
        "        pivot = arr[0]\n",
        "        # 2. Particionamiento: se dividen los elementos en 3 grupos\n",
        "        menores = [x for x in arr[1:] if x < pivot]\n",
        "        mayores = [x for x in arr[1:] if x >= pivot]\n",
        "\n",
        "        # 3. Recursión: se ordenan las sublistas de forma recursiva y se unen.\n",
        "        return quick_sort(menores) + [pivot] + quick_sort(mayores)\n",
        "\n",
        "# Ejemplo de uso\n",
        "lista_quick = [10, 7, 8, 9, 1, 5]\n",
        "print(f\"Lista original: {lista_quick}\")\n",
        "lista_ordenada = quick_sort(lista_quick)\n",
        "print(f\"Lista ordenada con Quick Sort: {lista_ordenada}\")"
      ],
      "metadata": {
        "colab": {
          "base_uri": "https://localhost:8080/"
        },
        "id": "Rk_eiv57qHkd",
        "outputId": "1106f7e2-c3f8-4f4b-d0bf-54afa692521b"
      },
      "execution_count": null,
      "outputs": [
        {
          "output_type": "stream",
          "name": "stdout",
          "text": [
            "Lista original: [10, 7, 8, 9, 1, 5]\n",
            "Lista ordenada con Quick Sort: [1, 5, 7, 8, 9, 10]\n"
          ]
        }
      ]
    },
    {
      "cell_type": "markdown",
      "source": [
        "### Ejemplo: Contador Integrado"
      ],
      "metadata": {
        "id": "jSMdyxHsqkgG"
      }
    },
    {
      "cell_type": "code",
      "source": [
        "def quick_sort_con_conteo(arr):\n",
        "    # Condición de parada: si la lista tiene un elemento o menos, no hay nada que ordenar\n",
        "    if len(arr) <= 1:\n",
        "        # Devuelve la lista y 0 comparaciones\n",
        "        return arr, 0\n",
        "\n",
        "    # 1. Seleccionar el pivote (elegimos el primer elemento)\n",
        "    pivote = arr[0]\n",
        "\n",
        "    # 2. Particionamiento: se dividen los elementos en 3 grupos\n",
        "    # Se inicializan los contadores para esta partición\n",
        "    comparaciones_actuales = 0\n",
        "    menores = []\n",
        "    mayores = []\n",
        "\n",
        "    # Bucle para realizar el particionamiento y contar las comparaciones\n",
        "    for x in arr[1:]:\n",
        "        comparaciones_actuales += 1\n",
        "        if x < pivote:\n",
        "            menores.append(x)\n",
        "        else:\n",
        "            mayores.append(x)\n",
        "\n",
        "    # 3. Recursión\n",
        "    # Llamadas recursivas para ordenar las sublistas y obtener sus conteos\n",
        "    sorted_menores, comp_menores = quick_sort_con_conteo(menores)\n",
        "    sorted_mayores, comp_mayores = quick_sort_con_conteo(mayores)\n",
        "\n",
        "    # Suma todas las comparaciones: las de las sublistas + las de la partición actual\n",
        "    total_comparaciones = comparaciones_actuales + comp_menores + comp_mayores\n",
        "\n",
        "    # Combina las sublistas ordenadas con el pivote en el medio\n",
        "    resultado = sorted_menores + [pivote] + sorted_mayores\n",
        "\n",
        "    # Devuelve la lista ordenada y el conteo total\n",
        "    return resultado, total_comparaciones\n",
        "\n",
        "# Ejemplo de uso\n",
        "lista_ejemplo = [8, 7, 10, 9, 11, 5]\n",
        "print(f\"Lista original: {lista_ejemplo}\")\n",
        "\n",
        "# La función devuelve dos valores que se deben desempaquetar\n",
        "lista_ordenada, total_comparaciones = quick_sort_con_conteo(lista_ejemplo)\n",
        "\n",
        "print(f\"Lista ordenada: {lista_ordenada}\")\n",
        "print(f\"Total de comparaciones realizadas: {total_comparaciones}\")"
      ],
      "metadata": {
        "colab": {
          "base_uri": "https://localhost:8080/"
        },
        "id": "IEtOH8oNqk_d",
        "outputId": "dbea7489-3173-4133-c556-0005d2e97020"
      },
      "execution_count": null,
      "outputs": [
        {
          "output_type": "stream",
          "name": "stdout",
          "text": [
            "Lista original: [8, 7, 10, 9, 11, 5]\n",
            "Lista ordenada: [5, 7, 8, 9, 10, 11]\n",
            "Total de comparaciones realizadas: 8\n"
          ]
        }
      ]
    },
    {
      "cell_type": "code",
      "source": [
        "comparaciones = 0\n",
        "\n",
        "def quick_sort_con_conteo(arr):\n",
        "    global comparaciones\n",
        "\n",
        "    if len(arr) <= 1:\n",
        "        return arr\n",
        "    else:\n",
        "        pivote = arr[0]\n",
        "        menores = []\n",
        "        mayores = []\n",
        "\n",
        "        # Bucle para realizar el particionamiento\n",
        "        for x in arr[1:]:\n",
        "            comparaciones += 1  # Contamos cada comparación\n",
        "            if x < pivote:\n",
        "                menores.append(x)\n",
        "            else:\n",
        "                mayores.append(x)\n",
        "\n",
        "        # Llamadas recursivas para ordenar las sublistas y unir el resultado\n",
        "        return quick_sort_con_conteo(menores) + [pivote] + quick_sort_con_conteo(mayores)\n",
        "\n",
        "# Ejemplo de uso\n",
        "lista_con_conteo = [87, 23, 88, 99, 10, 50]\n",
        "\n",
        "# Guardamos el resultado en una nueva variable\n",
        "lista_ordenada = quick_sort_con_conteo(lista_con_conteo)\n",
        "\n",
        "print(f\"Lista original: {lista_con_conteo}\")\n",
        "print(f\"Lista ordenada: {lista_ordenada}\")\n",
        "print(f\"Total de comparaciones realizadas: {comparaciones}\")"
      ],
      "metadata": {
        "colab": {
          "base_uri": "https://localhost:8080/"
        },
        "id": "7X3FDBhkrs2E",
        "outputId": "56a33c3c-759f-443a-fc03-16430634f522"
      },
      "execution_count": null,
      "outputs": [
        {
          "output_type": "stream",
          "name": "stdout",
          "text": [
            "Lista original: [87, 23, 88, 99, 10, 50]\n",
            "Lista ordenada: [10, 23, 50, 87, 88, 99]\n",
            "Total de comparaciones realizadas: 8\n"
          ]
        }
      ]
    },
    {
      "cell_type": "markdown",
      "source": [
        "### Ejemplo: Versión con un Pivote aleatorio"
      ],
      "metadata": {
        "id": "QcoDghF7sApk"
      }
    },
    {
      "cell_type": "code",
      "source": [
        "import random\n",
        "\n",
        "def quick_sort_random(arr):\n",
        "    if len(arr) <= 1:\n",
        "        return arr\n",
        "    else:\n",
        "        # Elegimos un pivote aleatorio\n",
        "        pivote = random.choice(arr)\n",
        "\n",
        "        # Separamos los elementos en tres listas: menores, iguales y mayores al pivote\n",
        "        menores = [x for x in arr if x < pivote]\n",
        "        iguales = [x for x in arr if x == pivote]\n",
        "        mayores = [x for x in arr if x > pivote]\n",
        "\n",
        "        # Ordenamos recursivamente y unimos las listas\n",
        "        return quick_sort_random(menores) + iguales + quick_sort_random(mayores)\n",
        "\n",
        "# Ejemplo de uso\n",
        "lista_random = [10, 7, 8, 9, 1, 5, 2]\n",
        "lista_ordenada_random = quick_sort_random(lista_random)\n",
        "print(f\"Lista ordenada con Quick Sort aleatorio: {lista_ordenada_random}\")"
      ],
      "metadata": {
        "colab": {
          "base_uri": "https://localhost:8080/"
        },
        "id": "pvF9wCgLsBKc",
        "outputId": "e5d60567-b8ea-48d9-a18a-3e19027516d1"
      },
      "execution_count": null,
      "outputs": [
        {
          "output_type": "stream",
          "name": "stdout",
          "text": [
            "Lista ordenada con Quick Sort aleatorio: [1, 2, 5, 7, 8, 9, 10]\n"
          ]
        }
      ]
    },
    {
      "cell_type": "markdown",
      "source": [
        "# 📊 Cuadro Comparativo de Algoritmos de Ordenamiento"
      ],
      "metadata": {
        "id": "fzNvICLIspYM"
      }
    },
    {
      "cell_type": "markdown",
      "source": [
        "![image.png](data:image/png;base64,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)"
      ],
      "metadata": {
        "id": "iOf99eB5sqh8"
      }
    },
    {
      "cell_type": "markdown",
      "source": [
        "## Resumen\n",
        "La principal diferencia radica en su complejidad temporal. Mientras que los algoritmos simples son fáciles de implementar y entender, su rendimiento se degrada rápidamente con el tamaño de la lista. Los algoritmos avanzados, por otro lado, sacrifican un poco de simplicidad por una eficiencia superior, lo que los convierte en la opción estándar para cualquier problema de ordenamiento en el mundo real."
      ],
      "metadata": {
        "id": "4iRa1JSGswbc"
      }
    }
  ]
}