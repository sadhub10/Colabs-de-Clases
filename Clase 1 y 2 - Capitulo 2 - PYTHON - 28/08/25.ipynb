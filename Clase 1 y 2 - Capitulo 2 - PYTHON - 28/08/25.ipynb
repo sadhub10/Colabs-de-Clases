{
  "nbformat": 4,
  "nbformat_minor": 0,
  "metadata": {
    "colab": {
      "provenance": [],
      "authorship_tag": "ABX9TyOC+Zqay2U5ZpQ8DoGuXjVP",
      "include_colab_link": true
    },
    "kernelspec": {
      "name": "python3",
      "display_name": "Python 3"
    },
    "language_info": {
      "name": "python"
    }
  },
  "cells": [
    {
      "cell_type": "markdown",
      "metadata": {
        "id": "view-in-github",
        "colab_type": "text"
      },
      "source": [
        "<a href=\"https://colab.research.google.com/github/sadhub10/Colabs-de-Clases/blob/main/Clase%201%20y%202%20-%20Capitulo%202%20-%20PYTHON%20-%2028/08/25.ipynb\" target=\"_parent\"><img src=\"https://colab.research.google.com/assets/colab-badge.svg\" alt=\"Open In Colab\"/></a>"
      ]
    },
    {
      "cell_type": "markdown",
      "source": [
        "# **LISTAS**"
      ],
      "metadata": {
        "id": "4l7-JpjtWlbn"
      }
    },
    {
      "cell_type": "code",
      "source": [
        "lista_frutas = [\"Melocotón\",\"Sandia\",\"Banana\"]\n",
        "print(lista_frutas)\n",
        "print(lista_frutas[0])"
      ],
      "metadata": {
        "colab": {
          "base_uri": "https://localhost:8080/"
        },
        "id": "p9HxHfhhidpY",
        "outputId": "32c490a8-6426-4e6d-a87e-09b503892b0b"
      },
      "execution_count": null,
      "outputs": [
        {
          "output_type": "stream",
          "name": "stdout",
          "text": [
            "['Melocotón', 'Sandia', 'Banana']\n",
            "Melocotón\n"
          ]
        }
      ]
    },
    {
      "cell_type": "markdown",
      "source": [
        "## Función Len()"
      ],
      "metadata": {
        "id": "czlMOzlkWoYu"
      }
    },
    {
      "cell_type": "code",
      "source": [
        "frutas = [\"manzana\", \"cambur\", \"cereza\", \"fresa\"]\n",
        "print(frutas)\n",
        "print(len(frutas))"
      ],
      "metadata": {
        "colab": {
          "base_uri": "https://localhost:8080/"
        },
        "id": "xEcexNZsWqam",
        "outputId": "abcd08a8-cdb7-487a-9fdf-7f77ef814057"
      },
      "execution_count": null,
      "outputs": [
        {
          "output_type": "stream",
          "name": "stdout",
          "text": [
            "['manzana', 'cambur', 'cereza', 'fresa']\n",
            "4\n"
          ]
        }
      ]
    },
    {
      "cell_type": "markdown",
      "source": [
        "# Indexación"
      ],
      "metadata": {
        "id": "wAZQPAiMWuG-"
      }
    },
    {
      "cell_type": "markdown",
      "source": [
        "La indexación es la forma de acceder a elementos individuales dentro de una secuencia ordenada, como una lista, tupla o cadena de texto, utilizando su posición o índice.\n"
      ],
      "metadata": {
        "id": "6EVvKnF-Wv8u"
      }
    },
    {
      "cell_type": "code",
      "source": [
        "# Acceder a un elemento por su índice positivo\n",
        "primer_fruta = frutas[0]  # \"manzana\"\n",
        "tercer_fruta = frutas[2]  # \"cereza\"\n",
        "\n",
        "# Acceder a un elemento por su índice negativo\n",
        "ultima_fruta = frutas[-1]  # \"fresa\"\n",
        "penultima_fruta = frutas[-2] # \"cereza\"\n",
        "\n",
        "print(f\"La primera fruta es: {primer_fruta}\")\n",
        "print(f\"La última fruta es: {ultima_fruta}\")"
      ],
      "metadata": {
        "colab": {
          "base_uri": "https://localhost:8080/"
        },
        "id": "WII3s9ovWs4A",
        "outputId": "489588bd-97c5-48c6-ae3f-3ecf7aaeae5f"
      },
      "execution_count": null,
      "outputs": [
        {
          "output_type": "stream",
          "name": "stdout",
          "text": [
            "La primera fruta es: manzana\n",
            "La última fruta es: fresa\n"
          ]
        }
      ]
    },
    {
      "cell_type": "markdown",
      "source": [
        "ver una imagen de ejemplo"
      ],
      "metadata": {
        "id": "YNLbapYWnBri"
      }
    },
    {
      "cell_type": "markdown",
      "source": [
        "# Adición de Listas"
      ],
      "metadata": {
        "id": "dNaqN9dfXGt2"
      }
    },
    {
      "cell_type": "code",
      "source": [
        "Lista1 = [\"Mamón\",\"Piña\",\"Mandarina\"]\n",
        "Lista2 = [\"Melocotón\",\"Sandia\"]\n",
        "Lista3 = Lista1 + Lista2\n",
        "print(Lista3)"
      ],
      "metadata": {
        "colab": {
          "base_uri": "https://localhost:8080/"
        },
        "id": "XDuqfVnVD28Q",
        "outputId": "c3e12457-ceb5-49d1-dc36-eb06114d0b8e"
      },
      "execution_count": null,
      "outputs": [
        {
          "output_type": "stream",
          "name": "stdout",
          "text": [
            "['Mamón', 'Piña', 'Mandarina', 'Melocotón', 'Sandia']\n"
          ]
        }
      ]
    },
    {
      "cell_type": "markdown",
      "source": [
        "realizar ejempplos"
      ],
      "metadata": {
        "id": "jA2KMkNoXg8t"
      }
    },
    {
      "cell_type": "markdown",
      "source": [
        "# Método append()"
      ],
      "metadata": {
        "id": "PtrL8YH1Xo8m"
      }
    },
    {
      "cell_type": "code",
      "source": [
        "# Lista inicial de carros de lujo\n",
        "carros_lujo = [\"Ferrari\", \"Lamborghini\"]\n",
        "\n",
        "# Usando append() para añadir un nuevo carro al final de la lista\n",
        "carros_lujo.append(\"Rolls-Royce\")\n",
        "\n",
        "# Imprimir la lista modificada\n",
        "print(carros_lujo)"
      ],
      "metadata": {
        "colab": {
          "base_uri": "https://localhost:8080/"
        },
        "id": "drl-fp7jYC3Y",
        "outputId": "39812177-09dc-4f81-d55d-897ac00f3c4c"
      },
      "execution_count": null,
      "outputs": [
        {
          "output_type": "stream",
          "name": "stdout",
          "text": [
            "['Ferrari', 'Lamborghini', 'Rolls-Royce']\n"
          ]
        }
      ]
    },
    {
      "cell_type": "markdown",
      "source": [
        "# Método extend()"
      ],
      "metadata": {
        "id": "YP80CzLwYk3-"
      }
    },
    {
      "cell_type": "code",
      "source": [
        "carros_lujo = [\"Ferrari\", \"Lamborghini\"]\n",
        "\n",
        "# Usando extend() para añadir una nueva lista de carros de lujo\n",
        "nuevos_carros = [\"Mercedes-Benz\", \"BMW\"]\n",
        "carros_lujo.extend(nuevos_carros)\n",
        "\n",
        "print(carros_lujo)\n"
      ],
      "metadata": {
        "colab": {
          "base_uri": "https://localhost:8080/"
        },
        "id": "gLLS-24eYsmM",
        "outputId": "3e3ee0eb-233f-4c22-c34b-c301e7fbe073"
      },
      "execution_count": null,
      "outputs": [
        {
          "output_type": "stream",
          "name": "stdout",
          "text": [
            "['Ferrari', 'Lamborghini', 'Mercedes-Benz', 'BMW']\n"
          ]
        }
      ]
    },
    {
      "cell_type": "markdown",
      "source": [
        "# Borrado con la palabra (Del)"
      ],
      "metadata": {
        "id": "NenaXNozckK-"
      }
    },
    {
      "cell_type": "code",
      "source": [
        "frutas = [\"manzana\", \"cambur\", \"cereza\", \"fresa\"]\n",
        "print(frutas)\n",
        "del frutas[1]\n",
        "print(frutas)"
      ],
      "metadata": {
        "colab": {
          "base_uri": "https://localhost:8080/"
        },
        "id": "6euRFNEicWpz",
        "outputId": "7ab887e6-17a8-4ef0-f3c9-165cc97b0a2d"
      },
      "execution_count": null,
      "outputs": [
        {
          "output_type": "stream",
          "name": "stdout",
          "text": [
            "['manzana', 'cambur', 'cereza', 'fresa']\n",
            "['manzana', 'cereza', 'fresa']\n"
          ]
        }
      ]
    },
    {
      "cell_type": "markdown",
      "source": [
        "# Método Pop"
      ],
      "metadata": {
        "id": "Ur9hpk52hIio"
      }
    },
    {
      "cell_type": "markdown",
      "source": [
        "Este método elimina un elemento de una posición específica y lo devuelve. Si no se especifica un índice, elimina y devuelve el último elemento."
      ],
      "metadata": {
        "id": "6HBDMM6PhVdW"
      }
    },
    {
      "cell_type": "code",
      "source": [
        "frutas = [\"manzana\", \"banana\", \"cereza\"]\n",
        "fruta_eliminada = frutas.pop()\n",
        "print(frutas)\n",
        "print(f\"Elemento eliminado: {fruta_eliminada}\")"
      ],
      "metadata": {
        "colab": {
          "base_uri": "https://localhost:8080/"
        },
        "id": "HAYa15KmhIMt",
        "outputId": "08a43130-9611-4f5b-e59e-a8852687c0b2"
      },
      "execution_count": null,
      "outputs": [
        {
          "output_type": "stream",
          "name": "stdout",
          "text": [
            "['manzana', 'banana']\n",
            "Elemento eliminado: cereza\n"
          ]
        }
      ]
    },
    {
      "cell_type": "code",
      "source": [
        "carros = [\"Toyota\", \"Honda\", \"Ford\", \"Chevrolet\"]\n",
        "carro_eliminado = carros.pop(-2)\n",
        "print(carros)\n",
        "print(f\"Elemento eliminado: {carro_eliminado}\")"
      ],
      "metadata": {
        "colab": {
          "base_uri": "https://localhost:8080/"
        },
        "id": "qiPhR0FahaG3",
        "outputId": "ef180558-a8b2-416b-a00c-824eb8565ce5"
      },
      "execution_count": null,
      "outputs": [
        {
          "output_type": "stream",
          "name": "stdout",
          "text": [
            "['Toyota', 'Honda', 'Chevrolet']\n",
            "Elemento eliminado: Ford\n"
          ]
        }
      ]
    },
    {
      "cell_type": "markdown",
      "source": [
        "# Método Remove"
      ],
      "metadata": {
        "id": "BdEhnGWpjihd"
      }
    },
    {
      "cell_type": "code",
      "source": [
        "frutas = [\"Mango\", \"kiwi\", \"Mango\"]\n",
        "frutas.remove(\"Mango\")\n",
        "print(frutas)"
      ],
      "metadata": {
        "colab": {
          "base_uri": "https://localhost:8080/"
        },
        "id": "HviSOnzHjm2E",
        "outputId": "4779e675-8a8d-4d71-94fe-bffe24eb9c6a"
      },
      "execution_count": null,
      "outputs": [
        {
          "output_type": "stream",
          "name": "stdout",
          "text": [
            "['kiwi', 'Mango']\n"
          ]
        }
      ]
    },
    {
      "cell_type": "markdown",
      "source": [
        "### **Otros métodos**\n",
        "\n",
        "1.   clear()\n",
        "2.   count()\n",
        "3.   sort()\n",
        "4.   reverse()"
      ],
      "metadata": {
        "id": "k1Q-a37hnkfI"
      }
    },
    {
      "cell_type": "markdown",
      "source": [
        "# **TUPLAS**"
      ],
      "metadata": {
        "id": "MLgU_4jrn_QP"
      }
    },
    {
      "cell_type": "code",
      "metadata": {
        "colab": {
          "base_uri": "https://localhost:8080/"
        },
        "id": "82c05322",
        "outputId": "8ceebe97-ec02-45d2-89d4-0a5baae884af"
      },
      "source": [
        "# Crear una tupla simple\n",
        "mi_tupla = (1, 2, 3, \"cuatro\", \"cinco\")\n",
        "\n",
        "# Imprimir la tupla\n",
        "print(mi_tupla)"
      ],
      "execution_count": null,
      "outputs": [
        {
          "output_type": "stream",
          "name": "stdout",
          "text": [
            "(1, 2, 3, 'cuatro', 'cinco')\n"
          ]
        }
      ]
    },
    {
      "cell_type": "code",
      "source": [
        "# Creación de una tupla con los meses del año\n",
        "meses = (\"Enero\", \"Febrero\", \"Marzo\", \"Abril\", \"Mayo\", \"Junio\",\n",
        "         \"Julio\", \"Agosto\", \"Septiembre\", \"Octubre\", \"Noviembre\", \"Diciembre\")\n",
        "\n",
        "# Acceder a un mes específico usando su índice (recuerda que el índice 0 es el primero)\n",
        "print(f\"El primer mes del año es: {meses[0]}\")\n",
        "print(f\"El mes 8 es: {meses[7]}\")\n",
        "\n",
        "# Usar la indexación negativa para acceder al último mes\n",
        "print(f\"El último mes del año es: {meses[-1]}\")\n",
        "\n",
        "# Iterar sobre la tupla para imprimir todos los meses\n",
        "print(\"\\nLos meses del año son:\")\n",
        "for mes in meses:\n",
        "    print(mes)"
      ],
      "metadata": {
        "colab": {
          "base_uri": "https://localhost:8080/"
        },
        "id": "M7Z_GaUtrYDe",
        "outputId": "42c4c72d-fd56-4ee7-fa45-513f74393bb1"
      },
      "execution_count": null,
      "outputs": [
        {
          "output_type": "stream",
          "name": "stdout",
          "text": [
            "El primer mes del año es: Enero\n",
            "El mes 8 es: Agosto\n",
            "El último mes del año es: Diciembre\n",
            "\n",
            "Los meses del año son:\n",
            "Enero\n",
            "Febrero\n",
            "Marzo\n",
            "Abril\n",
            "Mayo\n",
            "Junio\n",
            "Julio\n",
            "Agosto\n",
            "Septiembre\n",
            "Octubre\n",
            "Noviembre\n",
            "Diciembre\n"
          ]
        }
      ]
    },
    {
      "cell_type": "markdown",
      "source": [
        "# **DICCIONARIOS**"
      ],
      "metadata": {
        "id": "Ey6XllpbwdEf"
      }
    },
    {
      "cell_type": "code",
      "source": [
        "# Creación de un diccionario\n",
        "persona = {\n",
        "    \"nombre\": \"Ana\", #Elemento 1\n",
        "    \"edad\": 28,      #Elemento 2\n",
        "    \"peso\": 60\n",
        "}\n",
        "\n",
        "# Acceder a un valor usando su clave\n",
        "print(f\"El nombre es: {persona['nombre']}\")\n",
        "print(f\"La edad es: {persona['edad']}\")\n",
        "\n",
        "# Modificar un valor\n",
        "persona[\"edad\"] = 29\n",
        "print(f\"\\nLa nueva edad es: {persona['edad']}\")\n",
        "\n",
        "# Añadir un nuevo Elemento dado por el par de clave:valor\n",
        "persona[\"profesion\"] = \"Derecho\"\n",
        "print(persona)\n",
        "\n",
        "# Eliminar un Elemento dado por el par de clave:valor\n",
        "del persona[\"peso\"]\n",
        "print(persona)\n",
        "\n",
        "len(persona)"
      ],
      "metadata": {
        "colab": {
          "base_uri": "https://localhost:8080/"
        },
        "id": "KCkG-V9Ewg8b",
        "outputId": "3fab6b8b-a2ec-4e46-8d4c-db94127972b9"
      },
      "execution_count": null,
      "outputs": [
        {
          "output_type": "stream",
          "name": "stdout",
          "text": [
            "El nombre es: Ana\n",
            "La edad es: 28\n",
            "\n",
            "La nueva edad es: 29\n",
            "{'nombre': 'Ana', 'edad': 29, 'peso': 60, 'profesion': 'Derecho'}\n",
            "{'nombre': 'Ana', 'edad': 29, 'profesion': 'Derecho'}\n"
          ]
        },
        {
          "output_type": "execute_result",
          "data": {
            "text/plain": [
              "3"
            ]
          },
          "metadata": {},
          "execution_count": 9
        }
      ]
    },
    {
      "cell_type": "markdown",
      "source": [
        "# Método Keys()"
      ],
      "metadata": {
        "id": "B_MgKb1qE9-0"
      }
    },
    {
      "cell_type": "markdown",
      "source": [
        "Devuelve un objeto tipo vista que contiene todas las claves del diccionario."
      ],
      "metadata": {
        "id": "QrpNILZSFHhD"
      }
    },
    {
      "cell_type": "code",
      "source": [
        "persona = {\"nombre\": \"Ana\", \"edad\": 28}\n",
        "print(persona.keys())"
      ],
      "metadata": {
        "colab": {
          "base_uri": "https://localhost:8080/"
        },
        "id": "ZjOrfQQqFEg0",
        "outputId": "be7f735f-f243-42b3-c786-5d18b8ae77ca"
      },
      "execution_count": null,
      "outputs": [
        {
          "output_type": "stream",
          "name": "stdout",
          "text": [
            "dict_keys(['nombre', 'edad'])\n"
          ]
        }
      ]
    },
    {
      "cell_type": "markdown",
      "source": [
        "# Método Values()"
      ],
      "metadata": {
        "id": "UR3awus0FOjT"
      }
    },
    {
      "cell_type": "markdown",
      "source": [
        "Devuelve un objeto tipo vista que contiene todos los valores del diccionario."
      ],
      "metadata": {
        "id": "Y-wme1FzFTtr"
      }
    },
    {
      "cell_type": "code",
      "source": [
        "persona = {\"nombre\": \"Ana\", \"edad\": 28}\n",
        "print(persona.values())"
      ],
      "metadata": {
        "colab": {
          "base_uri": "https://localhost:8080/"
        },
        "id": "1bo1XoduFWWT",
        "outputId": "2b2e53c6-a468-404c-94d5-75c0cbfaa7fd"
      },
      "execution_count": null,
      "outputs": [
        {
          "output_type": "stream",
          "name": "stdout",
          "text": [
            "dict_values(['Ana', 28])\n"
          ]
        }
      ]
    },
    {
      "cell_type": "markdown",
      "source": [
        "# Iterar con los Diccionarios"
      ],
      "metadata": {
        "id": "KEzV3-J7hWwI"
      }
    },
    {
      "cell_type": "code",
      "source": [
        "# Diccionario de Contactos\n",
        "contactos = {\n",
        "    'Juan': '+58-912345678',\n",
        "    'Ana': '+507-987654321',\n",
        "    'Pedro': '+86-955555555'\n",
        "}\n",
        "print(contactos)"
      ],
      "metadata": {
        "colab": {
          "base_uri": "https://localhost:8080/"
        },
        "id": "mcAHmokZgf-C",
        "outputId": "84bf14f8-1091-49d9-8082-b3e79fbfbec0"
      },
      "execution_count": null,
      "outputs": [
        {
          "output_type": "stream",
          "name": "stdout",
          "text": [
            "{'Juan': '+58-912345678', 'Ana': '+507-987654321', 'Pedro': '+86-955555555'}\n"
          ]
        }
      ]
    },
    {
      "cell_type": "markdown",
      "source": [
        "## Cómo Iterar Sobre las Claves?"
      ],
      "metadata": {
        "id": "W7hkHrE1fLUg"
      }
    },
    {
      "cell_type": "code",
      "source": [
        "print(\"Iterando sobre las claves:\")\n",
        "for clave in contactos.keys():\n",
        "    print(clave)"
      ],
      "metadata": {
        "colab": {
          "base_uri": "https://localhost:8080/"
        },
        "id": "W9hdLgokfZTa",
        "outputId": "ddb4c85a-e87d-4fb5-e4c3-99c3050293a3"
      },
      "execution_count": null,
      "outputs": [
        {
          "output_type": "stream",
          "name": "stdout",
          "text": [
            "Iterando sobre las claves:\n",
            "Juan\n",
            "Ana\n",
            "Pedro\n"
          ]
        }
      ]
    },
    {
      "cell_type": "markdown",
      "source": [
        "## Cómo Iterar Sobre los Valores?"
      ],
      "metadata": {
        "id": "8zKiPMy8h3oX"
      }
    },
    {
      "cell_type": "code",
      "source": [
        "print(\"Iterando sobre los valores\")\n",
        "for valor in contactos.values():  #Pero por qué values()?\n",
        "    print(valor)"
      ],
      "metadata": {
        "colab": {
          "base_uri": "https://localhost:8080/"
        },
        "id": "03x5lVH6h9KX",
        "outputId": "4b49e611-ddb4-427b-a17f-ba60a928d872"
      },
      "execution_count": null,
      "outputs": [
        {
          "output_type": "stream",
          "name": "stdout",
          "text": [
            "Iterando sobre los valores\n",
            "Juan\n",
            "Ana\n",
            "Pedro\n"
          ]
        }
      ]
    },
    {
      "cell_type": "markdown",
      "source": [
        "## Cómo Iterar Sobre los Dos?"
      ],
      "metadata": {
        "id": "bEzMVxKKxYmD"
      }
    },
    {
      "cell_type": "code",
      "source": [
        "print(\"--- Iterando sobre claves y valores ---\")\n",
        "# Iterar sobre claves y valores al mismo tiempo\n",
        "for clave, valor in contactos.items():\n",
        "    print(f\"El telefono de: {clave}, es: {valor}\")"
      ],
      "metadata": {
        "colab": {
          "base_uri": "https://localhost:8080/"
        },
        "id": "CswAsH7AxeHD",
        "outputId": "d6135e9d-8f1d-4778-f5b8-bc87a39476f4"
      },
      "execution_count": null,
      "outputs": [
        {
          "output_type": "stream",
          "name": "stdout",
          "text": [
            "--- Iterando sobre claves y valores ---\n",
            "El telefono de: Juan, es: +58-912345678\n",
            "El telefono de: Ana, es: +507-987654321\n",
            "El telefono de: Pedro, es: +86-955555555\n"
          ]
        }
      ]
    },
    {
      "cell_type": "markdown",
      "source": [
        "# Método Setdefault()"
      ],
      "metadata": {
        "id": "Kn95QYShtKVo"
      }
    },
    {
      "cell_type": "markdown",
      "source": [
        "El método setdefault() en un diccionario de Python se usa para obtener el valor de una clave."
      ],
      "metadata": {
        "id": "d3fI5JEH_TDm"
      }
    },
    {
      "cell_type": "code",
      "source": [
        "puntuaciones = {\n",
        "    'Ana': 66,\n",
        "    'Luis': 88\n",
        "}\n",
        "print(puntuaciones.setdefault('Luis', 78))\n",
        "\n",
        "# 1. La clave 'Ana' ya existe\n",
        "# setdefault() devuelve el valor de 'Ana' (95) y el diccionario no cambia\n",
        "puntuacion_ana = puntuaciones.setdefault('Ana', 95)\n",
        "print(f\"Puntuación de Ana: {puntuacion_ana}\")\n",
        "print(\"Diccionario después de la operación (sin cambios):\", puntuaciones)\n",
        "\n",
        "print(\"-\" * 30)\n",
        "\n",
        "# 2. La clave 'Pedro' no existe\n",
        "# setdefault() añade 'Pedro' con el valor predeterminado (0) y lo devuelve\n",
        "puntuacion_pedro = puntuaciones.setdefault('Pedro', )\n",
        "print(f\"Puntuación de Pedro: {puntuacion_pedro}\")\n",
        "print(\"Diccionario después de la operación (con Pedro añadido):\", puntuaciones)"
      ],
      "metadata": {
        "colab": {
          "base_uri": "https://localhost:8080/"
        },
        "id": "Bwlr9XoStOHw",
        "outputId": "00c7d263-0cab-4ff1-d3e1-22fba5b336a0"
      },
      "execution_count": null,
      "outputs": [
        {
          "output_type": "stream",
          "name": "stdout",
          "text": [
            "88\n",
            "Puntuación de Ana: 66\n",
            "Diccionario después de la operación (sin cambios): {'Ana': 66, 'Luis': 88}\n",
            "------------------------------\n",
            "Puntuación de Pedro: None\n",
            "Diccionario después de la operación (con Pedro añadido): {'Ana': 66, 'Luis': 88, 'Pedro': None}\n"
          ]
        }
      ]
    },
    {
      "cell_type": "code",
      "source": [
        "puntuaciones = {\n",
        "    'Ana': 66,\n",
        "    'Luis': 88\n",
        "}\n",
        "\n",
        "# 1. La clave 'Ana' ya existe\n",
        "# setdefault() devuelve el valor de 'Ana' (95) y el diccionario no cambia\n",
        "puntuacion_ana = puntuaciones.setdefault('Ana', 95)\n",
        "print(f\"Puntuación de Ana: {puntuacion_ana}\")\n",
        "print(\"Diccionario después de la operación (sin cambios):\", puntuaciones)"
      ],
      "metadata": {
        "colab": {
          "base_uri": "https://localhost:8080/"
        },
        "id": "8yd2BnlYXldR",
        "outputId": "99959759-5ef9-4ad9-f282-7dba16214333"
      },
      "execution_count": null,
      "outputs": [
        {
          "output_type": "stream",
          "name": "stdout",
          "text": [
            "Puntuación de Ana: 66\n",
            "Diccionario después de la operación (sin cambios): {'Ana': 66, 'Luis': 88}\n"
          ]
        }
      ]
    },
    {
      "cell_type": "code",
      "source": [
        "puntuaciones = {\n",
        "    'Ana': 95,\n",
        "    'Luis': 88\n",
        "}\n",
        "\n",
        "# 1. La clave 'Ana' ya existe\n",
        "# setdefault() devuelve el valor de 'Ana' (95) y el diccionario no cambia\n",
        "puntuacion_ana = puntuaciones.setdefault('Ana', 0)\n",
        "print(f\"Puntuación de Ana: {puntuacion_ana}\")\n",
        "print(\"Diccionario después de la operación (sin cambios):\", puntuaciones)"
      ],
      "metadata": {
        "colab": {
          "base_uri": "https://localhost:8080/"
        },
        "id": "nap53lmgKXcr",
        "outputId": "4055a7c9-78b7-4309-8342-ce8c5d1f8069"
      },
      "execution_count": null,
      "outputs": [
        {
          "output_type": "stream",
          "name": "stdout",
          "text": [
            "Puntuación de Ana: 95\n",
            "Diccionario después de la operación (sin cambios): {'Ana': 95, 'Luis': 88}\n"
          ]
        }
      ]
    },
    {
      "cell_type": "markdown",
      "source": [
        "# Método get()"
      ],
      "metadata": {
        "id": "LLjIfhW3Fdj9"
      }
    },
    {
      "cell_type": "markdown",
      "source": [
        " Devuelve el valor de la clave especificada. Es más seguro que la indexación con corchetes porque si la clave no existe, devuelve None en lugar de un error."
      ],
      "metadata": {
        "id": "cp63pMFNFtsq"
      }
    },
    {
      "cell_type": "code",
      "source": [
        "persona = {\"nombre\": \"Ana\", \"edad\": 28}\n",
        "print(persona.get(\"nombre\"))\n",
        "print(persona.get(\"ciudad\"))"
      ],
      "metadata": {
        "colab": {
          "base_uri": "https://localhost:8080/"
        },
        "id": "4CfT2s5ZFvC6",
        "outputId": "18b6a1b9-09f4-4e1a-ec12-bb17e253618d"
      },
      "execution_count": null,
      "outputs": [
        {
          "output_type": "stream",
          "name": "stdout",
          "text": [
            "Ana\n",
            "None\n"
          ]
        }
      ]
    },
    {
      "cell_type": "markdown",
      "source": [
        "# Método pop()"
      ],
      "metadata": {
        "id": "OhciB1qtF2y6"
      }
    },
    {
      "cell_type": "markdown",
      "source": [
        " Elimina el par clave: valor de la clave especificada y devuelve su valor"
      ],
      "metadata": {
        "id": "T4IJnnhyGBRM"
      }
    },
    {
      "cell_type": "code",
      "source": [
        "persona = {\"nombre\": \"Ana\", \"edad\": 28}\n",
        "edad = persona.pop(\"edad\")\n",
        "print(persona)\n",
        "print(f\"La edad eliminada es: {edad}\")"
      ],
      "metadata": {
        "colab": {
          "base_uri": "https://localhost:8080/"
        },
        "id": "-bUOKIxUF2jE",
        "outputId": "7fa73608-ace3-4e2e-d7a0-294822235c57"
      },
      "execution_count": null,
      "outputs": [
        {
          "output_type": "stream",
          "name": "stdout",
          "text": [
            "{'nombre': 'Ana'}\n",
            "La edad eliminada es: 28\n"
          ]
        }
      ]
    },
    {
      "cell_type": "markdown",
      "source": [
        "# Método update()\n"
      ],
      "metadata": {
        "id": "t7CpGLQ2H2Hw"
      }
    },
    {
      "cell_type": "markdown",
      "source": [
        " Añade elementos de otro diccionario o de cualquier par de clave: valor al diccionario actual."
      ],
      "metadata": {
        "id": "BAT6fY6MH4n4"
      }
    },
    {
      "cell_type": "code",
      "source": [
        "persona = {\"nombre\": \"Ana\"}\n",
        "datos_adicionales = {\"edad\": 28, \"ciudad\": \"Madrid\"}\n",
        "persona.update(datos_adicionales)\n",
        "print(persona)"
      ],
      "metadata": {
        "colab": {
          "base_uri": "https://localhost:8080/"
        },
        "id": "S7DSztTIH4TI",
        "outputId": "c3d49ad5-90da-4338-f343-beeba06e98a7"
      },
      "execution_count": null,
      "outputs": [
        {
          "output_type": "stream",
          "name": "stdout",
          "text": [
            "{'nombre': 'Ana', 'edad': 28, 'ciudad': 'Madrid'}\n"
          ]
        }
      ]
    },
    {
      "cell_type": "markdown",
      "source": [
        "# Método clear()"
      ],
      "metadata": {
        "id": "ZJdWNm-sH_kf"
      }
    },
    {
      "cell_type": "markdown",
      "source": [
        "Elimina todos los elementos del diccionario, dejándolo vacío."
      ],
      "metadata": {
        "id": "CNdtstXdIFdA"
      }
    },
    {
      "cell_type": "code",
      "source": [
        "persona = {\"nombre\": \"Ana\", \"edad\": 28}\n",
        "persona.clear()\n",
        "print(persona)"
      ],
      "metadata": {
        "colab": {
          "base_uri": "https://localhost:8080/"
        },
        "id": "xV5d7qi9IF7o",
        "outputId": "eaf7b7ba-d61e-4317-fb3e-7ef38acf039f"
      },
      "execution_count": null,
      "outputs": [
        {
          "output_type": "stream",
          "name": "stdout",
          "text": [
            "{}\n"
          ]
        }
      ]
    },
    {
      "cell_type": "markdown",
      "source": [
        "# **JSON**"
      ],
      "metadata": {
        "id": "t3iiOAAyU7-O"
      }
    },
    {
      "cell_type": "markdown",
      "source": [
        "### En resumen es un formato de texto ligero para el intercambio de datos. Es muy popular para comunicarnos con APIs y servicios web."
      ],
      "metadata": {
        "id": "3xAtMxl9AcDk"
      }
    },
    {
      "cell_type": "markdown",
      "source": [
        "# Similitudes Formato JSON Y DICCIONARIOS"
      ],
      "metadata": {
        "id": "eyhTHspsPsPS"
      }
    },
    {
      "cell_type": "code",
      "source": [
        "// Objeto JSON\n",
        "{\n",
        "  \"nombre\": \"Ana\",\n",
        "  \"edad\": 28,\n",
        "  \"habilidades\": [\"Python\", \"SQL\"]\n",
        "}"
      ],
      "metadata": {
        "id": "POwMGxlGO_SO"
      },
      "execution_count": null,
      "outputs": []
    },
    {
      "cell_type": "code",
      "source": [
        "# Diccionario de Python\n",
        "datos_persona = {\n",
        "  \"nombre\": \"Ana\",\n",
        "  \"edad\": 28,\n",
        "  \"habilidades\": [\"Python\", \"SQL\"]\n",
        "}"
      ],
      "metadata": {
        "id": "pJ7eUs7nPACN"
      },
      "execution_count": null,
      "outputs": []
    },
    {
      "cell_type": "markdown",
      "source": [
        "# Cómo Trabajar con JSON en Python"
      ],
      "metadata": {
        "id": "Tzx1bolMP4HU"
      }
    },
    {
      "cell_type": "markdown",
      "source": [
        "Python tiene un módulo incorporado llamado json que te permite convertir entre diccionarios de Python y cadenas de texto JSON."
      ],
      "metadata": {
        "id": "GPjkkIRbQFch"
      }
    },
    {
      "cell_type": "markdown",
      "source": [
        "*  json.loads(): Convierte una cadena JSON en un diccionario de Python.\n",
        "*  json.dumps(): Convierte un diccionario de Python en una cadena JSON.\n"
      ],
      "metadata": {
        "id": "Pv2WxHC5QPrE"
      }
    },
    {
      "cell_type": "code",
      "source": [
        "import json\n",
        "# Connverción archivo\n",
        "with open('data.json') as json_file:\n",
        "    data = json.load(json_file)\n",
        "    print(data)\n"
      ],
      "metadata": {
        "id": "OYhdyu1MP-lc"
      },
      "execution_count": null,
      "outputs": []
    },
    {
      "cell_type": "code",
      "source": [
        "import json\n",
        "json_string = '{\"nombre\": \"Ana\", \"edad\": 28, \"ciudad\": \"Madrid\"}'\n",
        "datos_persona = json.loads(json_string)\n",
        "print(datos_persona)\n",
        "type(datos_persona)"
      ],
      "metadata": {
        "colab": {
          "base_uri": "https://localhost:8080/"
        },
        "id": "H32SfH6WlcxB",
        "outputId": "598ed0d4-004f-4124-da85-9e63842ffc0e"
      },
      "execution_count": null,
      "outputs": [
        {
          "output_type": "stream",
          "name": "stdout",
          "text": [
            "{'nombre': 'Ana', 'edad': 28, 'ciudad': 'Madrid'}\n"
          ]
        },
        {
          "output_type": "execute_result",
          "data": {
            "text/plain": [
              "dict"
            ]
          },
          "metadata": {},
          "execution_count": 48
        }
      ]
    },
    {
      "cell_type": "code",
      "source": [
        "# Diccionario de Python\n",
        "datos_persona = {\"ciudad\": [\"Madrid\", \"Paris\"],  \"profesion\": \"Ingeniera\"}\n",
        "\n",
        "# Convertir diccionario de Python a cadena JSON\n",
        "json_salida = json.dumps(datos_persona)\n",
        "print(json_salida, end =  \"  \") # Output: {\"ciudad\": \"Madrid\", \"profesion\": \"Ingeniera\"}\n",
        "type (json_salida)"
      ],
      "metadata": {
        "colab": {
          "base_uri": "https://localhost:8080/"
        },
        "id": "uiKc9y3IRGlT",
        "outputId": "f389b8ff-c176-41e2-d38f-e71950a31536"
      },
      "execution_count": null,
      "outputs": [
        {
          "output_type": "stream",
          "name": "stdout",
          "text": [
            "{\"ciudad\": [\"Madrid\", \"Paris\"], \"profesion\": \"Ingeniera\"}  "
          ]
        },
        {
          "output_type": "execute_result",
          "data": {
            "text/plain": [
              "str"
            ]
          },
          "metadata": {},
          "execution_count": 46
        }
      ]
    },
    {
      "cell_type": "markdown",
      "source": [
        "Realiza Ejemplos: de lista a JSON"
      ],
      "metadata": {
        "id": "KWDyW5B1N0iJ"
      }
    },
    {
      "cell_type": "code",
      "source": [
        "#xonvertir json a listas\n",
        "json_frutas = '[\"manzana\", \"banana\", \"cereza\"]'\n",
        "lista_frutas = json.loads(json_frutas)\n",
        "print(lista_frutas)\n",
        "type(lista_frutas)"
      ],
      "metadata": {
        "colab": {
          "base_uri": "https://localhost:8080/"
        },
        "id": "ef4UU9RXcrAx",
        "outputId": "72fa86d5-830c-4c99-ab49-c65cafb4e1d1"
      },
      "execution_count": null,
      "outputs": [
        {
          "output_type": "stream",
          "name": "stdout",
          "text": [
            "['manzana', 'banana', 'cereza']\n"
          ]
        },
        {
          "output_type": "execute_result",
          "data": {
            "text/plain": [
              "list"
            ]
          },
          "metadata": {},
          "execution_count": 45
        }
      ]
    },
    {
      "cell_type": "code",
      "source": [
        "#convertir listas a Json\n",
        "lista_frutas = [\"manzana\", \"banana\", \"cereza\"]\n",
        "json_frutas = json.dumps(lista_frutas)\n",
        "print(json_frutas)\n",
        "type(json_frutas)"
      ],
      "metadata": {
        "colab": {
          "base_uri": "https://localhost:8080/"
        },
        "id": "dY61aqwtcem6",
        "outputId": "092ac0e7-4bdb-4fd6-8099-b96dcbbb1e4b"
      },
      "execution_count": null,
      "outputs": [
        {
          "output_type": "stream",
          "name": "stdout",
          "text": [
            "[\"manzana\", \"banana\", \"cereza\"]\n"
          ]
        },
        {
          "output_type": "execute_result",
          "data": {
            "text/plain": [
              "str"
            ]
          },
          "metadata": {},
          "execution_count": 37
        }
      ]
    },
    {
      "cell_type": "markdown",
      "source": [
        "# **CONJUNTOS**"
      ],
      "metadata": {
        "id": "XkoAhVDOU-yp"
      }
    },
    {
      "cell_type": "code",
      "source": [
        "# Creando un conjunto con llaves {}\n",
        "colores = {\"rojo\", \"verde\", \"azul\"}\n",
        "\n",
        "# Imprimiendo el conjunto\n",
        "print(colores)"
      ],
      "metadata": {
        "colab": {
          "base_uri": "https://localhost:8080/"
        },
        "id": "D8BF4CACVxpX",
        "outputId": "f3bbec38-3a86-43ec-d3f9-64bd55c7e810"
      },
      "execution_count": null,
      "outputs": [
        {
          "output_type": "stream",
          "name": "stdout",
          "text": [
            "{'verde', 'rojo', 'azul'}\n"
          ]
        }
      ]
    },
    {
      "cell_type": "markdown",
      "source": [
        "# Operaciones Básicas de Conjuntos (set)"
      ],
      "metadata": {
        "id": "MzGielMbRj2O"
      }
    },
    {
      "cell_type": "markdown",
      "source": [
        "## Método add()"
      ],
      "metadata": {
        "id": "RXxAP6BzRysE"
      }
    },
    {
      "cell_type": "markdown",
      "source": [
        "El método .add() añade un elemento a un conjunto. Si el elemento ya existe, el conjunto no cambia."
      ],
      "metadata": {
        "id": "gsh6LDGeR90z"
      }
    },
    {
      "cell_type": "code",
      "source": [
        "carros = {\"Toyota\", \"Honda\", \"Ford\"}\n",
        "carros.add(\"Chevrolet\")\n",
        "print(carros)"
      ],
      "metadata": {
        "colab": {
          "base_uri": "https://localhost:8080/"
        },
        "id": "Vrk2oYLTRx8L",
        "outputId": "a7b2e1cd-c5e2-49a6-efee-7c44de26c638"
      },
      "execution_count": null,
      "outputs": [
        {
          "output_type": "stream",
          "name": "stdout",
          "text": [
            "{'Toyota', 'Chevrolet', 'Honda', 'Ford'}\n"
          ]
        }
      ]
    },
    {
      "cell_type": "markdown",
      "source": [
        "## Método remove()"
      ],
      "metadata": {
        "id": "htGSAUzkRp3k"
      }
    },
    {
      "cell_type": "markdown",
      "source": [
        "El método .remove() elimina un elemento; si el elemento no está en el conjunto, se produce un error."
      ],
      "metadata": {
        "id": "1tWPn4VBSP-D"
      }
    },
    {
      "cell_type": "code",
      "source": [
        "carros = {\"Toyota\", \"Honda\", \"Ford\"}\n",
        "carros.remove(\"Toyota\")\n",
        "carros.add(\"Chevrolet\")\n",
        "print(carros)"
      ],
      "metadata": {
        "colab": {
          "base_uri": "https://localhost:8080/"
        },
        "id": "KZNtD_mrRjm8",
        "outputId": "205333b1-cf93-40e2-8027-7e77d86a2ef9"
      },
      "execution_count": null,
      "outputs": [
        {
          "output_type": "stream",
          "name": "stdout",
          "text": [
            "{'Chevrolet', 'Honda', 'Ford'}\n"
          ]
        }
      ]
    },
    {
      "cell_type": "markdown",
      "source": [
        "Los conjuntos son muy útiles para limpiar listas que tienen elementos repetidos."
      ],
      "metadata": {
        "id": "z2YZIaPEV2ml"
      }
    },
    {
      "cell_type": "code",
      "source": [
        "# Ejemplo de eliminación de duplicados\n",
        "numeros_duplicados = [1, 2, 2, 3, 4, 4, 5]\n",
        "conjunto_numeros = set(numeros_duplicados)\n",
        "print(conjunto_numeros)"
      ],
      "metadata": {
        "colab": {
          "base_uri": "https://localhost:8080/"
        },
        "id": "fEP_OCHrV3Su",
        "outputId": "d4c2bfb2-393b-44f8-f073-2ae74d74df5e"
      },
      "execution_count": null,
      "outputs": [
        {
          "output_type": "stream",
          "name": "stdout",
          "text": [
            "{1, 2, 3, 4, 5}\n"
          ]
        }
      ]
    },
    {
      "cell_type": "markdown",
      "source": [
        "También son excelentes para operaciones de conjuntos como la unión, la intersección y la diferencia."
      ],
      "metadata": {
        "id": "TOP51yNuWPfm"
      }
    },
    {
      "cell_type": "markdown",
      "source": [
        "## Método Unión"
      ],
      "metadata": {
        "id": "LOv-bLwiWwAm"
      }
    },
    {
      "cell_type": "markdown",
      "source": [
        "El método .union() (o el operador |) crea un nuevo conjunto que contiene todos los elementos de ambos conjuntos, sin duplicados."
      ],
      "metadata": {
        "id": "-LkQhgamXdF1"
      }
    },
    {
      "cell_type": "code",
      "source": [
        "A = {'perro', 'gato', 'loro'}\n",
        "B = {'gato', 'conejo', 'serpiente'}\n",
        "\n",
        "union_conjuntos = A.union(B)\n",
        "print(f\"Unión usando el método .union(): {union_conjuntos}\")\n"
      ],
      "metadata": {
        "colab": {
          "base_uri": "https://localhost:8080/"
        },
        "id": "UbWSVweLWvy3",
        "outputId": "8b4bf626-bfa7-420b-b2ca-e32a71551d39"
      },
      "execution_count": null,
      "outputs": [
        {
          "output_type": "stream",
          "name": "stdout",
          "text": [
            "Unión usando el método .union(): {'loro', 'gato', 'conejo', 'perro', 'serpiente'}\n"
          ]
        }
      ]
    },
    {
      "cell_type": "code",
      "source": [
        "#conjuntos de paises, método unión \"|\"\n",
        "paises1 = {\"Francia\",\"Argentina\",\"Venezuela\",\"Panamá\"}\n",
        "paises2 = {\"India\",\"Finlandia\",\"Iran\",\"Alemania\"}\n",
        "union_paises = paises2 | paises1\n",
        "print(f\"Unión usando el operador |: {union_paises}\")"
      ],
      "metadata": {
        "colab": {
          "base_uri": "https://localhost:8080/"
        },
        "id": "JYNLs8nWXked",
        "outputId": "381df895-c09b-4600-d57b-83958c45d55e"
      },
      "execution_count": null,
      "outputs": [
        {
          "output_type": "stream",
          "name": "stdout",
          "text": [
            "Unión usando el operador |: {'Argentina', 'Finlandia', 'India', 'Francia', 'Alemania', 'Iran', 'Venezuela', 'Panamá'}\n"
          ]
        }
      ]
    },
    {
      "cell_type": "markdown",
      "source": [
        "## Método Intersección"
      ],
      "metadata": {
        "id": "Lmn6EV7FbQSz"
      }
    },
    {
      "cell_type": "markdown",
      "source": [
        "El método .intersection() (o el operador &) devuelve un nuevo conjunto con los elementos que son comunes a ambos conjuntos."
      ],
      "metadata": {
        "id": "lP9ktlePbVcB"
      }
    },
    {
      "cell_type": "code",
      "source": [
        "A = {'perro', 'gato', 'loro'}\n",
        "B = {'gato', 'conejo', 'serpiente'}\n",
        "\n",
        "interseccion_conjuntos = A.intersection(B)\n",
        "print(f\"Intersección usando el método .intersection(): {interseccion_conjuntos}\")"
      ],
      "metadata": {
        "colab": {
          "base_uri": "https://localhost:8080/"
        },
        "id": "DStCN8uKbOpB",
        "outputId": "ae037960-3e74-4d20-de76-c69a04dba360"
      },
      "execution_count": null,
      "outputs": [
        {
          "output_type": "stream",
          "name": "stdout",
          "text": [
            "Intersección usando el método .intersection(): {'gato'}\n"
          ]
        }
      ]
    },
    {
      "cell_type": "code",
      "source": [
        "#conjuntos de numeros, método intersección \"&\"\n",
        "numeros1 = {1, 2, 6, 4, 5}\n",
        "numeros2 = {9, 12, 5, 6, 10}\n",
        "interseccion_numeros = numeros1 & numeros2\n",
        "print(interseccion_numeros)"
      ],
      "metadata": {
        "colab": {
          "base_uri": "https://localhost:8080/"
        },
        "id": "G_qq4mQYbrpo",
        "outputId": "e1f73775-7b28-4966-f2d5-2f6c084b5d7b"
      },
      "execution_count": null,
      "outputs": [
        {
          "output_type": "stream",
          "name": "stdout",
          "text": [
            "{5, 6}\n"
          ]
        }
      ]
    },
    {
      "cell_type": "markdown",
      "source": [
        "## Método Diferencia"
      ],
      "metadata": {
        "id": "hjsJZyD-cbNY"
      }
    },
    {
      "cell_type": "markdown",
      "source": [
        "El método .difference() (o el operador -) devuelve un nuevo conjunto con los elementos que están en el primer conjunto, pero no en el segundo."
      ],
      "metadata": {
        "id": "B5BHYaJYcfmI"
      }
    },
    {
      "cell_type": "code",
      "source": [
        "A = {'perro', 'gato', 'loro'}\n",
        "B = {'gato', 'conejo', 'serpiente'}\n",
        "\n",
        "diferencia_conjuntos = B.difference(A)\n",
        "print(f\"Diferencia A - B (método .difference()): {diferencia_conjuntos}\")"
      ],
      "metadata": {
        "colab": {
          "base_uri": "https://localhost:8080/"
        },
        "id": "4_fucBElciHQ",
        "outputId": "ff6c682c-a7f9-4133-d790-0d923f65ffcd"
      },
      "execution_count": null,
      "outputs": [
        {
          "output_type": "stream",
          "name": "stdout",
          "text": [
            "Diferencia A - B (método .difference()): {'serpiente', 'conejo'}\n"
          ]
        }
      ]
    },
    {
      "cell_type": "code",
      "source": [
        "#conjuntos de carros, método de intersección \"-\"\n",
        "carros1 = {\"Toyota\", \"Honda\", \"Ford\"}\n",
        "carros2 = {\"Honda\", \"Chevrolet\", \"Ford\"}\n",
        "diferencia_carros = carros1 - carros2\n",
        "print(diferencia_carros)"
      ],
      "metadata": {
        "colab": {
          "base_uri": "https://localhost:8080/"
        },
        "id": "lYvSWXqydTWf",
        "outputId": "83147ddf-a472-416a-a481-bb89d18258f5"
      },
      "execution_count": null,
      "outputs": [
        {
          "output_type": "stream",
          "name": "stdout",
          "text": [
            "{'Toyota'}\n"
          ]
        }
      ]
    },
    {
      "cell_type": "markdown",
      "source": [
        "# **LISTAS BIDIMENSIONALES**"
      ],
      "metadata": {
        "id": "tP_JryemgLuk"
      }
    },
    {
      "cell_type": "markdown",
      "source": [
        "### Las listas bidimensionales son listas anidadas dentro de otra lista, creando una estructura de datos que se asemeja a una tabla o una matriz Cada lista interna (o sub-lista) representa una fila, y los elementos dentro de cada sub-lista representan las columnas."
      ],
      "metadata": {
        "id": "kj3ZRxDR2mE-"
      }
    },
    {
      "cell_type": "code",
      "source": [
        "# Lista unidimensional (una fila)\n",
        "lista_simple = [1, 2, 3, 4]\n",
        "\n",
        "# Lista bidimensional (una matriz 3x3)\n",
        "matriz = [\n",
        "    [1, 2, 3],  # Fila 0\n",
        "    [4, 5, 6],  # Fila 1\n",
        "    [7, 8, 9]   # Fila 2\n",
        "]"
      ],
      "metadata": {
        "id": "w9bmFn8AgPVz"
      },
      "execution_count": null,
      "outputs": []
    },
    {
      "cell_type": "markdown",
      "source": [
        "realizar ejemplos"
      ],
      "metadata": {
        "id": "s1SxU-EGhr0q"
      }
    },
    {
      "cell_type": "code",
      "source": [
        "#realizar una matriz 3x3\n",
        "matriz = [\n",
        "    [1, 2, 3],\n",
        "    [4, 5, 6],\n",
        "    [7, 8, 9]\n",
        "]\n",
        "print(matriz)"
      ],
      "metadata": {
        "colab": {
          "base_uri": "https://localhost:8080/"
        },
        "id": "aS5VNCZ_ZmR4",
        "outputId": "cafdf318-4731-4c1f-830c-c20a5ae554d6"
      },
      "execution_count": null,
      "outputs": [
        {
          "output_type": "stream",
          "name": "stdout",
          "text": [
            "[[1, 2, 3], [4, 5, 6], [7, 8, 9]]\n"
          ]
        }
      ]
    },
    {
      "cell_type": "code",
      "source": [
        "lista_frutas = [\n",
        "    [\"manzana\", \"banana\", \"cereza\"],\n",
        "    [\"mango\", \"kiwi\", \"naranja\"],\n",
        "    [\"pera\", \"uva\", \"sandia\"]\n",
        "    ]\n",
        "\n",
        "print(lista_frutas[2][1])\n"
      ],
      "metadata": {
        "colab": {
          "base_uri": "https://localhost:8080/"
        },
        "id": "yQxecmQxZSKk",
        "outputId": "5fb43b7f-a694-4084-a1e8-18a7a49cf6d0"
      },
      "execution_count": null,
      "outputs": [
        {
          "output_type": "stream",
          "name": "stdout",
          "text": [
            "uva\n"
          ]
        }
      ]
    },
    {
      "cell_type": "code",
      "source": [
        "# El jugador 'X' hace un movimiento\n",
        "# Posición:(índices 1, 0)\n",
        "tablero = [\n",
        "    [' ', ' ', ' '],\n",
        "    [' ', ' ', ' '],\n",
        "    [' ', ' ', ' ']\n",
        "]\n",
        "tablero[1][1] = 'X'\n",
        "\n",
        "# Imprimimos el tablero actualizado para ver el cambio\n",
        "for fila in tablero:\n",
        "    print(fila)\n"
      ],
      "metadata": {
        "colab": {
          "base_uri": "https://localhost:8080/"
        },
        "id": "hhtkmQ4HNL0M",
        "outputId": "fa9921a8-1f75-4fc3-bf67-4d78067e0caf"
      },
      "execution_count": null,
      "outputs": [
        {
          "output_type": "stream",
          "name": "stdout",
          "text": [
            "[' ', ' ', ' ']\n",
            "[' ', 'X', ' ']\n",
            "[' ', ' ', ' ']\n"
          ]
        }
      ]
    },
    {
      "cell_type": "markdown",
      "source": [
        "## Bucles For*"
      ],
      "metadata": {
        "id": "G9itdEklnabE"
      }
    },
    {
      "cell_type": "markdown",
      "source": [
        "El objetivo de un bucle for en las listas bidimensionales es recorrer y acceder a cada uno de sus elementos de forma organizada. Dado que una lista bidimensional es una \"lista de listas\", necesitas una manera de acceder a cada lista interna y, a su vez, a cada elemento dentro de esas listas."
      ],
      "metadata": {
        "id": "Bq4uU6DmLNcf"
      }
    },
    {
      "cell_type": "code",
      "source": [
        "list_array = [\n",
        "    [1,2,3],\n",
        "    [4,5,6],\n",
        "    [7,8,9]\n",
        "    ]\n",
        "for i in list_array:\n",
        "    print(i)"
      ],
      "metadata": {
        "colab": {
          "base_uri": "https://localhost:8080/"
        },
        "id": "_inJH5DKhtdh",
        "outputId": "e809d180-d00a-4219-ea7c-7f3d2ff26216"
      },
      "execution_count": null,
      "outputs": [
        {
          "output_type": "stream",
          "name": "stdout",
          "text": [
            "[1, 2, 3]\n",
            "[4, 5, 6]\n",
            "[7, 8, 9]\n"
          ]
        }
      ]
    },
    {
      "cell_type": "code",
      "source": [
        "matriz = [\n",
        "    [1, 2, 3],\n",
        "    [4, 5, 6],\n",
        "    [7, 8, 9]\n",
        "]\n",
        "\n",
        "for fila in matriz:\n",
        "    for elemento in fila:\n",
        "        print(elemento, end='  ')\n",
        "    print()"
      ],
      "metadata": {
        "id": "BAr5zsLsnWvr",
        "colab": {
          "base_uri": "https://localhost:8080/"
        },
        "outputId": "99962465-087f-4ac5-ca49-cc37e4325b0e"
      },
      "execution_count": null,
      "outputs": [
        {
          "output_type": "stream",
          "name": "stdout",
          "text": [
            "1  2  3  \n",
            "4  5  6  \n",
            "7  8  9  \n"
          ]
        }
      ]
    },
    {
      "cell_type": "markdown",
      "source": [
        "# **Práctica**"
      ],
      "metadata": {
        "id": "9FZVVrTG7ruJ"
      }
    },
    {
      "cell_type": "markdown",
      "source": [
        "# **Misión**:\n",
        "\n",
        "Administrar el Inventario Digital de una Tienda 🛍️ llamada \"MI CASITA FELIZ\"\n",
        "En esta semana hemos aprendido sobre las listas, los diccionarios y los formatos JSON. Ahora, es momento de poner todo en práctica con un ejercicio que simula una tarea real en una tienda.\n",
        "\n",
        "Nuestra misión es crear un pequeño programa en Python para gestionar un inventario de productos. El programa debe realizar tres pasos clave, demostrando tu habilidad para manejar y transferir datos.\n",
        "\n",
        "\n",
        "\n",
        "1.   Crear el Inventario:\n",
        "2.   Guárdalo para Viajar (Serialización a JSON):\n",
        "3.   Reciba y Lea el Inventario (Deserialización):\n",
        "\n"
      ],
      "metadata": {
        "id": "cFO6cABO7qlg"
      }
    },
    {
      "cell_type": "code",
      "source": [
        "#Paso nro 1\n",
        "inventario = [{\"nombre\":\"sweters\", \"cantidad\": 5, \"precio\": 25},\n",
        "              {\"nombre\":\"soda\", \"cantidad\": 10, \"precio\": 0.65},\n",
        "              {\"nombre\":\"Guaba\", \"cantidad\": 20 , \"precio\": 0.75}\n",
        "              ]\n",
        "print(inventario)"
      ],
      "metadata": {
        "colab": {
          "base_uri": "https://localhost:8080/"
        },
        "id": "wqJ89Vnt7wTI",
        "outputId": "8a99d543-61ba-4ac4-bb00-bd1ce6311920"
      },
      "execution_count": null,
      "outputs": [
        {
          "output_type": "stream",
          "name": "stdout",
          "text": [
            "[{'nombre': 'sweters', 'cantidad': 5, 'precio': 25}, {'nombre': 'soda', 'cantidad': 10, 'precio': 0.65}, {'nombre': 'Guaba', 'cantidad': 20, 'precio': 0.75}]\n"
          ]
        }
      ]
    },
    {
      "cell_type": "code",
      "source": [
        "import json\n",
        "\n",
        "#Abriendo\n",
        "inventario_json = open(\"inventario.json\", \"w\")\n",
        "#Convertir\n",
        "json.dump(inventario, inventario_json, indent = 4)\n",
        "#Cerrando\n",
        "inventario_json.close()\n",
        "\n",
        "print(\"Inventario guardado en inventario.json\")"
      ],
      "metadata": {
        "colab": {
          "base_uri": "https://localhost:8080/"
        },
        "id": "qNqHDlXHqggD",
        "outputId": "81e4e138-b715-40c3-ebe3-d626aaeb09c3"
      },
      "execution_count": null,
      "outputs": [
        {
          "output_type": "stream",
          "name": "stdout",
          "text": [
            "Inventario guardado en inventario.json\n"
          ]
        }
      ]
    },
    {
      "cell_type": "code",
      "source": [
        "#Abriendo\n",
        "inventario_json = open(\"inventario.json\", \"r\")\n",
        "#Convertir\n",
        "inventario_diccionario = json.load(inventario_json)\n",
        "#Cerrando\n",
        "inventario_json.close()\n",
        "print(inventario_diccionario)"
      ],
      "metadata": {
        "colab": {
          "base_uri": "https://localhost:8080/"
        },
        "id": "0Og7T0VOvFd9",
        "outputId": "9838003c-3e2e-4e75-c581-73e50d5b5c72"
      },
      "execution_count": null,
      "outputs": [
        {
          "output_type": "stream",
          "name": "stdout",
          "text": [
            "[{'nombre': 'sweters', 'cantidad': 5, 'precio': 25}, {'nombre': 'soda', 'cantidad': 10, 'precio': 0.65}, {'nombre': 'Guaba', 'cantidad': 20, 'precio': 0.75}]\n"
          ]
        }
      ]
    }
  ]
}