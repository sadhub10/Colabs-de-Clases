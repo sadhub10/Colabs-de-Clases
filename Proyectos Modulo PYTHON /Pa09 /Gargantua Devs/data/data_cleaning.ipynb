{
 "cells": [
  {
   "cell_type": "markdown",
   "id": "de175acc-10d6-4b9d-95ff-7bf48969f568",
   "metadata": {},
   "source": [
    "# Limpieza del conjunto de datos y la estandarizacion del mismo"
   ]
  },
  {
   "cell_type": "code",
   "execution_count": 2,
   "id": "bd8e8ad3-af08-4c84-99f1-89738822b882",
   "metadata": {},
   "outputs": [],
   "source": [
    "import pandas as pd\n",
    "\n",
    "df = pd.read_csv('dataset_unificado.csv')"
   ]
  },
  {
   "cell_type": "code",
   "execution_count": 3,
   "id": "0d1ff63e-7359-4a3a-8174-06efc1d7a440",
   "metadata": {},
   "outputs": [
    {
     "data": {
      "text/html": [
       "<div>\n",
       "<style scoped>\n",
       "    .dataframe tbody tr th:only-of-type {\n",
       "        vertical-align: middle;\n",
       "    }\n",
       "\n",
       "    .dataframe tbody tr th {\n",
       "        vertical-align: top;\n",
       "    }\n",
       "\n",
       "    .dataframe thead th {\n",
       "        text-align: right;\n",
       "    }\n",
       "</style>\n",
       "<table border=\"1\" class=\"dataframe\">\n",
       "  <thead>\n",
       "    <tr style=\"text-align: right;\">\n",
       "      <th></th>\n",
       "      <th>tipo_crimen</th>\n",
       "      <th>año</th>\n",
       "      <th>mes</th>\n",
       "      <th>provincia</th>\n",
       "      <th>sexo</th>\n",
       "      <th>rango_de_edad</th>\n",
       "      <th>tipo_de_arma_utilizada</th>\n",
       "      <th>distrito</th>\n",
       "    </tr>\n",
       "  </thead>\n",
       "  <tbody>\n",
       "    <tr>\n",
       "      <th>0</th>\n",
       "      <td>Homicidio</td>\n",
       "      <td>2017</td>\n",
       "      <td>Enero</td>\n",
       "      <td>Panama</td>\n",
       "      <td>Masculino</td>\n",
       "      <td>30-34</td>\n",
       "      <td>Arma de Fuego</td>\n",
       "      <td>San Miguelito</td>\n",
       "    </tr>\n",
       "    <tr>\n",
       "      <th>1</th>\n",
       "      <td>Homicidio</td>\n",
       "      <td>2017</td>\n",
       "      <td>Enero</td>\n",
       "      <td>Panama</td>\n",
       "      <td>Femenino</td>\n",
       "      <td>10-14</td>\n",
       "      <td>Arma de Fuego</td>\n",
       "      <td>San Miguelito</td>\n",
       "    </tr>\n",
       "    <tr>\n",
       "      <th>2</th>\n",
       "      <td>Homicidio</td>\n",
       "      <td>2017</td>\n",
       "      <td>Enero</td>\n",
       "      <td>Panama</td>\n",
       "      <td>Masculino</td>\n",
       "      <td>30-34</td>\n",
       "      <td>Arma de Fuego</td>\n",
       "      <td>San Miguelito</td>\n",
       "    </tr>\n",
       "    <tr>\n",
       "      <th>3</th>\n",
       "      <td>Homicidio</td>\n",
       "      <td>2017</td>\n",
       "      <td>Enero</td>\n",
       "      <td>Panama</td>\n",
       "      <td>Masculino</td>\n",
       "      <td>No disponible</td>\n",
       "      <td>Arma de Fuego</td>\n",
       "      <td>San Miguelito</td>\n",
       "    </tr>\n",
       "    <tr>\n",
       "      <th>4</th>\n",
       "      <td>Homicidio</td>\n",
       "      <td>2017</td>\n",
       "      <td>Enero</td>\n",
       "      <td>Panama</td>\n",
       "      <td>Femenino</td>\n",
       "      <td>40-44</td>\n",
       "      <td>Arma de Fuego</td>\n",
       "      <td>San Miguelito</td>\n",
       "    </tr>\n",
       "  </tbody>\n",
       "</table>\n",
       "</div>"
      ],
      "text/plain": [
       "  tipo_crimen   año    mes provincia       sexo  rango_de_edad  \\\n",
       "0   Homicidio  2017  Enero    Panama  Masculino          30-34   \n",
       "1   Homicidio  2017  Enero    Panama   Femenino          10-14   \n",
       "2   Homicidio  2017  Enero    Panama  Masculino          30-34   \n",
       "3   Homicidio  2017  Enero    Panama  Masculino  No disponible   \n",
       "4   Homicidio  2017  Enero    Panama   Femenino          40-44   \n",
       "\n",
       "  tipo_de_arma_utilizada       distrito  \n",
       "0          Arma de Fuego  San Miguelito  \n",
       "1          Arma de Fuego  San Miguelito  \n",
       "2          Arma de Fuego  San Miguelito  \n",
       "3          Arma de Fuego  San Miguelito  \n",
       "4          Arma de Fuego  San Miguelito  "
      ]
     },
     "execution_count": 3,
     "metadata": {},
     "output_type": "execute_result"
    }
   ],
   "source": [
    "df.head()"
   ]
  },
  {
   "cell_type": "markdown",
   "id": "afbbd287-f271-4473-bb22-2ae8923888e0",
   "metadata": {},
   "source": [
    "## Valores unicos por columna para realizar limpieza estandarizada"
   ]
  },
  {
   "cell_type": "code",
   "execution_count": 5,
   "id": "943ed641-795e-40b6-a6c0-e5d94c92ca4f",
   "metadata": {},
   "outputs": [
    {
     "data": {
      "text/plain": [
       "array(['Homicidio', 'Femicidio'], dtype=object)"
      ]
     },
     "execution_count": 5,
     "metadata": {},
     "output_type": "execute_result"
    }
   ],
   "source": [
    "df['tipo_crimen'].unique()"
   ]
  },
  {
   "cell_type": "code",
   "execution_count": 6,
   "id": "27250741-e372-4c93-821f-b23d23ffde0e",
   "metadata": {},
   "outputs": [
    {
     "data": {
      "text/plain": [
       "array([2017, 2018, 2019, 2020, 2021, 2022, 2023, 2024])"
      ]
     },
     "execution_count": 6,
     "metadata": {},
     "output_type": "execute_result"
    }
   ],
   "source": [
    "df['año'].unique()"
   ]
  },
  {
   "cell_type": "code",
   "execution_count": 7,
   "id": "4b4b6a71-7eba-49bd-99cb-6804c5d8a649",
   "metadata": {},
   "outputs": [
    {
     "data": {
      "text/plain": [
       "array(['Enero', 'Febrero', 'Marzo', 'Abril', 'Mayo', 'Junio', 'Julio',\n",
       "       'Agosto', 'Septiembre', 'Octubre', 'Noviembre', 'Diciembre',\n",
       "       'julio', 'junio', 'septiembre', 'febrero', 'mayo'], dtype=object)"
      ]
     },
     "execution_count": 7,
     "metadata": {},
     "output_type": "execute_result"
    }
   ],
   "source": [
    "df['mes'].unique()"
   ]
  },
  {
   "cell_type": "code",
   "execution_count": 8,
   "id": "2e812347-681f-479f-88d8-47e726c8b03b",
   "metadata": {},
   "outputs": [],
   "source": [
    "# Estandarizacion de mes debido a que tiene duplicados\n",
    "df['mes'] = df['mes'].str.lower().str.capitalize()"
   ]
  },
  {
   "cell_type": "code",
   "execution_count": 10,
   "id": "0c529c76-1189-4efb-93b7-1ada456761fc",
   "metadata": {},
   "outputs": [
    {
     "data": {
      "text/plain": [
       "['Abril',\n",
       " 'Agosto',\n",
       " 'Diciembre',\n",
       " 'Enero',\n",
       " 'Febrero',\n",
       " 'Julio',\n",
       " 'Junio',\n",
       " 'Marzo',\n",
       " 'Mayo',\n",
       " 'Noviembre',\n",
       " 'Octubre',\n",
       " 'Septiembre']"
      ]
     },
     "execution_count": 10,
     "metadata": {},
     "output_type": "execute_result"
    }
   ],
   "source": [
    "sorted(df['mes'].unique())"
   ]
  },
  {
   "cell_type": "code",
   "execution_count": 11,
   "id": "6bb62cd9-6090-4bd5-85fc-67c0166fad9e",
   "metadata": {},
   "outputs": [
    {
     "data": {
      "text/plain": [
       "array(['Panama', 'Panama Oeste', 'Chiriqui', 'Cocle', 'Colon', 'Herrera',\n",
       "       'Veraguas', 'Bocas del Toro', 'Darien', 'Los Santos',\n",
       "       'Comarca Ngobe Bugle', 'Comarca Kuna Yala', 'Panamá',\n",
       "       'Comarca Ngöbe Buglé', 'Bocas Del Toro', 'Chiriquí', 'Colón',\n",
       "       'Coclé', 'Panamá Oeste', 'San Miguelito', 'Darién', 'veraguas',\n",
       "       'Comarca Emberá Wounaan', nan, 'Chiriqui\\xad',\n",
       "       'Panama (San Miguelito)', 'Comarca Embera Wounnan',\n",
       "       'Comarca Ngäbe-Bugle'], dtype=object)"
      ]
     },
     "execution_count": 11,
     "metadata": {},
     "output_type": "execute_result"
    }
   ],
   "source": [
    "df['provincia'].unique()"
   ]
  },
  {
   "cell_type": "code",
   "execution_count": 14,
   "id": "714c6d71-7597-471a-9237-7f7d7bf0b776",
   "metadata": {},
   "outputs": [],
   "source": [
    "df['provincia'] = df['provincia'].str.lower().str.strip().str.replace('\\xad', '', regex=True)\n",
    "\n",
    "correcciones = {\n",
    "    'panama': 'Panamá',\n",
    "    'panamá': 'Panamá',\n",
    "    'panama oeste': 'Panamá Oeste',\n",
    "    'panamá oeste': 'Panamá Oeste',\n",
    "    'panama (san miguelito)': 'San Miguelito',\n",
    "    'san miguelito': 'San Miguelito',\n",
    "    'chiriqui': 'Chiriquí',\n",
    "    'chiriquí': 'Chiriquí',\n",
    "    'chiriqui': 'Chiriquí',\n",
    "    'colon': 'Colón',\n",
    "    'colón': 'Colón',\n",
    "    'cocle': 'Coclé',\n",
    "    'coclé': 'Coclé',\n",
    "    'veraguas': 'Veraguas',\n",
    "    'herrera': 'Herrera',\n",
    "    'los santos': 'Los Santos',\n",
    "    'darien': 'Darién',\n",
    "    'darién': 'Darién',\n",
    "    'bocas del toro': 'Bocas del Toro',\n",
    "    'bocas del toro': 'Bocas del Toro',\n",
    "    'comarca kuna yala': 'Comarca Kuna Yala',\n",
    "    'comarca ngobe bugle': 'Comarca Ngäbe Buglé',\n",
    "    'comarca ngöbe buglé': 'Comarca Ngäbe Buglé',\n",
    "    'comarca ngäbe-bugle': 'Comarca Ngäbe Buglé',\n",
    "    'comarca embera wounnan': 'Comarca Emberá Wounaan',\n",
    "    'comarca emberá wounaan': 'Comarca Emberá Wounaan'\n",
    "}\n",
    "\n",
    "df['provincia'] = df['provincia'].replace(correcciones)\n",
    "\n",
    "df['provincia'] = df['provincia'].str.title()"
   ]
  },
  {
   "cell_type": "code",
   "execution_count": 15,
   "id": "0673e787-0aa2-40a5-9784-14dc78d83377",
   "metadata": {},
   "outputs": [
    {
     "data": {
      "text/plain": [
       "array(['Panamá', 'Panamá Oeste', 'Chiriquí', 'Coclé', 'Colón', 'Herrera',\n",
       "       'Veraguas', 'Bocas Del Toro', 'Darién', 'Los Santos',\n",
       "       'Comarca Ngäbe Buglé', 'Comarca Kuna Yala', 'San Miguelito',\n",
       "       'Comarca Emberá Wounaan', nan], dtype=object)"
      ]
     },
     "execution_count": 15,
     "metadata": {},
     "output_type": "execute_result"
    }
   ],
   "source": [
    "df['provincia'].unique()"
   ]
  },
  {
   "cell_type": "code",
   "execution_count": 16,
   "id": "7b53e858-3d8f-4031-a19f-54c7895f6d70",
   "metadata": {},
   "outputs": [
    {
     "data": {
      "text/plain": [
       "array(['Panamá', 'Panamá Oeste', 'Chiriquí', 'Coclé', 'Colón', 'Herrera',\n",
       "       'Veraguas', 'Bocas Del Toro', 'Darién', 'Los Santos',\n",
       "       'Comarca Ngäbe Buglé', 'Comarca Kuna Yala', 'San Miguelito',\n",
       "       'Comarca Emberá Wounaan', 'No disponible'], dtype=object)"
      ]
     },
     "execution_count": 16,
     "metadata": {},
     "output_type": "execute_result"
    }
   ],
   "source": [
    "df['provincia'] = df['provincia'].fillna('No disponible')\n",
    "df['provincia'].unique()"
   ]
  },
  {
   "cell_type": "code",
   "execution_count": 17,
   "id": "0400d709-9ea1-42ba-9a05-bdbdde553a75",
   "metadata": {},
   "outputs": [
    {
     "data": {
      "text/plain": [
       "array(['Masculino', 'Femenino', 'No disponible'], dtype=object)"
      ]
     },
     "execution_count": 17,
     "metadata": {},
     "output_type": "execute_result"
    }
   ],
   "source": [
    "df['sexo'].unique()"
   ]
  },
  {
   "cell_type": "code",
   "execution_count": 18,
   "id": "1749f149-b017-44e0-af4f-f6dc83ee97a7",
   "metadata": {},
   "outputs": [
    {
     "data": {
      "text/plain": [
       "array(['30-34', ' 10-14', 'No disponible', '40-44', '35-39', '25-29',\n",
       "       '18-24', '55-59', '15-17', '0-4', '50-54', '45-49', ' 5-9',\n",
       "       '80 y mas', '60-64', '65-69', '75-79', '70-74', '5-9', '10-14',\n",
       "       'Sin Determinar', '35-39 ', '30-34 ', '18-24 ', '25-29 ', '40-44 ',\n",
       "       '45-49 ', '50-54 ', '15-17 ', '0-4 ', '70-74 ', '65-69 ', '60-64 ',\n",
       "       '55-59 ', '80 y más años', '10-14.', '5-9.', '18-24 años',\n",
       "       '25-29 años', '40-44 años', '35-39 años', '50-54 años',\n",
       "       '60-64 años', '0-4 años', '30-34 años', '65-69 años', '10-14 años',\n",
       "       '55-59 años', '70-74 años', '15-17 años', '45-49 años',\n",
       "       '75-79 años', '05-09 años', '10-14 ', '05-09 ', '80 y mÃ\\x83Â¡s ',\n",
       "       'Sin determinar', '75-79 '], dtype=object)"
      ]
     },
     "execution_count": 18,
     "metadata": {},
     "output_type": "execute_result"
    }
   ],
   "source": [
    "df['rango_de_edad'].unique()"
   ]
  },
  {
   "cell_type": "code",
   "execution_count": 19,
   "id": "d6aa8e03-9267-487e-a235-d2a77dbf5382",
   "metadata": {},
   "outputs": [],
   "source": [
    "# Normalizacion de los datos de la columna rango de edad porque estan destruidos completamente\n",
    "df['rango_de_edad'] = (\n",
    "    df['rango_de_edad']\n",
    "    .astype(str)\n",
    "    .str.lower()\n",
    "    .str.strip()\n",
    "    .str.replace(r'[^\\w\\s-]', '', regex=True) # ESTO ELIMINA PUNTOS Y SIMBOLOS GRACIAS KAPELL\n",
    "    .str.replace('años', '', regex=False)\n",
    "    .str.replace('mas', '80 y más', regex=False)\n",
    "    .str.replace('más', '80 y más', regex=False)\n",
    "    .str.replace('mÃ\\x83Â¡s', '80 y más', regex=False)\n",
    ")\n",
    "\n",
    "correcciones = {\n",
    "    'no disponible': 'No disponible',\n",
    "    'sin determinar': 'No disponible',\n",
    "    '05-09': '5-9',\n",
    "    '05-09 ': '5-9',\n",
    "    '5-9.': '5-9',\n",
    "    '5-9 ': '5-9',\n",
    "    ' 5-9': '5-9',\n",
    "    '10-14.': '10-14',\n",
    "    '10-14 ': '10-14',\n",
    "    ' 10-14': '10-14',\n",
    "    '10-14 años': '10-14',\n",
    "    '18-24 años': '18-24',\n",
    "    '25-29 años': '25-29',\n",
    "    '30-34 años': '30-34',\n",
    "    '35-39 años': '35-39',\n",
    "    '40-44 años': '40-44',\n",
    "    '45-49 años': '45-49',\n",
    "    '50-54 años': '50-54',\n",
    "    '55-59 años': '55-59',\n",
    "    '60-64 años': '60-64',\n",
    "    '65-69 años': '65-69',\n",
    "    '70-74 años': '70-74',\n",
    "    '75-79 años': '75-79',\n",
    "    '80 y mas': '80 y más',\n",
    "    '80 y más años': '80 y más',\n",
    "    '75-79 ': '75-79',\n",
    "    '35-39 ': '35-39',\n",
    "    '30-34 ': '30-34',\n",
    "    '18-24 ': '18-24',\n",
    "    '25-29 ': '25-29',\n",
    "    '40-44 ': '40-44',\n",
    "    '45-49 ': '45-49',\n",
    "    '50-54 ': '50-54',\n",
    "    '15-17 ': '15-17',\n",
    "    '0-4 ': '0-4',\n",
    "    '70-74 ': '70-74',\n",
    "    '65-69 ': '65-69',\n",
    "    '60-64 ': '60-64',\n",
    "    '55-59 ': '55-59',\n",
    "}\n",
    "\n",
    "df['rango_de_edad'] = df['rango_de_edad'].replace(correcciones)\n",
    "\n",
    "df['rango_de_edad'] = df['rango_de_edad'].str.strip()"
   ]
  },
  {
   "cell_type": "code",
   "execution_count": 21,
   "id": "1189a4c1-9037-40ea-9481-3876b3d4c9e7",
   "metadata": {
    "scrolled": true
   },
   "outputs": [
    {
     "name": "stdout",
     "output_type": "stream",
     "text": [
      "['0-4', '10-14', '15-17', '18-24', '25-29', '30-34', '35-39', '40-44', '45-49', '5-9', '50-54', '55-59', '60-64', '65-69', '70-74', '75-79', '80 y 80 y 80 y más', '80 y 80 y más', '80 y mãâs', 'No disponible']\n"
     ]
    }
   ],
   "source": [
    "print(sorted(df['rango_de_edad'].unique()))"
   ]
  },
  {
   "cell_type": "code",
   "execution_count": 22,
   "id": "9f0e03ad-3334-4f41-aab1-812584e057ea",
   "metadata": {},
   "outputs": [],
   "source": [
    "df['rango_de_edad'] = (\n",
    "    df['rango_de_edad']\n",
    "    .astype(str)\n",
    "    .str.lower()\n",
    "    .str.strip()\n",
    "    .str.replace(r'[^\\w\\s-]', '', regex=True)\n",
    "    .str.replace('años', '', regex=False)\n",
    ")\n",
    "\n",
    "df['rango_de_edad'] = df['rango_de_edad'].replace({\n",
    "    '80 y 80 y más': '80 y más',\n",
    "    '80 y 80 y 80 y más': '80 y más',\n",
    "    '80 y mãâs': '80 y más',\n",
    "    '80 y mas': '80 y más',\n",
    "    '80 y más años': '80 y más',\n",
    "    '80 y más ': '80 y más',\n",
    "})\n",
    "\n",
    "correcciones = {\n",
    "    'no disponible': 'No disponible',\n",
    "    'sin determinar': 'No disponible',\n",
    "    '05-09': '5-9',\n",
    "    '05-09 ': '5-9',\n",
    "    '5-9.': '5-9',\n",
    "    '5-9 ': '5-9',\n",
    "    ' 5-9': '5-9',\n",
    "    '10-14.': '10-14',\n",
    "    '10-14 ': '10-14',\n",
    "    ' 10-14': '10-14',\n",
    "    '10-14 años': '10-14',\n",
    "    '18-24 años': '18-24',\n",
    "    '25-29 años': '25-29',\n",
    "    '30-34 años': '30-34',\n",
    "    '35-39 años': '35-39',\n",
    "    '40-44 años': '40-44',\n",
    "    '45-49 años': '45-49',\n",
    "    '50-54 años': '50-54',\n",
    "    '55-59 años': '55-59',\n",
    "    '60-64 años': '60-64',\n",
    "    '65-69 años': '65-69',\n",
    "    '70-74 años': '70-74',\n",
    "    '75-79 años': '75-79',\n",
    "    '75-79 ': '75-79',\n",
    "    '35-39 ': '35-39',\n",
    "    '30-34 ': '30-34',\n",
    "    '18-24 ': '18-24',\n",
    "    '25-29 ': '25-29',\n",
    "    '40-44 ': '40-44',\n",
    "    '45-49 ': '45-49',\n",
    "    '50-54 ': '50-54',\n",
    "    '15-17 ': '15-17',\n",
    "    '0-4 ': '0-4',\n",
    "    '70-74 ': '70-74',\n",
    "    '65-69 ': '65-69',\n",
    "    '60-64 ': '60-64',\n",
    "    '55-59 ': '55-59',\n",
    "}\n",
    "\n",
    "df['rango_de_edad'] = df['rango_de_edad'].replace(correcciones)"
   ]
  },
  {
   "cell_type": "code",
   "execution_count": 23,
   "id": "7fdc27bb-70de-4bb0-84b6-43b36c2d74cc",
   "metadata": {},
   "outputs": [
    {
     "name": "stdout",
     "output_type": "stream",
     "text": [
      "['0-4', '10-14', '15-17', '18-24', '25-29', '30-34', '35-39', '40-44', '45-49', '5-9', '50-54', '55-59', '60-64', '65-69', '70-74', '75-79', '80 y más', 'No disponible']\n"
     ]
    }
   ],
   "source": [
    "print(sorted(df['rango_de_edad'].unique()))"
   ]
  },
  {
   "cell_type": "code",
   "execution_count": 33,
   "id": "b7fab50e-f1cf-48af-b3e6-7ed32ea4b18e",
   "metadata": {
    "scrolled": true
   },
   "outputs": [
    {
     "data": {
      "text/plain": [
       "array(['Arma de Fuego', 'No disponible', 'Arma Blanca',\n",
       "       'Objeto Contundente', 'asfixia mecánica', 'Incendiarismo',\n",
       "       'intoxicación', 'Golpes', 'Calcinado'], dtype=object)"
      ]
     },
     "execution_count": 33,
     "metadata": {},
     "output_type": "execute_result"
    }
   ],
   "source": [
    "df['tipo_de_arma_utilizada'].unique()"
   ]
  },
  {
   "cell_type": "code",
   "execution_count": 36,
   "id": "3c30259d-e74d-4785-a98b-25ceedb41ca9",
   "metadata": {},
   "outputs": [
    {
     "name": "stdout",
     "output_type": "stream",
     "text": [
      "['Arma Blanca', 'Arma de Fuego', 'Asfixia Mecánica', 'Calcinado', 'Golpes', 'Incendiarismo', 'Intoxicación', 'No disponible', 'Objeto Contundente']\n"
     ]
    }
   ],
   "source": [
    "# Normalizacion de armas\n",
    "\n",
    "df['tipo_de_arma_utilizada'] = (\n",
    "    df['tipo_de_arma_utilizada']\n",
    "    .astype(str)\n",
    "    .str.lower()\n",
    "    .str.strip()\n",
    "    .str.replace(r'[^\\w\\s-]', '', regex=True)\n",
    ")\n",
    "\n",
    "correcciones = {\n",
    "    'arma de fuego': 'Arma de Fuego',\n",
    "    'arma blanca': 'Arma Blanca',\n",
    "    'objeto contundente': 'Objeto Contundente',\n",
    "    'asfixia mecanica': 'Asfixia Mecánica', \n",
    "    'intoxicacion': 'Intoxicación',         \n",
    "    'golpes': 'Golpes',\n",
    "    'calcinado': 'Calcinado',\n",
    "    'incendiarismo': 'Incendiarismo',\n",
    "    'no disponible': 'No disponible',\n",
    "    'sin determinar': 'No disponible',\n",
    "    'asfixia mecanica': 'Asfixia Mecánica',\n",
    "    'asfixia mecánica': 'Asfixia Mecánica',\n",
    "    'intoxicacion': 'Intoxicación',\n",
    "    'intoxicación': 'Intoxicación'\n",
    "}\n",
    "\n",
    "# Paso 3: Aplicar correcciones\n",
    "df['tipo_de_arma_utilizada'] = df['tipo_de_arma_utilizada'].replace(correcciones)\n",
    "\n",
    "# Paso 4: Verifica el resultado\n",
    "print(sorted(df['tipo_de_arma_utilizada'].unique()))"
   ]
  },
  {
   "cell_type": "code",
   "execution_count": 37,
   "id": "356ee08e-7edc-4c53-b2a6-790ac8908e91",
   "metadata": {},
   "outputs": [
    {
     "data": {
      "text/plain": [
       "array(['San Miguelito', 'No disponible', nan], dtype=object)"
      ]
     },
     "execution_count": 37,
     "metadata": {},
     "output_type": "execute_result"
    }
   ],
   "source": [
    "df['distrito'].unique()"
   ]
  },
  {
   "cell_type": "code",
   "execution_count": 38,
   "id": "11e0aacc-de01-453b-a6ce-ee5ed10a5091",
   "metadata": {},
   "outputs": [],
   "source": [
    "df = df.drop('distrito', axis = 1)"
   ]
  },
  {
   "cell_type": "code",
   "execution_count": 39,
   "id": "de273b2b-a900-4c2c-9bbc-b0674c7f8cfc",
   "metadata": {},
   "outputs": [
    {
     "data": {
      "text/html": [
       "<div>\n",
       "<style scoped>\n",
       "    .dataframe tbody tr th:only-of-type {\n",
       "        vertical-align: middle;\n",
       "    }\n",
       "\n",
       "    .dataframe tbody tr th {\n",
       "        vertical-align: top;\n",
       "    }\n",
       "\n",
       "    .dataframe thead th {\n",
       "        text-align: right;\n",
       "    }\n",
       "</style>\n",
       "<table border=\"1\" class=\"dataframe\">\n",
       "  <thead>\n",
       "    <tr style=\"text-align: right;\">\n",
       "      <th></th>\n",
       "      <th>tipo_crimen</th>\n",
       "      <th>año</th>\n",
       "      <th>mes</th>\n",
       "      <th>provincia</th>\n",
       "      <th>sexo</th>\n",
       "      <th>rango_de_edad</th>\n",
       "      <th>tipo_de_arma_utilizada</th>\n",
       "      <th>provinia</th>\n",
       "    </tr>\n",
       "  </thead>\n",
       "  <tbody>\n",
       "    <tr>\n",
       "      <th>0</th>\n",
       "      <td>Homicidio</td>\n",
       "      <td>2017</td>\n",
       "      <td>Enero</td>\n",
       "      <td>Panamá</td>\n",
       "      <td>Masculino</td>\n",
       "      <td>30-34</td>\n",
       "      <td>Arma de Fuego</td>\n",
       "      <td>panama</td>\n",
       "    </tr>\n",
       "    <tr>\n",
       "      <th>1</th>\n",
       "      <td>Homicidio</td>\n",
       "      <td>2017</td>\n",
       "      <td>Enero</td>\n",
       "      <td>Panamá</td>\n",
       "      <td>Femenino</td>\n",
       "      <td>10-14</td>\n",
       "      <td>Arma de Fuego</td>\n",
       "      <td>panama</td>\n",
       "    </tr>\n",
       "    <tr>\n",
       "      <th>2</th>\n",
       "      <td>Homicidio</td>\n",
       "      <td>2017</td>\n",
       "      <td>Enero</td>\n",
       "      <td>Panamá</td>\n",
       "      <td>Masculino</td>\n",
       "      <td>30-34</td>\n",
       "      <td>Arma de Fuego</td>\n",
       "      <td>panama</td>\n",
       "    </tr>\n",
       "    <tr>\n",
       "      <th>3</th>\n",
       "      <td>Homicidio</td>\n",
       "      <td>2017</td>\n",
       "      <td>Enero</td>\n",
       "      <td>Panamá</td>\n",
       "      <td>Masculino</td>\n",
       "      <td>No disponible</td>\n",
       "      <td>Arma de Fuego</td>\n",
       "      <td>panama</td>\n",
       "    </tr>\n",
       "    <tr>\n",
       "      <th>4</th>\n",
       "      <td>Homicidio</td>\n",
       "      <td>2017</td>\n",
       "      <td>Enero</td>\n",
       "      <td>Panamá</td>\n",
       "      <td>Femenino</td>\n",
       "      <td>40-44</td>\n",
       "      <td>Arma de Fuego</td>\n",
       "      <td>panama</td>\n",
       "    </tr>\n",
       "  </tbody>\n",
       "</table>\n",
       "</div>"
      ],
      "text/plain": [
       "  tipo_crimen   año    mes provincia       sexo  rango_de_edad  \\\n",
       "0   Homicidio  2017  Enero    Panamá  Masculino          30-34   \n",
       "1   Homicidio  2017  Enero    Panamá   Femenino          10-14   \n",
       "2   Homicidio  2017  Enero    Panamá  Masculino          30-34   \n",
       "3   Homicidio  2017  Enero    Panamá  Masculino  No disponible   \n",
       "4   Homicidio  2017  Enero    Panamá   Femenino          40-44   \n",
       "\n",
       "  tipo_de_arma_utilizada provinia  \n",
       "0          Arma de Fuego   panama  \n",
       "1          Arma de Fuego   panama  \n",
       "2          Arma de Fuego   panama  \n",
       "3          Arma de Fuego   panama  \n",
       "4          Arma de Fuego   panama  "
      ]
     },
     "execution_count": 39,
     "metadata": {},
     "output_type": "execute_result"
    }
   ],
   "source": [
    "df.head()"
   ]
  },
  {
   "cell_type": "code",
   "execution_count": 41,
   "id": "2cce3938-a706-474e-8f80-c4faba21ac7c",
   "metadata": {},
   "outputs": [],
   "source": [
    "df.to_csv('dataset_unificado_normalizado.csv', index=False, encoding='utf-8')"
   ]
  },
  {
   "cell_type": "code",
   "execution_count": null,
   "id": "78885ea3-2f40-4979-a478-4b75cf3c9379",
   "metadata": {},
   "outputs": [],
   "source": []
  }
 ],
 "metadata": {
  "kernelspec": {
   "display_name": "Python 3 (ipykernel)",
   "language": "python",
   "name": "python3"
  },
  "language_info": {
   "codemirror_mode": {
    "name": "ipython",
    "version": 3
   },
   "file_extension": ".py",
   "mimetype": "text/x-python",
   "name": "python",
   "nbconvert_exporter": "python",
   "pygments_lexer": "ipython3",
   "version": "3.13.5"
  }
 },
 "nbformat": 4,
 "nbformat_minor": 5
}
