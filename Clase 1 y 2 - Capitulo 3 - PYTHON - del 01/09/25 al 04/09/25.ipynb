{
  "nbformat": 4,
  "nbformat_minor": 0,
  "metadata": {
    "colab": {
      "provenance": [],
      "authorship_tag": "ABX9TyMuh+vd4RHn3JBpy0lzSdq0",
      "include_colab_link": true
    },
    "kernelspec": {
      "name": "python3",
      "display_name": "Python 3"
    },
    "language_info": {
      "name": "python"
    }
  },
  "cells": [
    {
      "cell_type": "markdown",
      "metadata": {
        "id": "view-in-github",
        "colab_type": "text"
      },
      "source": [
        "<a href=\"https://colab.research.google.com/github/sadhub10/Colabs-de-Clases/blob/main/Clase%201%20y%202%20-%20Capitulo%203%20-%20PYTHON%20-%20del%2001/09/25%20al%2004/09/25.ipynb\" target=\"_parent\"><img src=\"https://colab.research.google.com/assets/colab-badge.svg\" alt=\"Open In Colab\"/></a>"
      ]
    },
    {
      "cell_type": "markdown",
      "source": [
        "# **FUNCIONES**"
      ],
      "metadata": {
        "id": "8DmZ0Aos7Rr8"
      }
    },
    {
      "cell_type": "markdown",
      "source": [
        "## Partes de la definición de una función:\n",
        "\n",
        "* Definición (def)\n",
        "* Nombre de la función\n",
        "* Parámetros\n",
        "* Cuerpo\n",
        "* Valor de retorno (return)"
      ],
      "metadata": {
        "id": "VhL2vilE9slY"
      }
    },
    {
      "cell_type": "code",
      "execution_count": null,
      "metadata": {
        "colab": {
          "base_uri": "https://localhost:8080/"
        },
        "id": "LdR1t5Ew7OTK",
        "outputId": "ee2542b9-b285-40c4-946b-45bf53a86473"
      },
      "outputs": [
        {
          "output_type": "stream",
          "name": "stdout",
          "text": [
            "Hola, Ana!\n"
          ]
        }
      ],
      "source": [
        "def saludar(nombre):  # 'nombre' es un parámetro\n",
        "    \"\"\"Esta función saluda a la persona con el nombre dado.\"\"\"\n",
        "    return f\"Hola, {nombre}!\" # Valor de retorno\n",
        "\n",
        "mensaje = saludar(\"Ana\")  # \"Ana\" es el argumento\n",
        "print(mensaje) # Salida: Hola, Ana!"
      ]
    },
    {
      "cell_type": "markdown",
      "source": [
        "## Partes de la llamada a una función:\n",
        "\n",
        "* Nombre de la función: El identificador que usas para invocar la función.\n",
        "* Argumentos: Los valores concretos que se pasan a los parámetros de la función."
      ],
      "metadata": {
        "id": "srSDkdom9lRh"
      }
    },
    {
      "cell_type": "markdown",
      "source": [
        "Parámetros y Argumentos"
      ],
      "metadata": {
        "id": "WFxEVyGi9b-i"
      }
    },
    {
      "cell_type": "code",
      "source": [
        "# Esta es la DEFINICIÓN de la función\n",
        "# 'base' y 'altura' son los PARÁMETROS\n",
        "def calcular_area_triangulo(base, altura):\n",
        "    area = 0.5 * base * altura\n",
        "    return area\n",
        "\n",
        "# Esta es la LLAMADA de la función\n",
        "# '10' y '5' son los ARGUMENTOS\n",
        "area_del_triangulo = calcular_area_triangulo(10, 5)\n",
        "\n",
        "print(area_del_triangulo)"
      ],
      "metadata": {
        "colab": {
          "base_uri": "https://localhost:8080/"
        },
        "id": "xXHM7YiS9fOH",
        "outputId": "4cea2161-4ce5-437e-da6c-52fb0fd7a607"
      },
      "execution_count": null,
      "outputs": [
        {
          "output_type": "stream",
          "name": "stdout",
          "text": [
            "25.0\n"
          ]
        }
      ]
    },
    {
      "cell_type": "markdown",
      "source": [
        "Ejemplos:\n",
        "\n"
      ],
      "metadata": {
        "id": "RXHlo1E_EYba"
      }
    },
    {
      "cell_type": "markdown",
      "source": [
        "### Ejemplo 1: Preparar una bebida\n",
        "**Imagina que eres un barista ☕️ y alguien te pide que le prepares un café.**\n",
        "\n",
        "* Definición: La receta para hacer el café.\n",
        "\n",
        "* Nombre de la función: preparar_cafe.\n",
        "\n",
        "* Parámetros: Los ingredientes que necesitas para la receta (por ejemplo, tipo_cafe, cantidad_leche).\n",
        "\n",
        "* Argumentos: Los valores específicos que el cliente te pide (por ejemplo, espresso, mucha_leche).\n",
        "\n",
        "* Cuerpo: Los pasos que sigues para preparar la bebida: calentar el agua, moler el café, etc.\n",
        "\n",
        "* Valor de retorno: El producto final, que es el café ya preparado que le entregas al cliente."
      ],
      "metadata": {
        "id": "V3fgFZB4Et4S"
      }
    },
    {
      "cell_type": "code",
      "source": [
        "def preparar_cafe(tipo_cafe, cantidad_leche): # 'tipo_cafe' y 'cantidad_leche' son los parámetros\n",
        "    print(f\"Preparando un {tipo_cafe} con {cantidad_leche}.\")\n",
        "    # Aquí irían los pasos (el cuerpo de la función)\n",
        "    return \"¡Aquí está tu café!\" # Valor de retorno\n",
        "\n",
        "# \"espresso\" y \"mucha leche\" son los argumentos\n",
        "cafe_listo = preparar_cafe(\"espresso\", \"mucha leche\")\n",
        "print(cafe_listo)"
      ],
      "metadata": {
        "colab": {
          "base_uri": "https://localhost:8080/"
        },
        "id": "6KWdkI4Q9Xxs",
        "outputId": "a794991e-f07b-4231-ee8f-2852abb4b94d"
      },
      "execution_count": null,
      "outputs": [
        {
          "output_type": "stream",
          "name": "stdout",
          "text": [
            "Preparando un espresso con mucha leche.\n",
            "¡Aquí está tu café!\n"
          ]
        }
      ]
    },
    {
      "cell_type": "markdown",
      "source": [
        "### Ejemplo 2: Calcular el área de un terreno\n",
        "**Imagina que eres un ingeniero y necesitas calcular el área de un terreno para un proyecto.**\n",
        "\n",
        "* Definición: El método matemático o la fórmula para calcular el área de un rectángulo.\n",
        "\n",
        "* Nombre de la función: calcular_area_rectangulo.\n",
        "\n",
        "* Parámetros: Las medidas generales que necesitas para la fórmula (largo, ancho).\n",
        "\n",
        "* Argumentos: Las medidas reales del terreno que estás midiendo (20 metros de largo, 15 metros de ancho).\n",
        "\n",
        "* Cuerpo: La operación matemática real que realizas: multiplicar largo por ancho.\n",
        "\n",
        "* Valor de retorno: El resultado del cálculo, que es el área total del terreno."
      ],
      "metadata": {
        "id": "OxeCYCkHGQvq"
      }
    },
    {
      "cell_type": "code",
      "source": [
        "def calcular_area_rectangulo(largo, ancho): # 'largo' y 'ancho' son los parámetros\n",
        "    \"\"\"\n",
        "    Calcula el área de un rectángulo.\n",
        "    \"\"\"\n",
        "    area = largo * ancho # El cuerpo de la función\n",
        "    return area # Valor de retorno\n",
        "\n",
        "# 20 y 15 son los argumentos\n",
        "area_terreno = calcular_area_rectangulo(20, 15)\n",
        "print(f\"El área del terreno es de {area_terreno} metros cuadrados.\")"
      ],
      "metadata": {
        "colab": {
          "base_uri": "https://localhost:8080/"
        },
        "id": "UZOtvIyBGGN-",
        "outputId": "f989b675-2af1-448d-f88f-5c3a75a35134"
      },
      "execution_count": null,
      "outputs": [
        {
          "output_type": "stream",
          "name": "stdout",
          "text": [
            "El área del terreno es de 300 metros cuadrados.\n"
          ]
        }
      ]
    },
    {
      "cell_type": "markdown",
      "source": [
        "## TIPOS DE PARÁMETROS\n",
        "En Python, existen varios tipos de parámetros que puedes usar en la definición de una función para darle flexibilidad y control sobre los datos que recibe. Aquí están los principales tipos:"
      ],
      "metadata": {
        "id": "hcQFH5cRO6Uq"
      }
    },
    {
      "cell_type": "markdown",
      "source": [
        "* #### Parámetros Posicionales Obligatorios\n",
        "Estos son los parámetros más comunes. Su orden es crucial porque Python asigna los argumentos a los parámetros basándose en su posición. Debes proporcionar un argumento para cada uno de ellos, de lo contrario, la función arrojará un error."
      ],
      "metadata": {
        "id": "CDuN56qgSkDo"
      }
    },
    {
      "cell_type": "code",
      "source": [
        "def restar(a, b):\n",
        "    return b - a\n",
        "\n",
        "restar(10, 6) # Correcto: a=10, b=6\n",
        "# restar(10)  # Incorrecto: Falta el segundo argumento"
      ],
      "metadata": {
        "colab": {
          "base_uri": "https://localhost:8080/"
        },
        "id": "zNjEK3nNSmU_",
        "outputId": "21d4ef71-3858-4991-ca8c-882948673e5f"
      },
      "execution_count": null,
      "outputs": [
        {
          "output_type": "execute_result",
          "data": {
            "text/plain": [
              "-4"
            ]
          },
          "metadata": {},
          "execution_count": 18
        }
      ]
    },
    {
      "cell_type": "markdown",
      "source": [
        "* #### Parámetros de Palabra Clave\n",
        "A diferencia de los posicionales, estos se pasan a la función especificando el nombre del parámetro. Esto te permite cambiar el orden de los argumentos al llamar la función, lo que puede mejorar la legibilidad del código."
      ],
      "metadata": {
        "id": "7CnD6TKoVBJF"
      }
    },
    {
      "cell_type": "code",
      "source": [
        "def restar(a, b):\n",
        "    return a - b\n",
        "restar(b=19 , a=6) # Correcto: el orden no importa"
      ],
      "metadata": {
        "colab": {
          "base_uri": "https://localhost:8080/"
        },
        "id": "zM_JuiKFVGUK",
        "outputId": "207db8b9-3d86-4de4-d877-4b763485e4ae"
      },
      "execution_count": null,
      "outputs": [
        {
          "output_type": "execute_result",
          "data": {
            "text/plain": [
              "-13"
            ]
          },
          "metadata": {},
          "execution_count": 20
        }
      ]
    },
    {
      "cell_type": "markdown",
      "source": [
        "* #### Parámetros por Defecto\n",
        "Estos parámetros tienen un valor predeterminado asignado en la definición de la función. Si no se proporciona un argumento para ellos al llamar la función, Python usará su valor por defecto. Esto hace que la función sea más flexible."
      ],
      "metadata": {
        "id": "boJC0d4OVTaN"
      }
    },
    {
      "cell_type": "code",
      "source": [
        "def saludar(nombre, mensaje=\"Hola\"):\n",
        "    return f\"{mensaje}, {nombre}!\"\n",
        "\n",
        "saludar(\"Ana\") # Usa el valor por defecto: \"Hola, Ana!\"\n",
        "saludar(\"Juan\", mensaje=\"Hola de nuevo\") # Sobrescribe el valor por defecto: \"Hola de nuevo, Ana!\""
      ],
      "metadata": {
        "colab": {
          "base_uri": "https://localhost:8080/",
          "height": 36
        },
        "id": "TnWRj31xVStd",
        "outputId": "d27f2f4e-1242-46fc-b5fa-ce7b9f9c54cb"
      },
      "execution_count": null,
      "outputs": [
        {
          "output_type": "execute_result",
          "data": {
            "text/plain": [
              "'Hola de nuevo, Juan!'"
            ],
            "application/vnd.google.colaboratory.intrinsic+json": {
              "type": "string"
            }
          },
          "metadata": {},
          "execution_count": 16
        }
      ]
    },
    {
      "cell_type": "markdown",
      "source": [],
      "metadata": {
        "id": "87b8TNu2VGm9"
      }
    },
    {
      "cell_type": "markdown",
      "source": [
        "## TIPOS DE ARGUMENTOS\n",
        "Python ofrece flexibilidad en cómo pasas los datos a una función:"
      ],
      "metadata": {
        "id": "cg3jKaleJZLn"
      }
    },
    {
      "cell_type": "markdown",
      "source": [
        "* ####  Argumentos posicionales: Se pasan en el orden en que se definen los parámetros."
      ],
      "metadata": {
        "id": "r079s2N6JfmG"
      }
    },
    {
      "cell_type": "code",
      "source": [
        "def restar(b, a):\n",
        "    return b - a\n",
        "print(restar(10, 20)) # '10' es a, '5' es b"
      ],
      "metadata": {
        "colab": {
          "base_uri": "https://localhost:8080/"
        },
        "id": "-ihm5ba2IeFH",
        "outputId": "6a54924a-b313-4147-b109-b1a84557ff22"
      },
      "execution_count": null,
      "outputs": [
        {
          "output_type": "stream",
          "name": "stdout",
          "text": [
            "-10\n"
          ]
        }
      ]
    },
    {
      "cell_type": "markdown",
      "source": [
        "* ####  Argumentos de palabra clave: Pasas los argumentos usando el nombre del parámetro, lo que permite un orden flexible y mejora la claridad."
      ],
      "metadata": {
        "id": "lp3oifvZKJ-G"
      }
    },
    {
      "cell_type": "code",
      "source": [
        "def restar(a, b):\n",
        "    return a - b\n",
        "print(restar(b=6 , a=4))  # El orden no importa"
      ],
      "metadata": {
        "colab": {
          "base_uri": "https://localhost:8080/"
        },
        "id": "YmmgIKwPIhJf",
        "outputId": "b4c66a09-3b6e-4d4e-9eaa-46de81a5dfc0"
      },
      "execution_count": null,
      "outputs": [
        {
          "output_type": "stream",
          "name": "stdout",
          "text": [
            "-2\n"
          ]
        }
      ]
    },
    {
      "cell_type": "markdown",
      "source": [
        "* ### Argumentos por defecto: Puedes asignar un valor predeterminado a un parámetro. Si no se proporciona un argumento, se usa el valor por defecto."
      ],
      "metadata": {
        "id": "hPsvkiihLiRe"
      }
    },
    {
      "cell_type": "code",
      "source": [
        "def saludar_con_idioma(nombre, idioma=\"es\"):\n",
        "    if idioma == \"es\":\n",
        "        return f\"Hola, {nombre}!\"\n",
        "    else:\n",
        "        return f\"Hello, {nombre}!\"\n",
        "\n",
        "print(saludar_con_idioma(\"María\")) # Usa el valor por defecto\n",
        "print(saludar_con_idioma(\"John\", idioma=\"en\"))"
      ],
      "metadata": {
        "colab": {
          "base_uri": "https://localhost:8080/"
        },
        "id": "Zbcmfu2nOdlE",
        "outputId": "4bd3f8c4-bc03-4668-acee-aa8f3bc01d8e"
      },
      "execution_count": null,
      "outputs": [
        {
          "output_type": "stream",
          "name": "stdout",
          "text": [
            "Hola, María!\n",
            "Hello, John!\n"
          ]
        }
      ]
    },
    {
      "cell_type": "markdown",
      "source": [
        "## SENTENCIA RETURN"
      ],
      "metadata": {
        "id": "LM8f6UU0dPCH"
      }
    },
    {
      "cell_type": "markdown",
      "source": [
        "La palabra clave return se usa en una función para terminar su ejecución y devolver un valor al lugar donde fue llamada. Si una función no tiene una sentencia return explícita, Python devuelve automáticamente el valor especial None."
      ],
      "metadata": {
        "id": "UH3_H8SedanH"
      }
    },
    {
      "cell_type": "code",
      "source": [
        "#Análogamente, imagina que una función es un trabajador al que le das una tarea.\n",
        "\n",
        "#Los parámetros son las herramientas que le das al trabajador.\n",
        "#El cuerpo de la función es la tarea que realiza el trabajador.\n",
        "return #es lo que el trabajador te entrega al final de la tarea.\n",
        "#Si le pides a un chef que hornee un pastel, el return es el pastel horneado que te entrega. Si le pides a un detective que encuentre una pista, el return es la pista que te reporta."
      ],
      "metadata": {
        "id": "W6lzSWrKeG-2"
      },
      "execution_count": null,
      "outputs": []
    },
    {
      "cell_type": "markdown",
      "source": [
        "## Puntos Claves"
      ],
      "metadata": {
        "id": "JBDqA8A5eZzG"
      }
    },
    {
      "cell_type": "markdown",
      "source": [
        "### 1. Terminación de la Función\n",
        "Cuando Python encuentra la palabra clave return, la función se detiene inmediatamente. Cualquier código que esté después de return no se ejecutará."
      ],
      "metadata": {
        "id": "jqmnB0a_ehev"
      }
    },
    {
      "cell_type": "code",
      "source": [
        "def mi_funcion():\n",
        "    print(\"¡Hola!\")\n",
        "    return \"Adiós\"\n",
        "    print(\"Este mensaje no se imprimirá.\") # Este código es inalcanzable\n",
        "\n",
        "valor = mi_funcion()\n",
        "print(valor)\n",
        "# Salida:\n",
        "# ¡Hola!\n",
        "# Adiós"
      ],
      "metadata": {
        "colab": {
          "base_uri": "https://localhost:8080/"
        },
        "id": "LJW3Y7XKemMu",
        "outputId": "99b39dcf-75f4-4558-eb63-4f684173ca4b"
      },
      "execution_count": null,
      "outputs": [
        {
          "output_type": "stream",
          "name": "stdout",
          "text": [
            "¡Hola!\n",
            "Adiós\n"
          ]
        }
      ]
    },
    {
      "cell_type": "markdown",
      "source": [
        "### 2. Devolución de Múltiples Valores\n",
        "Puedes usar return para devolver múltiples valores a la vez. Python los empaquetará automáticamente en una tupla."
      ],
      "metadata": {
        "id": "rmZeotQQevZV"
      }
    },
    {
      "cell_type": "code",
      "source": [
        "def get_datos_personales():\n",
        "    nombre = \"Ana\"\n",
        "    edad = 30\n",
        "    ciudad = \"Madrid\"\n",
        "    return nombre, edad, ciudad\n",
        "\n",
        "datos = get_datos_personales()\n",
        "print(datos) # Salida: ('Ana', 30, 'Madrid')"
      ],
      "metadata": {
        "colab": {
          "base_uri": "https://localhost:8080/"
        },
        "id": "7tK0RISWezdw",
        "outputId": "ddeebace-a959-4591-d55b-3815bbc59efa"
      },
      "execution_count": null,
      "outputs": [
        {
          "output_type": "stream",
          "name": "stdout",
          "text": [
            "('Ana', 30, 'Madrid')\n"
          ]
        }
      ]
    },
    {
      "cell_type": "markdown",
      "source": [
        "### 3. El Valor None\n",
        "Si una función no tiene una declaración return, o si return se usa sin un valor, la función devuelve implícitamente None. None es un tipo de dato en Python que representa la ausencia de un valor."
      ],
      "metadata": {
        "id": "6a0zoa8zgN5V"
      }
    },
    {
      "cell_type": "code",
      "source": [
        "def imprimir_mensaje(mensaje):\n",
        "    print(mensaje)\n",
        "    # No hay return\n",
        "\n",
        "resultado = imprimir_mensaje(\"¡Función sin return!\")\n",
        "print(resultado) # Salida: None"
      ],
      "metadata": {
        "colab": {
          "base_uri": "https://localhost:8080/"
        },
        "id": "RvM80AIsgPZ2",
        "outputId": "58568b7d-bc0e-46e2-9964-6bf74ec0c724"
      },
      "execution_count": null,
      "outputs": [
        {
          "output_type": "stream",
          "name": "stdout",
          "text": [
            "¡Función sin return!\n",
            "None\n"
          ]
        }
      ]
    },
    {
      "cell_type": "markdown",
      "source": [
        "# **FUNCIÓN CLOSURE**"
      ],
      "metadata": {
        "id": "AL5UyppVfRve"
      }
    },
    {
      "cell_type": "code",
      "source": [
        "def cierre_calculo(a=2):\n",
        "    a = 2\n",
        "    def mult(x):\n",
        "        return a * x\n",
        "    return mult\n",
        "\n",
        "c = cierre_calc()\n",
        "print(c(10), c(5), c(3))\n"
      ],
      "metadata": {
        "colab": {
          "base_uri": "https://localhost:8080/"
        },
        "id": "ZYj31xZYSy2l",
        "outputId": "3873e9e5-92b5-4ff5-cc7c-4bddb13cea58"
      },
      "execution_count": null,
      "outputs": [
        {
          "output_type": "stream",
          "name": "stdout",
          "text": [
            "20 10 6\n"
          ]
        }
      ]
    },
    {
      "cell_type": "markdown",
      "source": [
        "Un closure es una función anidada que \"recuerda\" y tiene acceso a las variables de la función exterior que la creó, incluso después de que la función exterior ha terminado de ejecutarse."
      ],
      "metadata": {
        "id": "afpGu_dhpOtq"
      }
    },
    {
      "cell_type": "markdown",
      "source": [
        "#### **Analogía del Mensajero Privado:**\n",
        "\n",
        "Imagina que tienes una oficina (función exterior) y quieres enviar un mensaje (función anidada) a alguien. En lugar de darle el mensaje y que se vaya, le das el mensaje y un documento importante (variable del entorno) que necesita para entregarlo. El mensajero tiene ese documento en su poder, incluso cuando tu oficina ya ha cerrado. Ese documento es el closure."
      ],
      "metadata": {
        "id": "rbSn3F9kfYsd"
      }
    },
    {
      "cell_type": "markdown",
      "source": [
        "#### **Analogía del Fotógrafo de Bodas 📸**\n",
        "\n",
        "Imagina que eres un fotógrafo de bodas (función exterior). Tienes una cámara, lentes y un asistente. Antes de que la pareja se vaya, les dices que te gustaría enviarles un álbum de fotos especial después de la luna de miel. Les pides que te den su dirección (variable del entorno) y la apuntas en un pequeño cuaderno.\n",
        "\n",
        "Tu oficina (función exterior): El lugar donde organizas el trabajo y donde existe la dirección de los novios.\n",
        "\n",
        "El álbum (función anidada): Es lo que vas a crear y enviar después.\n",
        "\n",
        "La dirección de los novios (variable del entorno): Es un dato crucial que solo existe en tu oficina.\n",
        "\n",
        "Cuando terminas de fotografiar la boda, tu oficina cierra (la función exterior termina de ejecutarse). Sin embargo, el asistente que se encargará de enviar el álbum se lleva consigo el cuaderno con la dirección. La existencia de ese cuaderno con la dirección es el closure. El asistente (la función anidada) tiene acceso a la dirección (la variable del entorno) incluso cuando tu oficina ya no está operando.\n",
        "\n",
        "Así, el closure es ese \"paquete de memoria\" que la función interna mantiene de la función externa, permitiéndole operar con datos que ya no están en su ámbito inmediato."
      ],
      "metadata": {
        "id": "p9_atGOigwPl"
      }
    },
    {
      "cell_type": "markdown",
      "source": [
        "### 1. Funciones: \"La Máquina de Hacer Jugo\" 🍹"
      ],
      "metadata": {
        "id": "c4ZXUO3sibiJ"
      }
    },
    {
      "cell_type": "code",
      "source": [
        "# Definición de la función 'hacer_jugo'\n",
        "# 'fruta' y 'azucar' son los parámetros (los ingredientes de nuestra receta)\n",
        "def hacer_jugo(fruta, azucar_cucharadas):\n",
        "    # El cuerpo de la función: los pasos para hacer el jugo\n",
        "    print(f\"Mezclando {fruta} con {azucar_cucharadas} cucharadas de azúcar.\")\n",
        "\n",
        "    # La sentencia 'return': el producto final\n",
        "    return f\"Aquí está tu jugo de {fruta}.\"\n",
        "\n",
        "# Llamada a la función\n",
        "# \"naranja\" y 2 son los argumentos (los valores concretos que pasamos)\n",
        "jugo_listo = hacer_jugo(\"naranja\", 2)\n",
        "\n",
        "# Usamos el valor que la función nos devolvió\n",
        "print(jugo_listo)"
      ],
      "metadata": {
        "colab": {
          "base_uri": "https://localhost:8080/"
        },
        "id": "Ijw_oNJrhn1V",
        "outputId": "e8cfe2f4-00c1-4f34-f730-df43bbfcf27c"
      },
      "execution_count": null,
      "outputs": [
        {
          "output_type": "stream",
          "name": "stdout",
          "text": [
            "Mezclando naranja con 2 cucharadas de azúcar.\n",
            "Aquí está tu jugo de naranja.\n"
          ]
        }
      ]
    },
    {
      "cell_type": "markdown",
      "source": [
        "### 2. Closures: \"El Fotógrafo que Recuerda tu Nombre\" 📸"
      ],
      "metadata": {
        "id": "bVlUfLdBimWK"
      }
    },
    {
      "cell_type": "code",
      "source": [
        "def contratar_fotografo(nombre_cliente):\n",
        "    \"\"\"\n",
        "    Función exterior (el fotógrafo) que recibe el nombre del cliente.\n",
        "    'nombre_cliente' es la variable del entorno que el closure \"recuerda\".\n",
        "    \"\"\"\n",
        "\n",
        "    def tomar_foto(evento):\n",
        "        \"\"\"\n",
        "        Función anidada (el closure) que toma la foto.\n",
        "        Tiene acceso a 'nombre_cliente' incluso fuera de su función original.\n",
        "        \"\"\"\n",
        "        return f\"Foto de {evento} tomada para {nombre_cliente}.\"\n",
        "\n",
        "    # La función exterior retorna la función anidada (el closure)\n",
        "    return tomar_foto\n",
        "\n",
        "# 'fotografo_para_laura' es ahora nuestro closure\n",
        "fotografo_para_laura = contratar_fotografo(\"Laura\")\n",
        "\n",
        "# Llamamos al closure, que recuerda el nombre \"Laura\"\n",
        "print(fotografo_para_laura(\"la boda\"))\n",
        "# Salida: Foto de la boda tomada para Laura."
      ],
      "metadata": {
        "colab": {
          "base_uri": "https://localhost:8080/"
        },
        "id": "jUsqxvicik4B",
        "outputId": "27f888c5-bc95-4b49-dc4b-32801d46fb18"
      },
      "execution_count": null,
      "outputs": [
        {
          "output_type": "stream",
          "name": "stdout",
          "text": [
            "Foto de la boda tomada para Laura.\n"
          ]
        }
      ]
    },
    {
      "cell_type": "markdown",
      "source": [
        "Los closures son importantes en Python porque te permiten crear funciones que son más flexibles, poderosas y fáciles de reutilizar. Son la base de conceptos avanzados como los decoradores y las funciones de fábrica.\n",
        "\n",
        "1. Encapsulamiento de Datos\n",
        "Con un closure, puedes \"encapsular\" datos dentro de una función, de forma similar a como lo harías con una clase. La función exterior oculta el dato y la función interior lo usa. Esto te permite crear objetos de función que mantienen su propio estado privado.\n",
        "\n",
        "2. Creación de Funciones a Medida\n",
        "Puedes usar closures para crear funciones personalizadas al vuelo. Por ejemplo, en el caso del fotógrafo, no creaste una función tomar_foto genérica, sino una versión especializada para un cliente específico. Esto es muy útil cuando necesitas generar muchas funciones con ligeras variaciones.\n",
        "\n",
        "3. Implementación de Decoradores\n",
        "Los decoradores de Python, que se usan para modificar o extender el comportamiento de otras funciones, están construidos sobre closures. Sin los closures, los decoradores no existirían como los conocemos."
      ],
      "metadata": {
        "id": "iqF9Faj9pjVy"
      }
    },
    {
      "cell_type": "markdown",
      "source": [
        "# **POO**"
      ],
      "metadata": {
        "id": "0dW009g2wX5b"
      }
    },
    {
      "cell_type": "markdown",
      "source": [
        "**La POO se basa en dos conceptos principales: clases y objetos.**\n",
        "\n",
        "Clases: Una clase es la plantilla o \"plano\" para crear objetos. Define la estructura de datos (atributos) y las funciones (métodos) que un objeto de esa clase tendrá. Piensa en una clase como el plano para construir un automóvil: especifica que tendrá ruedas, un motor y un color, y que podrá acelerar o frenar.\n",
        "\n",
        "Objetos: Un objeto es una instancia de una clase. Es la realización concreta del plano. Siguiendo la analogía del coche, un objeto sería tu automóvil específico: un \"Tesla Modelo S\" de color rojo. Cada objeto tiene sus propios datos (sus atributos) pero comparte la misma estructura definida por la clase."
      ],
      "metadata": {
        "id": "Vi_xDcbIxeoe"
      }
    },
    {
      "cell_type": "markdown",
      "source": [
        "####**Analogía de la Receta de Galletas 🍪:**\n",
        "\n",
        "La clase es la receta del pastel: es el plano o las instrucciones que te dicen qué ingredientes usar y cómo mezclar. El objeto es el pastel terminado: es una instancia real y tangible creada a partir de esa receta. ."
      ],
      "metadata": {
        "id": "vzDeIFhHxukl"
      }
    },
    {
      "cell_type": "code",
      "source": [
        "# La clase es la plantilla\n",
        "class Coche:\n",
        "    def __init__(self, marca, modelo):\n",
        "        self.marca = marca\n",
        "        self.modelo = modelo\n",
        "\n",
        "    def conducir(self, distancia):\n",
        "        print(f\"El {self.marca} {self.modelo} ha recorrido {distancia} km.\")\n",
        "\n",
        "# El objeto es la instancia concreta de la clase\n",
        "mi_coche = Coche(\"Tesla\", \"Model 3\")\n",
        "mi_coche.conducir(100)"
      ],
      "metadata": {
        "colab": {
          "base_uri": "https://localhost:8080/"
        },
        "id": "1E68OoBvyfKB",
        "outputId": "890fa966-8dc9-4e85-e99f-8ba7ce76aded"
      },
      "execution_count": null,
      "outputs": [
        {
          "output_type": "stream",
          "name": "stdout",
          "text": [
            "El Tesla Model 3 ha recorrido 100 km.\n"
          ]
        }
      ]
    },
    {
      "cell_type": "markdown",
      "source": [
        "## **Encapsulamiento**\n",
        "El encapsulamiento es el principio de agrupar los datos y los métodos que operan sobre esos datos en una sola unidad (la clase). Esto oculta los detalles de implementación y protege los datos del acceso externo no deseado.\n",
        "\n",
        "Analogía: Un control remoto es un ejemplo de encapsulamiento. Tú solo usas los botones (métodos) para cambiar el volumen. No necesitas entender los circuitos internos (datos), los cuales están protegidos de tu manipulación directa."
      ],
      "metadata": {
        "id": "OcnxCbps5S-K"
      }
    },
    {
      "cell_type": "markdown",
      "source": [
        "### **Herencia**\n",
        "La herencia es la capacidad de una clase de adquirir atributos y métodos de otra clase. Esto permite la reutilización de código y la creación de una jerarquía de clases.\n",
        "\n",
        "Analogía: La herencia biológica. Un Perro hereda las características básicas de un Animal (como respirar), pero también tiene sus propias características únicas (ladrar)."
      ],
      "metadata": {
        "id": "059W2btW4_ca"
      }
    },
    {
      "cell_type": "code",
      "source": [
        "class Animal:\n",
        "    def respirar(self):\n",
        "        print(\"Estoy respirando.\")\n",
        "\n",
        "class Perro(Animal):  # Perro hereda de Animal\n",
        "    def ladrar(self):\n",
        "        print(\"¡Guau!\")\n",
        "\n",
        "mi_perro = Perro()\n",
        "mi_perro.respirar()  # Método heredado\n",
        "mi_perro.ladrar()    # Método propio"
      ],
      "metadata": {
        "colab": {
          "base_uri": "https://localhost:8080/"
        },
        "id": "VoiBWYUr3R0s",
        "outputId": "149d6290-4692-41b5-d588-49979810d960"
      },
      "execution_count": null,
      "outputs": [
        {
          "output_type": "stream",
          "name": "stdout",
          "text": [
            "Estoy respirando.\n",
            "¡Guau!\n"
          ]
        }
      ]
    },
    {
      "cell_type": "markdown",
      "source": [
        "## Relación:\n",
        "POO: Es el plano general para construir tus objetos. Te dice que un objeto Coche tendrá atributos como marca y un método como conducir.\n",
        "\n",
        "Métodos Dunder: Son las reglas especiales que le dan \"súper poderes\" a esos objetos. Por ejemplo, si quieres que tus objetos Coche puedan ser comparados o impresos de forma legible, usas métodos dunder para definir ese comportamiento."
      ],
      "metadata": {
        "id": "ofxtelIA36Bj"
      }
    },
    {
      "cell_type": "markdown",
      "source": [
        "## **MÉTODOS DUNDER (__...__)**\n",
        "\n",
        "Los métodos dunder te permiten definir cómo se comporta tu clase con operadores de Python, como + o ==, y con funciones integradas como print()."
      ],
      "metadata": {
        "id": "0b9v3yfiZkXS"
      }
    },
    {
      "cell_type": "markdown",
      "source": [
        "### __init__ (El Constructor)\n",
        "El método __init__ es un constructor. Se llama automáticamente cuando creas una nueva instancia de una clase. Su propósito principal es inicializar los atributos del objeto con los valores que le pasas. El parámetro self se refiere a la instancia que se está creando."
      ],
      "metadata": {
        "id": "0hcxoAQpbEBo"
      }
    },
    {
      "cell_type": "code",
      "source": [
        "class Coche:\n",
        "    def __init__(self, marca, modelo):\n",
        "        self.marca = marca\n",
        "        self.modelo = modelo\n",
        "\n",
        "# Al crear el objeto, __init__ se ejecuta automáticamente\n",
        "mi_coche = Coche(\"Tesla\", \"Model 3\")\n",
        "print(mi_coche.marca)  # Salida: Tesla\n",
        "print(mi_coche.modelo)\n",
        " # Salida: Model 3"
      ],
      "metadata": {
        "colab": {
          "base_uri": "https://localhost:8080/"
        },
        "id": "fTEZUylbbDoq",
        "outputId": "5159ed2e-d3f7-4fd4-d646-07befb8c4be9"
      },
      "execution_count": null,
      "outputs": [
        {
          "output_type": "stream",
          "name": "stdout",
          "text": [
            "Tesla\n",
            "Model 3\n"
          ]
        }
      ]
    },
    {
      "cell_type": "markdown",
      "source": [
        "### __str__ (Representación en String)\n",
        "El método __str__ te permite definir una representación de tu objeto en forma de cadena de texto, lo que es muy útil para depurar o simplemente para imprimir información legible sobre el objeto. Se llama automáticamente cuando usas la función print() o str() con tu objeto.\n",
        "\n",
        "Ejemplo de implementación:"
      ],
      "metadata": {
        "id": "uiwJhpdzbeaI"
      }
    },
    {
      "cell_type": "code",
      "source": [
        "class Persona:\n",
        "    def __init__(self, nombre, edad):\n",
        "        self.nombre = nombre\n",
        "        self.edad = edad\n",
        "\n",
        "    def __str__(self):\n",
        "        return f\"Persona: {self.nombre}, {self.edad} años\"\n",
        "\n",
        "persona1 = Persona(\"Ana\", 30)\n",
        "print(persona1)  # Salida: Persona: Ana, 30 años"
      ],
      "metadata": {
        "colab": {
          "base_uri": "https://localhost:8080/"
        },
        "id": "lCf5JCcNVkRJ",
        "outputId": "b1698bd4-044e-4229-db4a-2d72970742e2"
      },
      "execution_count": null,
      "outputs": [
        {
          "output_type": "stream",
          "name": "stdout",
          "text": [
            "Persona: Ana, 30 años\n"
          ]
        }
      ]
    },
    {
      "cell_type": "code",
      "source": [
        "class Coche:\n",
        "    def __init__(self, marca, modelo):\n",
        "        self.marca = marca\n",
        "        self.modelo = modelo\n",
        "\n",
        "mi_coche = Coche(\"Ford\", \"Focus\")\n",
        "print(mi_coche)  # Salida: Coche: Ford Focus"
      ],
      "metadata": {
        "colab": {
          "base_uri": "https://localhost:8080/"
        },
        "id": "ZFcN5fs1brJA",
        "outputId": "ef69faea-1381-49f8-8690-903c50d339a0"
      },
      "execution_count": null,
      "outputs": [
        {
          "output_type": "stream",
          "name": "stdout",
          "text": [
            "<__main__.Coche object at 0x7892ac20e720>\n"
          ]
        }
      ]
    },
    {
      "cell_type": "markdown",
      "source": [
        "## OTROS MÉTODOS DOUNDER COMUNES\n",
        "Hay muchos otros métodos dunder que puedes implementar para hacer que tus clases se comporten de maneras específicas."
      ],
      "metadata": {
        "id": "RyIe-Jzmccxa"
      }
    },
    {
      "cell_type": "markdown",
      "source": [
        "### __repr__ (Representación del Desarrollador)\n",
        "Similar a __str__, pero su objetivo es dar una representación inequívoca del objeto que, idealmente, se podría usar para recrear la instancia. Se usa para la depuración y es la representación por defecto si __str__ no está definido."
      ],
      "metadata": {
        "id": "77uKj9kbceov"
      }
    },
    {
      "cell_type": "code",
      "source": [
        "class Punto:\n",
        "    def __init__(self, x, y):\n",
        "        self.x = x\n",
        "        self.y = y\n",
        "\n",
        "    def __repr__(self):\n",
        "        return f\"Punto(x={self.x}, y={self.y})\"\n",
        "\n",
        "p = Punto(6, 4)\n",
        "print(repr(p))  # Salida: Punto(x=3, y=4)"
      ],
      "metadata": {
        "colab": {
          "base_uri": "https://localhost:8080/"
        },
        "id": "mTd6CMmachdh",
        "outputId": "b3a8e3cb-f43c-4300-b1e1-56a16df26e44"
      },
      "execution_count": null,
      "outputs": [
        {
          "output_type": "stream",
          "name": "stdout",
          "text": [
            "Punto(x=6, y=4)\n"
          ]
        }
      ]
    },
    {
      "cell_type": "markdown",
      "source": [
        "### __len__ (Longitud)\n",
        "Este método permite que tu objeto sea compatible con la función len(). Es ideal para clases que son colecciones de datos, como una lista o un diccionario."
      ],
      "metadata": {
        "id": "qW5F5pUJcpTX"
      }
    },
    {
      "cell_type": "code",
      "source": [
        "class Pila:\n",
        "    def __init__(self):\n",
        "        self.items = []\n",
        "\n",
        "    def __len__(self):\n",
        "        return len(self.items)\n",
        "\n",
        "    def _push(self, item):\n",
        "        self.items.append(item)\n",
        "\n",
        "pila = Pila()\n",
        "pila._push(10)\n",
        "pila._push(20)\n",
        "pila._push(30)\n",
        "pila._push(60)\n",
        "print(len(pila))  # Salida: 2"
      ],
      "metadata": {
        "colab": {
          "base_uri": "https://localhost:8080/"
        },
        "id": "itR-0ygJcpLH",
        "outputId": "b0ce6b1f-8692-42d3-8f61-2342aaa6188c"
      },
      "execution_count": null,
      "outputs": [
        {
          "output_type": "stream",
          "name": "stdout",
          "text": [
            "4\n"
          ]
        }
      ]
    },
    {
      "cell_type": "markdown",
      "source": [
        "### __eq__ (Comparación de Igualdad)\n",
        "Este método te permite definir cómo se comparan dos objetos de tu clase con el operador ==.\n",
        "\n",
        "Ejemplo de implementación:"
      ],
      "metadata": {
        "id": "-1og1qfvcl_4"
      }
    },
    {
      "cell_type": "code",
      "source": [
        "class Coche:\n",
        "    def __init__(self, marca, modelo):\n",
        "        self.marca = marca\n",
        "        self.modelo = modelo\n",
        "\n",
        "    def __eq__(self, otro):\n",
        "        # Dos coches son iguales si su marca y modelo son los mismos\n",
        "        return self.marca == otro.marca and self.modelo == otro.modelo\n",
        "\n",
        "coche1 = Coche(\"Bmw\", \"Model 5\")\n",
        "coche2 = Coche(\"Bmw\", \"Model 5\")\n",
        "coche3 = Coche(\"Rold Royce\", \"Model 1\")\n",
        "\n",
        "print(coche1 == coche2)\n",
        "print(coche1 == coche3)"
      ],
      "metadata": {
        "colab": {
          "base_uri": "https://localhost:8080/"
        },
        "id": "NJSSkTGSmDkA",
        "outputId": "6db876cf-8b36-4bcc-ea07-476cfb7e1907"
      },
      "execution_count": null,
      "outputs": [
        {
          "output_type": "stream",
          "name": "stdout",
          "text": [
            "True\n",
            "False\n"
          ]
        }
      ]
    },
    {
      "cell_type": "markdown",
      "source": [
        "### __add__ (Suma)\n",
        "Este método te permite definir cómo se comporta el operador + con tu clase, lo que puede ser útil para combinar objetos.\n",
        "\n",
        "Ejemplo de implementación:"
      ],
      "metadata": {
        "id": "cxPsiKpfmLT5"
      }
    },
    {
      "cell_type": "code",
      "source": [
        "class Vector:\n",
        "    def __init__(self, x, y , L):\n",
        "        self.x = x\n",
        "        self.y = y\n",
        "        self.L = L\n",
        "\n",
        "    def __add__(self, otro):\n",
        "        # Suma las componentes de dos vectores\n",
        "        return Vector(self.x + otro.x , self.y + otro.y , self.L + otro.L)\n",
        "\n",
        "    def __str__(self):\n",
        "        return f\"({self.x}, {self.y}, {self.L})\"\n",
        "\n",
        "v1 = Vector(2, 3, 1)\n",
        "v2 = Vector(6, 5, 2)\n",
        "v3 = v1 + v2\n",
        "v4 = v1 + v2 + v3\n",
        "v5 = v1 + v2 + v3 + v4\n",
        "print(v3)\n",
        "print(v5)"
      ],
      "metadata": {
        "colab": {
          "base_uri": "https://localhost:8080/"
        },
        "id": "tAw0zGQmmPaw",
        "outputId": "461c96c5-48b9-445c-dd46-05e4ada0601a"
      },
      "execution_count": null,
      "outputs": [
        {
          "output_type": "stream",
          "name": "stdout",
          "text": [
            "(8, 8, 3)\n",
            "(32, 32, 12)\n"
          ]
        }
      ]
    }
  ]
}